{
 "cells": [
  {
   "cell_type": "code",
   "execution_count": 1,
   "id": "initial_id",
   "metadata": {
    "collapsed": true,
    "ExecuteTime": {
     "end_time": "2023-08-22T08:44:36.631001Z",
     "start_time": "2023-08-22T08:44:36.454289Z"
    }
   },
   "outputs": [],
   "source": [
    "## Importing libraries\n",
    "import pandas as pd\n",
    "import numpy as np\n",
    "from sklearn.metrics import classification_report\n",
    "from sklearn.ensemble import HistGradientBoostingRegressor\n",
    "from sklearn.model_selection import train_test_split\n",
    "import matplotlib.pyplot as plt\n",
    "from sklearn.metrics import mean_squared_error as mse\n",
    "from sklearn.metrics import r2_score\n",
    "from sklearn.metrics import accuracy_score\n",
    "import seaborn as sns\n",
    "from sklearn.model_selection import KFold, cross_val_score"
   ]
  },
  {
   "cell_type": "code",
   "execution_count": 2,
   "outputs": [
    {
     "data": {
      "text/plain": "         price                           address                  city  \\\n0      1275000                   Strandparken 46  Vest- og Sydsjælland   \n1      5095000  Kalkbrænderihavnsgade 4A, 1. tv.        Byen København   \n2     14750000            Niels Andersens Vej 56      Københavns omegn   \n3      4498000     Helga Pedersens Gade 1, 2. 3.            Østjylland   \n4      2850000                    Nøddevænget 20            Sydjylland   \n...        ...                               ...                   ...   \n3645   1750000        Prins Haralds Allé 101, 1.                   Fyn   \n3646    990000                       Nissumvej 4           Vestjylland   \n3647   1695000                    Baunetoften 12          Nordsjælland   \n3648    650000                        Aalevej 40            Østjylland   \n3649   8500000                 Vestre Skovvej 30            Østjylland   \n\n                type  saledays         energy  living_space  ground_space  \\\n0       Holiday home     202.0  Energimærke D         170.0        1019.0   \n1          Apartment       0.0  Energimærke A          94.0           0.0   \n2              Villa     255.0  Energimærke E         248.0         984.0   \n3          Apartment       7.0  Energimærke B         107.0           0.0   \n4              Villa       0.0  Energimærke C         163.0         858.0   \n...              ...       ...            ...           ...           ...   \n3645           Villa      48.0  Energimærke G         109.0         506.0   \n3646    Holiday home      48.0  Energimærke C         117.0         800.0   \n3647  Terraced house     240.0  Energimærke C          86.0         103.0   \n3648           Villa      48.0  Energimærke D          79.0         829.0   \n3649  Terraced house      48.0  Energimærke A         133.0         129.0   \n\n      rooms  owner_expenses  ...  Byen København  Fyn Københavns omegn  \\\n0       2.0           2.598  ...               0    0                0   \n1       3.0           2.389  ...               1    0                0   \n2       8.0           8.643  ...               0    0                1   \n3       3.0           3.849  ...               0    0                0   \n4       5.0           3.343  ...               0    0                0   \n...     ...             ...  ...             ...  ...              ...   \n3645    3.0           1.922  ...               0    1                0   \n3646    3.0           1.566  ...               0    0                0   \n3647    4.0           2.184  ...               0    0                0   \n3648    3.0           1.464  ...               0    0                0   \n3649    5.0           4.615  ...               0    0                0   \n\n      Nordjylland  Nordsjælland  Sydjylland  Vest- og Sydsjælland  \\\n0               0             0           0                     1   \n1               0             0           0                     0   \n2               0             0           0                     0   \n3               0             0           0                     0   \n4               0             0           1                     0   \n...           ...           ...         ...                   ...   \n3645            0             0           0                     0   \n3646            0             0           0                     0   \n3647            0             1           0                     0   \n3648            0             0           0                     0   \n3649            0             0           0                     0   \n\n      Vestjylland  Østjylland  Østsjælland  \n0               0           0            0  \n1               0           0            0  \n2               0           0            0  \n3               0           1            0  \n4               0           0            0  \n...           ...         ...          ...  \n3645            0           0            0  \n3646            1           0            0  \n3647            0           0            0  \n3648            0           1            0  \n3649            0           1            0  \n\n[3650 rows x 47 columns]",
      "text/html": "<div>\n<style scoped>\n    .dataframe tbody tr th:only-of-type {\n        vertical-align: middle;\n    }\n\n    .dataframe tbody tr th {\n        vertical-align: top;\n    }\n\n    .dataframe thead th {\n        text-align: right;\n    }\n</style>\n<table border=\"1\" class=\"dataframe\">\n  <thead>\n    <tr style=\"text-align: right;\">\n      <th></th>\n      <th>price</th>\n      <th>address</th>\n      <th>city</th>\n      <th>type</th>\n      <th>saledays</th>\n      <th>energy</th>\n      <th>living_space</th>\n      <th>ground_space</th>\n      <th>rooms</th>\n      <th>owner_expenses</th>\n      <th>...</th>\n      <th>Byen København</th>\n      <th>Fyn</th>\n      <th>Københavns omegn</th>\n      <th>Nordjylland</th>\n      <th>Nordsjælland</th>\n      <th>Sydjylland</th>\n      <th>Vest- og Sydsjælland</th>\n      <th>Vestjylland</th>\n      <th>Østjylland</th>\n      <th>Østsjælland</th>\n    </tr>\n  </thead>\n  <tbody>\n    <tr>\n      <th>0</th>\n      <td>1275000</td>\n      <td>Strandparken 46</td>\n      <td>Vest- og Sydsjælland</td>\n      <td>Holiday home</td>\n      <td>202.0</td>\n      <td>Energimærke D</td>\n      <td>170.0</td>\n      <td>1019.0</td>\n      <td>2.0</td>\n      <td>2.598</td>\n      <td>...</td>\n      <td>0</td>\n      <td>0</td>\n      <td>0</td>\n      <td>0</td>\n      <td>0</td>\n      <td>0</td>\n      <td>1</td>\n      <td>0</td>\n      <td>0</td>\n      <td>0</td>\n    </tr>\n    <tr>\n      <th>1</th>\n      <td>5095000</td>\n      <td>Kalkbrænderihavnsgade 4A, 1. tv.</td>\n      <td>Byen København</td>\n      <td>Apartment</td>\n      <td>0.0</td>\n      <td>Energimærke A</td>\n      <td>94.0</td>\n      <td>0.0</td>\n      <td>3.0</td>\n      <td>2.389</td>\n      <td>...</td>\n      <td>1</td>\n      <td>0</td>\n      <td>0</td>\n      <td>0</td>\n      <td>0</td>\n      <td>0</td>\n      <td>0</td>\n      <td>0</td>\n      <td>0</td>\n      <td>0</td>\n    </tr>\n    <tr>\n      <th>2</th>\n      <td>14750000</td>\n      <td>Niels Andersens Vej 56</td>\n      <td>Københavns omegn</td>\n      <td>Villa</td>\n      <td>255.0</td>\n      <td>Energimærke E</td>\n      <td>248.0</td>\n      <td>984.0</td>\n      <td>8.0</td>\n      <td>8.643</td>\n      <td>...</td>\n      <td>0</td>\n      <td>0</td>\n      <td>1</td>\n      <td>0</td>\n      <td>0</td>\n      <td>0</td>\n      <td>0</td>\n      <td>0</td>\n      <td>0</td>\n      <td>0</td>\n    </tr>\n    <tr>\n      <th>3</th>\n      <td>4498000</td>\n      <td>Helga Pedersens Gade 1, 2. 3.</td>\n      <td>Østjylland</td>\n      <td>Apartment</td>\n      <td>7.0</td>\n      <td>Energimærke B</td>\n      <td>107.0</td>\n      <td>0.0</td>\n      <td>3.0</td>\n      <td>3.849</td>\n      <td>...</td>\n      <td>0</td>\n      <td>0</td>\n      <td>0</td>\n      <td>0</td>\n      <td>0</td>\n      <td>0</td>\n      <td>0</td>\n      <td>0</td>\n      <td>1</td>\n      <td>0</td>\n    </tr>\n    <tr>\n      <th>4</th>\n      <td>2850000</td>\n      <td>Nøddevænget 20</td>\n      <td>Sydjylland</td>\n      <td>Villa</td>\n      <td>0.0</td>\n      <td>Energimærke C</td>\n      <td>163.0</td>\n      <td>858.0</td>\n      <td>5.0</td>\n      <td>3.343</td>\n      <td>...</td>\n      <td>0</td>\n      <td>0</td>\n      <td>0</td>\n      <td>0</td>\n      <td>0</td>\n      <td>1</td>\n      <td>0</td>\n      <td>0</td>\n      <td>0</td>\n      <td>0</td>\n    </tr>\n    <tr>\n      <th>...</th>\n      <td>...</td>\n      <td>...</td>\n      <td>...</td>\n      <td>...</td>\n      <td>...</td>\n      <td>...</td>\n      <td>...</td>\n      <td>...</td>\n      <td>...</td>\n      <td>...</td>\n      <td>...</td>\n      <td>...</td>\n      <td>...</td>\n      <td>...</td>\n      <td>...</td>\n      <td>...</td>\n      <td>...</td>\n      <td>...</td>\n      <td>...</td>\n      <td>...</td>\n      <td>...</td>\n    </tr>\n    <tr>\n      <th>3645</th>\n      <td>1750000</td>\n      <td>Prins Haralds Allé 101, 1.</td>\n      <td>Fyn</td>\n      <td>Villa</td>\n      <td>48.0</td>\n      <td>Energimærke G</td>\n      <td>109.0</td>\n      <td>506.0</td>\n      <td>3.0</td>\n      <td>1.922</td>\n      <td>...</td>\n      <td>0</td>\n      <td>1</td>\n      <td>0</td>\n      <td>0</td>\n      <td>0</td>\n      <td>0</td>\n      <td>0</td>\n      <td>0</td>\n      <td>0</td>\n      <td>0</td>\n    </tr>\n    <tr>\n      <th>3646</th>\n      <td>990000</td>\n      <td>Nissumvej 4</td>\n      <td>Vestjylland</td>\n      <td>Holiday home</td>\n      <td>48.0</td>\n      <td>Energimærke C</td>\n      <td>117.0</td>\n      <td>800.0</td>\n      <td>3.0</td>\n      <td>1.566</td>\n      <td>...</td>\n      <td>0</td>\n      <td>0</td>\n      <td>0</td>\n      <td>0</td>\n      <td>0</td>\n      <td>0</td>\n      <td>0</td>\n      <td>1</td>\n      <td>0</td>\n      <td>0</td>\n    </tr>\n    <tr>\n      <th>3647</th>\n      <td>1695000</td>\n      <td>Baunetoften 12</td>\n      <td>Nordsjælland</td>\n      <td>Terraced house</td>\n      <td>240.0</td>\n      <td>Energimærke C</td>\n      <td>86.0</td>\n      <td>103.0</td>\n      <td>4.0</td>\n      <td>2.184</td>\n      <td>...</td>\n      <td>0</td>\n      <td>0</td>\n      <td>0</td>\n      <td>0</td>\n      <td>1</td>\n      <td>0</td>\n      <td>0</td>\n      <td>0</td>\n      <td>0</td>\n      <td>0</td>\n    </tr>\n    <tr>\n      <th>3648</th>\n      <td>650000</td>\n      <td>Aalevej 40</td>\n      <td>Østjylland</td>\n      <td>Villa</td>\n      <td>48.0</td>\n      <td>Energimærke D</td>\n      <td>79.0</td>\n      <td>829.0</td>\n      <td>3.0</td>\n      <td>1.464</td>\n      <td>...</td>\n      <td>0</td>\n      <td>0</td>\n      <td>0</td>\n      <td>0</td>\n      <td>0</td>\n      <td>0</td>\n      <td>0</td>\n      <td>0</td>\n      <td>1</td>\n      <td>0</td>\n    </tr>\n    <tr>\n      <th>3649</th>\n      <td>8500000</td>\n      <td>Vestre Skovvej 30</td>\n      <td>Østjylland</td>\n      <td>Terraced house</td>\n      <td>48.0</td>\n      <td>Energimærke A</td>\n      <td>133.0</td>\n      <td>129.0</td>\n      <td>5.0</td>\n      <td>4.615</td>\n      <td>...</td>\n      <td>0</td>\n      <td>0</td>\n      <td>0</td>\n      <td>0</td>\n      <td>0</td>\n      <td>0</td>\n      <td>0</td>\n      <td>0</td>\n      <td>1</td>\n      <td>0</td>\n    </tr>\n  </tbody>\n</table>\n<p>3650 rows × 47 columns</p>\n</div>"
     },
     "execution_count": 2,
     "metadata": {},
     "output_type": "execute_result"
    }
   ],
   "source": [
    "## Data Cleaning\n",
    "sample_data = pd.read_csv('../EXAM/data/cleaned_data.csv',encoding='utf-16')\n",
    "df = pd.DataFrame(sample_data)\n",
    "df"
   ],
   "metadata": {
    "collapsed": false,
    "ExecuteTime": {
     "end_time": "2023-08-22T08:44:36.660792Z",
     "start_time": "2023-08-22T08:44:36.631422Z"
    }
   },
   "id": "786d241c470f8634"
  },
  {
   "cell_type": "code",
   "execution_count": 3,
   "outputs": [
    {
     "name": "stdout",
     "output_type": "stream",
     "text": [
      "Index(['area_code', 'type', 'saledays', 'energy', 'living_space',\n",
      "       'ground_space', 'rooms'],\n",
      "      dtype='object')\n"
     ]
    }
   ],
   "source": [
    "## Dataset split\n",
    "categorical_names = ['area_code','type','energy']\n",
    "for cat in categorical_names:\n",
    "    df[cat] = df[cat].astype('category').cat.codes\n",
    "X = df[['area_code','type','saledays','energy','living_space','ground_space','rooms']]\n",
    "y = df.price\n",
    "# columns_to_drop = ['price','address','city','type','energy', 'year','area_name', 'age_squared', 'area_code','area_digit_1','area_digit_2','area_digit_3','area_digit_4','area_digit_5','area_digit_6','area_digit_7','area_digit_8','area_digit_9','owner_expenses']\n",
    "# X,y = df.drop(columns_to_drop,axis=1),df.price\n",
    "test_size = 0.30 # taking 70:30 training and test set\n",
    "seed = 17082023 # Random number seeding for repeatability of the code\n",
    "X_train, X_test, y_train, y_test = train_test_split(X, y, test_size=test_size, random_state=seed)\n",
    "print(X.columns)"
   ],
   "metadata": {
    "collapsed": false,
    "ExecuteTime": {
     "end_time": "2023-08-22T08:44:36.678326Z",
     "start_time": "2023-08-22T08:44:36.655074Z"
    }
   },
   "id": "e59bd210221eaee4"
  },
  {
   "cell_type": "code",
   "execution_count": 4,
   "outputs": [
    {
     "data": {
      "text/plain": "<Figure size 640x480 with 2 Axes>",
      "image/png": "[encoded data removed]"
     },
     "metadata": {},
     "output_type": "display_data"
    }
   ],
   "source": [
    "## Heat map\n",
    "XcorrHeat = sns.heatmap(X.corr())\n",
    "fig = XcorrHeat.get_figure()\n",
    "plt.savefig('../EXAM/figs/Xvar_corr_heat_map_cat.png', bbox_inches='tight')"
   ],
   "metadata": {
    "collapsed": false,
    "ExecuteTime": {
     "end_time": "2023-08-22T08:44:36.843005Z",
     "start_time": "2023-08-22T08:44:36.661550Z"
    }
   },
   "id": "f5687299d5a44dc8"
  },
  {
   "cell_type": "code",
   "execution_count": 5,
   "outputs": [
    {
     "ename": "ValueError",
     "evalue": "Categorical feature 'area_code' is expected to have a cardinality <= 255 but actually has a cardinality of 516.",
     "output_type": "error",
     "traceback": [
      "\u001B[0;31m---------------------------------------------------------------------------\u001B[0m",
      "\u001B[0;31mValueError\u001B[0m                                Traceback (most recent call last)",
      "Cell \u001B[0;32mIn [5], line 9\u001B[0m\n\u001B[1;32m      7\u001B[0m gradient_booster \u001B[38;5;241m=\u001B[39m HistGradientBoostingRegressor(\u001B[38;5;241m*\u001B[39m\u001B[38;5;241m*\u001B[39mparam)\n\u001B[1;32m      8\u001B[0m \u001B[38;5;66;03m# Gradient boosting classifiers are required to implement gradient boosting.\u001B[39;00m\n\u001B[0;32m----> 9\u001B[0m \u001B[43mgradient_booster\u001B[49m\u001B[38;5;241;43m.\u001B[39;49m\u001B[43mfit\u001B[49m\u001B[43m(\u001B[49m\u001B[43mX_train\u001B[49m\u001B[43m,\u001B[49m\u001B[43my_train\u001B[49m\u001B[43m)\u001B[49m\n\u001B[1;32m     10\u001B[0m y_test_predict_0de \u001B[38;5;241m=\u001B[39m gradient_booster\u001B[38;5;241m.\u001B[39mpredict(X_test)\n",
      "File \u001B[0;32m/Library/Frameworks/Python.framework/Versions/3.11/lib/python3.11/site-packages/sklearn/base.py:1151\u001B[0m, in \u001B[0;36m_fit_context.<locals>.decorator.<locals>.wrapper\u001B[0;34m(estimator, *args, **kwargs)\u001B[0m\n\u001B[1;32m   1144\u001B[0m     estimator\u001B[38;5;241m.\u001B[39m_validate_params()\n\u001B[1;32m   1146\u001B[0m \u001B[38;5;28;01mwith\u001B[39;00m config_context(\n\u001B[1;32m   1147\u001B[0m     skip_parameter_validation\u001B[38;5;241m=\u001B[39m(\n\u001B[1;32m   1148\u001B[0m         prefer_skip_nested_validation \u001B[38;5;129;01mor\u001B[39;00m global_skip_validation\n\u001B[1;32m   1149\u001B[0m     )\n\u001B[1;32m   1150\u001B[0m ):\n\u001B[0;32m-> 1151\u001B[0m     \u001B[38;5;28;01mreturn\u001B[39;00m \u001B[43mfit_method\u001B[49m\u001B[43m(\u001B[49m\u001B[43mestimator\u001B[49m\u001B[43m,\u001B[49m\u001B[43m \u001B[49m\u001B[38;5;241;43m*\u001B[39;49m\u001B[43margs\u001B[49m\u001B[43m,\u001B[49m\u001B[43m \u001B[49m\u001B[38;5;241;43m*\u001B[39;49m\u001B[38;5;241;43m*\u001B[39;49m\u001B[43mkwargs\u001B[49m\u001B[43m)\u001B[49m\n",
      "File \u001B[0;32m/Library/Frameworks/Python.framework/Versions/3.11/lib/python3.11/site-packages/sklearn/ensemble/_hist_gradient_boosting/gradient_boosting.py:397\u001B[0m, in \u001B[0;36mBaseHistGradientBoosting.fit\u001B[0;34m(self, X, y, sample_weight)\u001B[0m\n\u001B[1;32m    394\u001B[0m \u001B[38;5;66;03m# used for validation in predict\u001B[39;00m\n\u001B[1;32m    395\u001B[0m n_samples, \u001B[38;5;28mself\u001B[39m\u001B[38;5;241m.\u001B[39m_n_features \u001B[38;5;241m=\u001B[39m X\u001B[38;5;241m.\u001B[39mshape\n\u001B[0;32m--> 397\u001B[0m \u001B[38;5;28mself\u001B[39m\u001B[38;5;241m.\u001B[39mis_categorical_, known_categories \u001B[38;5;241m=\u001B[39m \u001B[38;5;28;43mself\u001B[39;49m\u001B[38;5;241;43m.\u001B[39;49m\u001B[43m_check_categories\u001B[49m\u001B[43m(\u001B[49m\u001B[43mX\u001B[49m\u001B[43m)\u001B[49m\n\u001B[1;32m    399\u001B[0m \u001B[38;5;66;03m# Encode constraints into a list of sets of features indices (integers).\u001B[39;00m\n\u001B[1;32m    400\u001B[0m interaction_cst \u001B[38;5;241m=\u001B[39m \u001B[38;5;28mself\u001B[39m\u001B[38;5;241m.\u001B[39m_check_interaction_cst(\u001B[38;5;28mself\u001B[39m\u001B[38;5;241m.\u001B[39m_n_features)\n",
      "File \u001B[0;32m/Library/Frameworks/Python.framework/Versions/3.11/lib/python3.11/site-packages/sklearn/ensemble/_hist_gradient_boosting/gradient_boosting.py:287\u001B[0m, in \u001B[0;36mBaseHistGradientBoosting._check_categories\u001B[0;34m(self, X)\u001B[0m\n\u001B[1;32m    284\u001B[0m     feature_name \u001B[38;5;241m=\u001B[39m \u001B[38;5;124mf\u001B[39m\u001B[38;5;124m\"\u001B[39m\u001B[38;5;124mat index \u001B[39m\u001B[38;5;132;01m{\u001B[39;00mf_idx\u001B[38;5;132;01m}\u001B[39;00m\u001B[38;5;124m\"\u001B[39m\n\u001B[1;32m    286\u001B[0m \u001B[38;5;28;01mif\u001B[39;00m categories\u001B[38;5;241m.\u001B[39msize \u001B[38;5;241m>\u001B[39m \u001B[38;5;28mself\u001B[39m\u001B[38;5;241m.\u001B[39mmax_bins:\n\u001B[0;32m--> 287\u001B[0m     \u001B[38;5;28;01mraise\u001B[39;00m \u001B[38;5;167;01mValueError\u001B[39;00m(\n\u001B[1;32m    288\u001B[0m         \u001B[38;5;124mf\u001B[39m\u001B[38;5;124m\"\u001B[39m\u001B[38;5;124mCategorical feature \u001B[39m\u001B[38;5;132;01m{\u001B[39;00mfeature_name\u001B[38;5;132;01m}\u001B[39;00m\u001B[38;5;124m is expected to \u001B[39m\u001B[38;5;124m\"\u001B[39m\n\u001B[1;32m    289\u001B[0m         \u001B[38;5;124mf\u001B[39m\u001B[38;5;124m\"\u001B[39m\u001B[38;5;124mhave a cardinality <= \u001B[39m\u001B[38;5;132;01m{\u001B[39;00m\u001B[38;5;28mself\u001B[39m\u001B[38;5;241m.\u001B[39mmax_bins\u001B[38;5;132;01m}\u001B[39;00m\u001B[38;5;124m but actually \u001B[39m\u001B[38;5;124m\"\u001B[39m\n\u001B[1;32m    290\u001B[0m         \u001B[38;5;124mf\u001B[39m\u001B[38;5;124m\"\u001B[39m\u001B[38;5;124mhas a cardinality of \u001B[39m\u001B[38;5;132;01m{\u001B[39;00mcategories\u001B[38;5;241m.\u001B[39msize\u001B[38;5;132;01m}\u001B[39;00m\u001B[38;5;124m.\u001B[39m\u001B[38;5;124m\"\u001B[39m\n\u001B[1;32m    291\u001B[0m     )\n\u001B[1;32m    293\u001B[0m \u001B[38;5;28;01mif\u001B[39;00m (categories \u001B[38;5;241m>\u001B[39m\u001B[38;5;241m=\u001B[39m \u001B[38;5;28mself\u001B[39m\u001B[38;5;241m.\u001B[39mmax_bins)\u001B[38;5;241m.\u001B[39many():\n\u001B[1;32m    294\u001B[0m     \u001B[38;5;28;01mraise\u001B[39;00m \u001B[38;5;167;01mValueError\u001B[39;00m(\n\u001B[1;32m    295\u001B[0m         \u001B[38;5;124mf\u001B[39m\u001B[38;5;124m\"\u001B[39m\u001B[38;5;124mCategorical feature \u001B[39m\u001B[38;5;132;01m{\u001B[39;00mfeature_name\u001B[38;5;132;01m}\u001B[39;00m\u001B[38;5;124m is expected to \u001B[39m\u001B[38;5;124m\"\u001B[39m\n\u001B[1;32m    296\u001B[0m         \u001B[38;5;124mf\u001B[39m\u001B[38;5;124m\"\u001B[39m\u001B[38;5;124mbe encoded with values < \u001B[39m\u001B[38;5;132;01m{\u001B[39;00m\u001B[38;5;28mself\u001B[39m\u001B[38;5;241m.\u001B[39mmax_bins\u001B[38;5;132;01m}\u001B[39;00m\u001B[38;5;124m but the \u001B[39m\u001B[38;5;124m\"\u001B[39m\n\u001B[1;32m    297\u001B[0m         \u001B[38;5;124m\"\u001B[39m\u001B[38;5;124mlargest value for the encoded categories is \u001B[39m\u001B[38;5;124m\"\u001B[39m\n\u001B[1;32m    298\u001B[0m         \u001B[38;5;124mf\u001B[39m\u001B[38;5;124m\"\u001B[39m\u001B[38;5;132;01m{\u001B[39;00mcategories\u001B[38;5;241m.\u001B[39mmax()\u001B[38;5;132;01m}\u001B[39;00m\u001B[38;5;124m.\u001B[39m\u001B[38;5;124m\"\u001B[39m\n\u001B[1;32m    299\u001B[0m     )\n",
      "\u001B[0;31mValueError\u001B[0m: Categorical feature 'area_code' is expected to have a cardinality <= 255 but actually has a cardinality of 516."
     ]
    }
   ],
   "source": [
    "## Main model\n",
    "param = {\n",
    "    'random_state': seed,\n",
    "    # Categorical\n",
    "    'categorical_features':categorical_names\n",
    "}\n",
    "gradient_booster = HistGradientBoostingRegressor(**param)\n",
    "# Gradient boosting classifiers are required to implement gradient boosting.\n",
    "gradient_booster.fit(X_train,y_train)\n",
    "y_test_predict_0de = gradient_booster.predict(X_test)"
   ],
   "metadata": {
    "collapsed": false,
    "ExecuteTime": {
     "end_time": "2023-08-22T08:44:36.947011Z",
     "start_time": "2023-08-22T08:44:36.833146Z"
    }
   },
   "id": "ac833ad706704629"
  },
  {
   "cell_type": "code",
   "execution_count": null,
   "outputs": [],
   "source": [
    "## R-squared\n",
    "r2_HGBM = r2_score(y_test,y_test_predict_0de)\n",
    "r2_HGBM"
   ],
   "metadata": {
    "collapsed": false,
    "ExecuteTime": {
     "end_time": "2023-08-22T08:44:36.957668Z",
     "start_time": "2023-08-22T08:44:36.947986Z"
    }
   },
   "id": "39d26ae3a301e06c"
  },
  {
   "cell_type": "code",
   "execution_count": null,
   "outputs": [],
   "source": [
    "## RMSE\n",
    "RMSE_HGBM = mse(y_test,y_test_predict_0de,squared=False)\n",
    "RMSE_HGBM"
   ],
   "metadata": {
    "collapsed": false,
    "ExecuteTime": {
     "start_time": "2023-08-22T08:44:36.949048Z"
    }
   },
   "id": "b3c312418b1c1bac"
  },
  {
   "cell_type": "code",
   "execution_count": null,
   "outputs": [],
   "source": [
    "## Define hyperpara\n",
    "param_grid = {\n",
    "    # Tree param\n",
    "    'max_depth': [1, 2, 3, 4],\n",
    "    'min_samples_leaf': list(range(10,100,20)),\n",
    "    # Boost param\n",
    "    'learning_rate': [0.4, 0.6, 0.8, 1, 1.2, 1.4, 1.6],\n",
    "    # Miscellaneous param\n",
    "    'random_state':seed,\n",
    "    # Categorical\n",
    "    'categorical_features':categorical_names\n",
    "}\n"
   ],
   "metadata": {
    "collapsed": false,
    "ExecuteTime": {
     "start_time": "2023-08-22T08:44:36.949824Z"
    }
   },
   "id": "a6eb3ddf488a833f"
  },
  {
   "cell_type": "code",
   "execution_count": null,
   "outputs": [],
   "source": [
    "## 10-fold cross validation\n",
    "num_folds = 10\n",
    "kfolds = KFold(n_splits=num_folds, shuffle=True, random_state=seed)\n",
    "\n",
    "best_score = float('-inf')\n",
    "best_params = {}\n",
    "\n",
    "for min_samples_leaf in param_grid['min_samples_leaf']:\n",
    "    for max_depth in param_grid['max_depth']:\n",
    "        for learning_rate in param_grid['learning_rate']:\n",
    "            params = {\n",
    "                'max_depth': max_depth,\n",
    "                'min_samples_leaf': min_samples_leaf,\n",
    "                # Boost param\n",
    "                'learning_rate': learning_rate,\n",
    "                # Miscellaneous param\n",
    "                'random_state':seed,\n",
    "                # Categorical\n",
    "                'categorical_features':categorical_names\n",
    "            }\n",
    "\n",
    "        \n",
    "        model = HistGradientBoostingRegressor(**params)\n",
    "        scores = cross_val_score(model, X_train, y_train, cv=kfolds, scoring='neg_mean_squared_error')\n",
    "        avg_score = np.mean(scores)\n",
    "        \n",
    "        if avg_score > best_score:\n",
    "            best_score = avg_score\n",
    "            best_params = params\n",
    "\n",
    "print('Best Parameters:', best_params)\n",
    "print('Best Score:', np.sqrt(-best_score))  # Convert back to positive mean squared error\n",
    "\n",
    "# Fitting the model with best para\n",
    "final_model = HistGradientBoostingRegressor(**best_params)\n",
    "final_model.fit(X_train, y_train)\n",
    "\n",
    "y_test_predict = final_model.predict(X_test)"
   ],
   "metadata": {
    "collapsed": false,
    "ExecuteTime": {
     "start_time": "2023-08-22T08:44:36.950826Z"
    }
   },
   "id": "49d022ce394db2ef"
  },
  {
   "cell_type": "code",
   "execution_count": null,
   "outputs": [],
   "source": [
    "## R-squared\n",
    "r2_HGBM = r2_score(y_test,y_test_predict)\n",
    "r2_HGBM"
   ],
   "metadata": {
    "collapsed": false,
    "ExecuteTime": {
     "start_time": "2023-08-22T08:44:36.951647Z"
    }
   },
   "id": "e244a6b9b987e93a"
  },
  {
   "cell_type": "code",
   "execution_count": null,
   "outputs": [],
   "source": [
    "## RMSE\n",
    "RMSE_HGBM = mse(y_test,y_test_predict,squared=False)\n",
    "RMSE_HGBM"
   ],
   "metadata": {
    "collapsed": false,
    "ExecuteTime": {
     "start_time": "2023-08-22T08:44:36.952263Z"
    }
   },
   "id": "1263b3056109d3"
  },
  {
   "cell_type": "code",
   "execution_count": null,
   "outputs": [],
   "source": [
    "## plotting predicted data against real data\n",
    "\n",
    "plt.scatter(y_test,y_test_predict, s= 1,c='navy',label='predicted and original data')\n",
    "plt.plot([0,50000000],[0,50000000], linewidth=0.5,marker='.',label='Diagonal')\n",
    "plt.xlabel('Original test data')\n",
    "plt.ylabel('Predicted test data')\n",
    "plt.legend()\n",
    "plt.savefig('../EXAM/figs/HGBM_ori_vs_pred_cat',bbox_inches='tight')\n",
    "plt.show()"
   ],
   "metadata": {
    "collapsed": false,
    "ExecuteTime": {
     "start_time": "2023-08-22T08:44:36.952789Z"
    }
   },
   "id": "8a02c889b702375e"
  }
 ],
 "metadata": {
  "kernelspec": {
   "display_name": "Python 3",
   "language": "python",
   "name": "python3"
  },
  "language_info": {
   "codemirror_mode": {
    "name": "ipython",
    "version": 2
   },
   "file_extension": ".py",
   "mimetype": "text/x-python",
   "name": "python",
   "nbconvert_exporter": "python",
   "pygments_lexer": "ipython2",
   "version": "2.7.6"
  }
 },
 "nbformat": 4,
 "nbformat_minor": 5
}
