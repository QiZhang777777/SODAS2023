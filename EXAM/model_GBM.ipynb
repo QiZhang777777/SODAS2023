{
 "cells": [
  {
   "cell_type": "code",
   "execution_count": 6,
   "id": "initial_id",
   "metadata": {
    "collapsed": true,
    "ExecuteTime": {
     "end_time": "2023-08-18T15:28:49.079299Z",
     "start_time": "2023-08-18T15:28:49.076801Z"
    }
   },
   "outputs": [],
   "source": [
    "## Importing libraries\n",
    "import pandas as pd\n",
    "import numpy as np\n",
    "from sklearn.metrics import classification_report\n",
    "from sklearn.ensemble import HistGradientBoostingClassifier\n",
    "from sklearn.model_selection import train_test_split\n",
    "from sklearn.metrics import mean_squared_error as mse\n",
    "from sklearn.metrics import r2_score"
   ]
  },
  {
   "cell_type": "code",
   "execution_count": 8,
   "outputs": [
    {
     "data": {
      "text/plain": "           price_per_m2\narea_code              \n1051.0         68125.00\n1054.0         69095.48\n1104.0         71357.14\n1127.0         50266.27\n1161.0         73266.67\n...                 ...\n9940.0          9141.61\n9970.0          7098.21\n9981.0          5264.90\n9982.0          7565.01\n9990.0         29079.59\n\n[561 rows x 1 columns]",
      "text/html": "<div>\n<style scoped>\n    .dataframe tbody tr th:only-of-type {\n        vertical-align: middle;\n    }\n\n    .dataframe tbody tr th {\n        vertical-align: top;\n    }\n\n    .dataframe thead th {\n        text-align: right;\n    }\n</style>\n<table border=\"1\" class=\"dataframe\">\n  <thead>\n    <tr style=\"text-align: right;\">\n      <th></th>\n      <th>price_per_m2</th>\n    </tr>\n    <tr>\n      <th>area_code</th>\n      <th></th>\n    </tr>\n  </thead>\n  <tbody>\n    <tr>\n      <th>1051.0</th>\n      <td>68125.00</td>\n    </tr>\n    <tr>\n      <th>1054.0</th>\n      <td>69095.48</td>\n    </tr>\n    <tr>\n      <th>1104.0</th>\n      <td>71357.14</td>\n    </tr>\n    <tr>\n      <th>1127.0</th>\n      <td>50266.27</td>\n    </tr>\n    <tr>\n      <th>1161.0</th>\n      <td>73266.67</td>\n    </tr>\n    <tr>\n      <th>...</th>\n      <td>...</td>\n    </tr>\n    <tr>\n      <th>9940.0</th>\n      <td>9141.61</td>\n    </tr>\n    <tr>\n      <th>9970.0</th>\n      <td>7098.21</td>\n    </tr>\n    <tr>\n      <th>9981.0</th>\n      <td>5264.90</td>\n    </tr>\n    <tr>\n      <th>9982.0</th>\n      <td>7565.01</td>\n    </tr>\n    <tr>\n      <th>9990.0</th>\n      <td>29079.59</td>\n    </tr>\n  </tbody>\n</table>\n<p>561 rows × 1 columns</p>\n</div>"
     },
     "execution_count": 8,
     "metadata": {},
     "output_type": "execute_result"
    }
   ],
   "source": [
    "## Data Cleaning\n",
    "# Get energy dummy\n",
    "sample_data = pd.read_csv('../EXAM/data/cleaned_data.csv',encoding='utf-16')\n",
    "df = pd.DataFrame(sample_data)\n",
    "\n",
    "# Change constructing year to construction age and squared term for OLS.\n",
    "df['age'] = 2023 - df['year']\n",
    "df['age_squared'] = df['age'] ** 2\n",
    "\n",
    "# Price per squared metre\n",
    "df['price_per_m2'] = df['price'] / df['living_space']\n",
    "np.round(df[['price_per_m2','area_code']].groupby('area_code').mean(),2)\n",
    "\n",
    "\n",
    "df['type'] = df['type'].astype('category')\n",
    "\n",
    "\n",
    "print(df['type'])\n"
   ],
   "metadata": {
    "collapsed": false,
    "ExecuteTime": {
     "end_time": "2023-08-18T15:29:05.058216Z",
     "start_time": "2023-08-18T15:29:04.930027Z"
    }
   },
   "id": "786d241c470f8634"
  },
  {
   "cell_type": "code",
   "execution_count": 15,
   "outputs": [],
   "source": [
    "## Dataset split\n",
    "columns_to_drop = ['price','address','city','type','energy', 'year','area_name', 'age_squared']\n",
    "X,y = df.drop(columns_to_drop,axis=1),df.price\n",
    "test_size = 0.30 # taking 70:30 training and test set\n",
    "seed = 17082023 # Random number seeding for repeatability of the code\n",
    "X_train, X_test, y_train, y_test = train_test_split(X, y, test_size=test_size, random_state=seed)"
   ],
   "metadata": {
    "collapsed": false,
    "ExecuteTime": {
     "end_time": "2023-08-18T15:30:12.300850Z",
     "start_time": "2023-08-18T15:30:12.269459Z"
    }
   },
   "id": "e59bd210221eaee4"
  },
  {
   "cell_type": "code",
   "execution_count": 16,
   "outputs": [
    {
     "name": "stdout",
     "output_type": "stream",
     "text": [
      "      saledays  living_space  ground_space  rooms  owner_expenses  area_code  \\\n",
      "0        202.0         170.0        1019.0    2.0           2.598     4591.0   \n",
      "1          0.0          94.0           0.0    3.0           2.389     2100.0   \n",
      "2        255.0         248.0         984.0    8.0           8.643     2900.0   \n",
      "3          7.0         107.0           0.0    3.0           3.849     8000.0   \n",
      "4          0.0         163.0         858.0    5.0           3.343     7100.0   \n",
      "...        ...           ...           ...    ...             ...        ...   \n",
      "3645      48.0         109.0         506.0    3.0           1.922     5250.0   \n",
      "3646      48.0         117.0         800.0    3.0           1.566     7620.0   \n",
      "3647     240.0          86.0         103.0    4.0           2.184     3320.0   \n",
      "3648      48.0          79.0         829.0    3.0           1.464     7160.0   \n",
      "3649      48.0         133.0         129.0    5.0           4.615     8240.0   \n",
      "\n",
      "      Apartment  Holiday home  Terraced house  Villa  land  Energimærke A  \\\n",
      "0             0             1               0      0     0              0   \n",
      "1             1             0               0      0     0              1   \n",
      "2             0             0               0      1     0              0   \n",
      "3             1             0               0      0     0              0   \n",
      "4             0             0               0      1     0              0   \n",
      "...         ...           ...             ...    ...   ...            ...   \n",
      "3645          0             0               0      1     0              0   \n",
      "3646          0             1               0      0     0              0   \n",
      "3647          0             0               1      0     0              0   \n",
      "3648          0             0               0      1     0              0   \n",
      "3649          0             0               1      0     0              1   \n",
      "\n",
      "      Energimærke B  Energimærke C  Energimærke D  Energimærke E  \\\n",
      "0                 0              0              1              0   \n",
      "1                 0              0              0              0   \n",
      "2                 0              0              0              1   \n",
      "3                 1              0              0              0   \n",
      "4                 0              1              0              0   \n",
      "...             ...            ...            ...            ...   \n",
      "3645              0              0              0              0   \n",
      "3646              0              1              0              0   \n",
      "3647              0              1              0              0   \n",
      "3648              0              0              1              0   \n",
      "3649              0              0              0              0   \n",
      "\n",
      "      Energimærke F  Energimærke G   age  \n",
      "0                 0              0  45.0  \n",
      "1                 0              0   6.0  \n",
      "2                 0              0  82.0  \n",
      "3                 0              0   9.0  \n",
      "4                 0              0  58.0  \n",
      "...             ...            ...   ...  \n",
      "3645              0              1  88.0  \n",
      "3646              0              0  81.0  \n",
      "3647              0              0  33.0  \n",
      "3648              0              0  68.0  \n",
      "3649              0              0   0.0  \n",
      "\n",
      "[3650 rows x 19 columns]\n"
     ]
    }
   ],
   "source": [
    "## Main model\n",
    "eta = 0.1\n",
    "gradient_booster = HistGradientBoostingClassifier(learning_rate=eta)\n",
    "# Gradient boosting classifiers are required to implement gradient boosting.\n",
    "gradient_booster.fit(X_train,y_train)\n",
    "y_test_predict = gradient_booster.predict(X_test)\n",
    "print(classification_report(y_test,y_test_predict))\n",
    "# Use the Python module named classification report to verify the correctness and quality of the accuracy report ()."
   ],
   "metadata": {
    "collapsed": false,
    "ExecuteTime": {
     "end_time": "2023-08-18T15:30:15.167508Z",
     "start_time": "2023-08-18T15:30:15.123072Z"
    }
   },
   "id": "ac833ad706704629"
  },
  {
   "cell_type": "code",
   "execution_count": 14,
   "outputs": [
    {
     "ename": "ValueError",
     "evalue": "could not convert string to float: 'Energimærke D'",
     "output_type": "error",
     "traceback": [
      "\u001B[0;31m---------------------------------------------------------------------------\u001B[0m",
      "\u001B[0;31mValueError\u001B[0m                                Traceback (most recent call last)",
      "Cell \u001B[0;32mIn [14], line 3\u001B[0m\n\u001B[1;32m      1\u001B[0m \u001B[38;5;66;03m## Heat map\u001B[39;00m\n\u001B[1;32m      2\u001B[0m \u001B[38;5;66;03m# Create a heatmap using seaborn\u001B[39;00m\n\u001B[0;32m----> 3\u001B[0m \u001B[43msns\u001B[49m\u001B[38;5;241;43m.\u001B[39;49m\u001B[43mheatmap\u001B[49m\u001B[43m(\u001B[49m\u001B[43mX\u001B[49m\u001B[43m,\u001B[49m\u001B[43m \u001B[49m\u001B[43mcmap\u001B[49m\u001B[38;5;241;43m=\u001B[39;49m\u001B[38;5;124;43m'\u001B[39;49m\u001B[38;5;124;43mcoolwarm\u001B[39;49m\u001B[38;5;124;43m'\u001B[39;49m\u001B[43m,\u001B[49m\u001B[43m \u001B[49m\u001B[43mannot\u001B[49m\u001B[38;5;241;43m=\u001B[39;49m\u001B[38;5;28;43;01mTrue\u001B[39;49;00m\u001B[43m,\u001B[49m\u001B[43m \u001B[49m\u001B[43mfmt\u001B[49m\u001B[38;5;241;43m=\u001B[39;49m\u001B[38;5;124;43m\"\u001B[39;49m\u001B[38;5;124;43m.2f\u001B[39;49m\u001B[38;5;124;43m\"\u001B[39;49m\u001B[43m)\u001B[49m\n\u001B[1;32m      5\u001B[0m \u001B[38;5;66;03m# Show the plot\u001B[39;00m\n\u001B[1;32m      6\u001B[0m plt\u001B[38;5;241m.\u001B[39mtitle(\u001B[38;5;124m'\u001B[39m\u001B[38;5;124mHeatmap using Seaborn\u001B[39m\u001B[38;5;124m'\u001B[39m)\n",
      "File \u001B[0;32m/Library/Frameworks/Python.framework/Versions/3.11/lib/python3.11/site-packages/seaborn/matrix.py:446\u001B[0m, in \u001B[0;36mheatmap\u001B[0;34m(data, vmin, vmax, cmap, center, robust, annot, fmt, annot_kws, linewidths, linecolor, cbar, cbar_kws, cbar_ax, square, xticklabels, yticklabels, mask, ax, **kwargs)\u001B[0m\n\u001B[1;32m    365\u001B[0m \u001B[38;5;124;03m\"\"\"Plot rectangular data as a color-encoded matrix.\u001B[39;00m\n\u001B[1;32m    366\u001B[0m \n\u001B[1;32m    367\u001B[0m \u001B[38;5;124;03mThis is an Axes-level function and will draw the heatmap into the\u001B[39;00m\n\u001B[0;32m   (...)\u001B[0m\n\u001B[1;32m    443\u001B[0m \n\u001B[1;32m    444\u001B[0m \u001B[38;5;124;03m\"\"\"\u001B[39;00m\n\u001B[1;32m    445\u001B[0m \u001B[38;5;66;03m# Initialize the plotter object\u001B[39;00m\n\u001B[0;32m--> 446\u001B[0m plotter \u001B[38;5;241m=\u001B[39m \u001B[43m_HeatMapper\u001B[49m\u001B[43m(\u001B[49m\u001B[43mdata\u001B[49m\u001B[43m,\u001B[49m\u001B[43m \u001B[49m\u001B[43mvmin\u001B[49m\u001B[43m,\u001B[49m\u001B[43m \u001B[49m\u001B[43mvmax\u001B[49m\u001B[43m,\u001B[49m\u001B[43m \u001B[49m\u001B[43mcmap\u001B[49m\u001B[43m,\u001B[49m\u001B[43m \u001B[49m\u001B[43mcenter\u001B[49m\u001B[43m,\u001B[49m\u001B[43m \u001B[49m\u001B[43mrobust\u001B[49m\u001B[43m,\u001B[49m\u001B[43m \u001B[49m\u001B[43mannot\u001B[49m\u001B[43m,\u001B[49m\u001B[43m \u001B[49m\u001B[43mfmt\u001B[49m\u001B[43m,\u001B[49m\n\u001B[1;32m    447\u001B[0m \u001B[43m                      \u001B[49m\u001B[43mannot_kws\u001B[49m\u001B[43m,\u001B[49m\u001B[43m \u001B[49m\u001B[43mcbar\u001B[49m\u001B[43m,\u001B[49m\u001B[43m \u001B[49m\u001B[43mcbar_kws\u001B[49m\u001B[43m,\u001B[49m\u001B[43m \u001B[49m\u001B[43mxticklabels\u001B[49m\u001B[43m,\u001B[49m\n\u001B[1;32m    448\u001B[0m \u001B[43m                      \u001B[49m\u001B[43myticklabels\u001B[49m\u001B[43m,\u001B[49m\u001B[43m \u001B[49m\u001B[43mmask\u001B[49m\u001B[43m)\u001B[49m\n\u001B[1;32m    450\u001B[0m \u001B[38;5;66;03m# Add the pcolormesh kwargs here\u001B[39;00m\n\u001B[1;32m    451\u001B[0m kwargs[\u001B[38;5;124m\"\u001B[39m\u001B[38;5;124mlinewidths\u001B[39m\u001B[38;5;124m\"\u001B[39m] \u001B[38;5;241m=\u001B[39m linewidths\n",
      "File \u001B[0;32m/Library/Frameworks/Python.framework/Versions/3.11/lib/python3.11/site-packages/seaborn/matrix.py:163\u001B[0m, in \u001B[0;36m_HeatMapper.__init__\u001B[0;34m(self, data, vmin, vmax, cmap, center, robust, annot, fmt, annot_kws, cbar, cbar_kws, xticklabels, yticklabels, mask)\u001B[0m\n\u001B[1;32m    160\u001B[0m \u001B[38;5;28mself\u001B[39m\u001B[38;5;241m.\u001B[39mylabel \u001B[38;5;241m=\u001B[39m ylabel \u001B[38;5;28;01mif\u001B[39;00m ylabel \u001B[38;5;129;01mis\u001B[39;00m \u001B[38;5;129;01mnot\u001B[39;00m \u001B[38;5;28;01mNone\u001B[39;00m \u001B[38;5;28;01melse\u001B[39;00m \u001B[38;5;124m\"\u001B[39m\u001B[38;5;124m\"\u001B[39m\n\u001B[1;32m    162\u001B[0m \u001B[38;5;66;03m# Determine good default values for the colormapping\u001B[39;00m\n\u001B[0;32m--> 163\u001B[0m \u001B[38;5;28;43mself\u001B[39;49m\u001B[38;5;241;43m.\u001B[39;49m\u001B[43m_determine_cmap_params\u001B[49m\u001B[43m(\u001B[49m\u001B[43mplot_data\u001B[49m\u001B[43m,\u001B[49m\u001B[43m \u001B[49m\u001B[43mvmin\u001B[49m\u001B[43m,\u001B[49m\u001B[43m \u001B[49m\u001B[43mvmax\u001B[49m\u001B[43m,\u001B[49m\n\u001B[1;32m    164\u001B[0m \u001B[43m                            \u001B[49m\u001B[43mcmap\u001B[49m\u001B[43m,\u001B[49m\u001B[43m \u001B[49m\u001B[43mcenter\u001B[49m\u001B[43m,\u001B[49m\u001B[43m \u001B[49m\u001B[43mrobust\u001B[49m\u001B[43m)\u001B[49m\n\u001B[1;32m    166\u001B[0m \u001B[38;5;66;03m# Sort out the annotations\u001B[39;00m\n\u001B[1;32m    167\u001B[0m \u001B[38;5;28;01mif\u001B[39;00m annot \u001B[38;5;129;01mis\u001B[39;00m \u001B[38;5;28;01mNone\u001B[39;00m \u001B[38;5;129;01mor\u001B[39;00m annot \u001B[38;5;129;01mis\u001B[39;00m \u001B[38;5;28;01mFalse\u001B[39;00m:\n",
      "File \u001B[0;32m/Library/Frameworks/Python.framework/Versions/3.11/lib/python3.11/site-packages/seaborn/matrix.py:197\u001B[0m, in \u001B[0;36m_HeatMapper._determine_cmap_params\u001B[0;34m(self, plot_data, vmin, vmax, cmap, center, robust)\u001B[0m\n\u001B[1;32m    194\u001B[0m \u001B[38;5;124;03m\"\"\"Use some heuristics to set good defaults for colorbar and range.\"\"\"\u001B[39;00m\n\u001B[1;32m    196\u001B[0m \u001B[38;5;66;03m# plot_data is a np.ma.array instance\u001B[39;00m\n\u001B[0;32m--> 197\u001B[0m calc_data \u001B[38;5;241m=\u001B[39m \u001B[43mplot_data\u001B[49m\u001B[38;5;241;43m.\u001B[39;49m\u001B[43mastype\u001B[49m\u001B[43m(\u001B[49m\u001B[38;5;28;43mfloat\u001B[39;49m\u001B[43m)\u001B[49m\u001B[38;5;241m.\u001B[39mfilled(np\u001B[38;5;241m.\u001B[39mnan)\n\u001B[1;32m    198\u001B[0m \u001B[38;5;28;01mif\u001B[39;00m vmin \u001B[38;5;129;01mis\u001B[39;00m \u001B[38;5;28;01mNone\u001B[39;00m:\n\u001B[1;32m    199\u001B[0m     \u001B[38;5;28;01mif\u001B[39;00m robust:\n",
      "\u001B[0;31mValueError\u001B[0m: could not convert string to float: 'Energimærke D'"
     ]
    }
   ],
   "source": [
    "## Lasso regularization\n",
    "# Normal scaler\n",
    "from sklearn.preprocessing import StandardScaler\n",
    "norm_scaler = StandardScaler().fit(X_train)\n",
    "X_train_std = norm_scaler.transform(X_train)\n",
    "X_test_std = norm_scaler.transform(X_test)\n",
    "\n",
    "# Lasso\n",
    "from sklearn.linear_model import Lasso\n",
    "output = []\n",
    "lambdas = np.logspace(-4, 4, 20)\n",
    "for lambda_ in lambdas:\n",
    "    reg = Lasso(alpha=lambda_, random_state=1)\n",
    "    reg.fit(X_train_std, y_train)\n",
    "    output.append(\n",
    "        [\n",
    "            lambda_,\n",
    "            mse(reg.predict(X_train_std), y_train,squared=False),\n",
    "            mse(reg.predict(X_test_std), y_test,squared=False),\n",
    "        ]\n",
    "    )"
   ],
   "metadata": {
    "collapsed": false,
    "ExecuteTime": {
     "end_time": "2023-08-18T15:29:56.606314Z",
     "start_time": "2023-08-18T15:29:56.567238Z"
    }
   },
   "id": "f06122208ac3acd0"
  },
  {
   "cell_type": "code",
   "execution_count": null,
   "outputs": [],
   "source": [
    "## Search for best lambda\n",
    "MSE_df = pd.DataFrame(\n",
    "    data=output, columns=[\"lambda\", \"MSE train\", \"MSE test\"]\n",
    ").set_index(\"lambda\")\n",
    "\n",
    "MSE_df.plot(logx=True, logy=True)\n",
    "\n",
    "# find the minimal observations as a series\n",
    "best_fit = MSE_df[\"MSE test\"].nsmallest(1)\n",
    "\n",
    "# take out the data minimum RMSE and the optimal lambda\n",
    "lambda_opt, RMSE_min = next(best_fit.items())\n",
    "print(f\"Minimum RMSE = {RMSE_min:.3f} found for lambda = {lambda_opt:.4f}.\")\n"
   ],
   "metadata": {
    "collapsed": false,
    "ExecuteTime": {
     "start_time": "2023-08-18T12:08:18.001314Z"
    }
   },
   "id": "1dd7b4fd51d29e9f"
  },
  {
   "cell_type": "code",
   "execution_count": null,
   "outputs": [],
   "source": [
    "## 5-fold cross validation\n",
    "from sklearn.pipeline import make_pipeline\n",
    "from sklearn.preprocessing import StandardScaler, PolynomialFeatures\n",
    "from sklearn.model_selection import KFold\n",
    "# Pipeline\n",
    "pipe_lasso = make_pipeline(\n",
    "    PolynomialFeatures(degree=3, include_bias=False),\n",
    "    StandardScaler(),\n",
    "    Lasso(random_state=1),\n",
    ")\n",
    "\n",
    "# Split X, y into development (2/3) and test data (1/3).\n",
    "X_dev, X_test, y_dev, y_test = train_test_split(X, y, test_size=(1 / 3), random_state=1)\n",
    "\n",
    "lambdas = np.logspace(-4, 4, 12)\n",
    "\n",
    "kfolds = KFold(n_splits=5)\n",
    "mses = []\n",
    "\n",
    "for lambda_ in lambdas:\n",
    "\n",
    "    pipe_lasso = make_pipeline(\n",
    "        PolynomialFeatures(degree=3, include_bias=False),\n",
    "        StandardScaler(),\n",
    "        Lasso(alpha=lambda_, random_state=1),\n",
    "    )\n",
    "    mses_test = []\n",
    "    mses_train = []\n",
    "\n",
    "    for train_idx, val_idx in kfolds.split(X_dev, y_dev):\n",
    "        X_train, y_train = X_dev.iloc[train_idx], y_dev[train_idx]\n",
    "        X_val, y_val = X_dev.iloc[val_idx], y_dev[val_idx]\n",
    "\n",
    "        pipe_lasso.fit(X_train, y_train)\n",
    "\n",
    "        mses_train.append(mse(pipe_lasso.predict(X_train), y_train))\n",
    "        mses_test.append(mse(pipe_lasso.predict(X_val), y_val))\n",
    "\n",
    "    mses.append([np.mean(mses_train), np.mean(mses_test), lambda_])\n",
    "\n",
    "# Create df with MSE values\n",
    "df_mses = pd.DataFrame(mses, columns=[\"MSE_train\", \"MSE_test\", \"lambda\"])\n",
    "\n",
    "# Index of the lambda that gives the lowest MSE_test in the dataframe\n",
    "idx_optimal_lambda = df_mses.idxmin()[\"MSE_test\"]\n",
    "lambda_opt_test = df_mses.loc[idx_optimal_lambda][\"lambda\"]\n",
    "opt_test_mse = df_mses.loc[idx_optimal_lambda][\"MSE_test\"]\n",
    "print(\n",
    "    f\"Lowest test MSE equal to {opt_test_mse:.4f} is\"\n",
    "    f\" achieved with lambda = {lambda_opt_test:.3f}.\"\n",
    ")"
   ],
   "metadata": {
    "collapsed": false,
    "ExecuteTime": {
     "start_time": "2023-08-18T12:08:18.002561Z"
    }
   },
   "id": "49d022ce394db2ef"
  },
  {
   "cell_type": "code",
   "execution_count": null,
   "outputs": [],
   "source": [
    "## Root mean squared errors\n",
    "# rmse_GBM = mse(y_test,y_test_predict,squared=False)\n",
    "# rmse_GBM"
   ],
   "metadata": {
    "collapsed": false,
    "ExecuteTime": {
     "start_time": "2023-08-18T12:08:18.003690Z"
    }
   },
   "id": "ef6c75214821fb9a"
  },
  {
   "cell_type": "markdown",
   "source": [],
   "metadata": {
    "collapsed": false
   },
   "id": "f41bafee0ca68b5c"
  },
  {
   "cell_type": "code",
   "execution_count": null,
   "outputs": [],
   "source": [
    "## R-squared\n",
    "r2_GBM = r2_score(y_test,y_test_predict)\n",
    "r2_GBM"
   ],
   "metadata": {
    "collapsed": false,
    "ExecuteTime": {
     "end_time": "2023-08-18T12:08:18.014969Z",
     "start_time": "2023-08-18T12:08:18.004486Z"
    }
   },
   "id": "e244a6b9b987e93a"
  }
 ],
 "metadata": {
  "kernelspec": {
   "display_name": "Python 3",
   "language": "python",
   "name": "python3"
  },
  "language_info": {
   "codemirror_mode": {
    "name": "ipython",
    "version": 2
   },
   "file_extension": ".py",
   "mimetype": "text/x-python",
   "name": "python",
   "nbconvert_exporter": "python",
   "pygments_lexer": "ipython2",
   "version": "2.7.6"
  }
 },
 "nbformat": 4,
 "nbformat_minor": 5
}
