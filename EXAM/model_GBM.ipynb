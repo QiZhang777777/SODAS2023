{
 "cells": [
  {
   "cell_type": "code",
   "execution_count": 3,
   "id": "initial_id",
   "metadata": {
    "collapsed": true,
    "ExecuteTime": {
     "end_time": "2023-08-18T12:08:17.819079Z",
     "start_time": "2023-08-18T12:08:17.799844Z"
    }
   },
   "outputs": [],
   "source": [
    "## Importing libraries\n",
    "import pandas as pd\n",
    "import numpy as np\n",
    "from sklearn.metrics import classification_report\n",
    "from sklearn.ensemble import HistGradientBoostingClassifier\n",
    "from sklearn.model_selection import train_test_split\n",
    "from sklearn.metrics import mean_squared_error as mse\n",
    "from sklearn.metrics import r2_score"
   ]
  },
  {
   "cell_type": "code",
   "execution_count": 16,
   "outputs": [
    {
     "name": "stdout",
     "output_type": "stream",
     "text": [
      "0       Villa/Fritidsbolig\n",
      "1                    Villa\n",
      "2                    Villa\n",
      "3                    Villa\n",
      "4                    Villa\n",
      "               ...        \n",
      "3001                 Villa\n",
      "3002    Villa/Fritidsbolig\n",
      "3003              Rækkehus\n",
      "3004                 Villa\n",
      "3005              Rækkehus\n",
      "Name: type, Length: 3006, dtype: category\n",
      "Categories (9, object): ['Andelsbolig', 'Ejerlejlighed', 'Landejendom', 'Landejendom/Landejendom', ..., 'Rækkehus/Fritidsbolig', 'Villa', 'Villa/Fritidsbolig', 'Villa/Landejendom']\n"
     ]
    }
   ],
   "source": [
    "## Data Cleaning\n",
    "# Get energy dummy\n",
    "sample_data = pd.read_csv('../EXAM/data/cleaned_data.csv',encoding='utf-16')\n",
    "df = pd.DataFrame(sample_data)\n",
    "\n",
    "# Change constructing year to construction age and squared term for OLS.\n",
    "df['age'] = 2023 - df['year']\n",
    "df['age_squared'] = df['age'] ** 2\n",
    "\n",
    "# Price per squared metre\n",
    "df['price_per_m2'] = df['price'] / df['living_space']\n",
    "np.round(df[['price_per_m2','area_code']].groupby('area_code').mean(),2)\n",
    "\n",
    "\n",
    "df['type'] = df['type'].astype('category')\n",
    "\n",
    "\n",
    "print(df['type'])\n"
   ],
   "metadata": {
    "collapsed": false,
    "ExecuteTime": {
     "end_time": "2023-08-18T12:21:25.416110Z",
     "start_time": "2023-08-18T12:21:25.374855Z"
    }
   },
   "id": "786d241c470f8634"
  },
  {
   "cell_type": "code",
   "execution_count": null,
   "outputs": [],
   "source": [
    "## Dataset split\n",
    "columns_to_drop = ['price','address','city','type','energy', 'year','area_name', 'age_squared']\n",
    "X,y = df.drop(columns_to_drop,axis=1),df.price\n",
    "test_size = 0.30 # taking 70:30 training and test set\n",
    "seed = 17082023 # Random number seeding for repeatability of the code\n",
    "X_train, X_test, y_train, y_test = train_test_split(X, y, test_size=test_size, random_state=seed)"
   ],
   "metadata": {
    "collapsed": false,
    "ExecuteTime": {
     "start_time": "2023-08-18T12:08:17.995616Z"
    }
   },
   "id": "e59bd210221eaee4"
  },
  {
   "cell_type": "code",
   "execution_count": null,
   "outputs": [],
   "source": [
    "## Main model\n",
    "eta = 0.1\n",
    "gradient_booster = HistGradientBoostingClassifier(learning_rate=eta)\n",
    "# Gradient boosting classifiers are required to implement gradient boosting.\n",
    "gradient_booster.fit(X_train,y_train)\n",
    "y_test_predict = gradient_booster.predict(X_test)\n",
    "print(classification_report(y_test,y_test_predict))\n",
    "# Use the Python module named classification report to verify the correctness and quality of the accuracy report ()."
   ],
   "metadata": {
    "collapsed": false,
    "ExecuteTime": {
     "start_time": "2023-08-18T12:08:17.998138Z"
    }
   },
   "id": "ac833ad706704629"
  },
  {
   "cell_type": "code",
   "execution_count": null,
   "outputs": [],
   "source": [
    "## Lasso regularization\n",
    "# Normal scaler\n",
    "from sklearn.preprocessing import StandardScaler\n",
    "norm_scaler = StandardScaler().fit(X_train)\n",
    "X_train_std = norm_scaler.transform(X_train)\n",
    "X_test_std = norm_scaler.transform(X_test)\n",
    "\n",
    "# Lasso\n",
    "from sklearn.linear_model import Lasso\n",
    "output = []\n",
    "lambdas = np.logspace(-4, 4, 20)\n",
    "for lambda_ in lambdas:\n",
    "    reg = Lasso(alpha=lambda_, random_state=1)\n",
    "    reg.fit(X_train_std, y_train)\n",
    "    output.append(\n",
    "        [\n",
    "            lambda_,\n",
    "            mse(reg.predict(X_train_std), y_train,squared=False),\n",
    "            mse(reg.predict(X_test_std), y_test,squared=False),\n",
    "        ]\n",
    "    )"
   ],
   "metadata": {
    "collapsed": false,
    "ExecuteTime": {
     "start_time": "2023-08-18T12:08:17.999428Z"
    }
   },
   "id": "f06122208ac3acd0"
  },
  {
   "cell_type": "code",
   "execution_count": null,
   "outputs": [],
   "source": [
    "## Search for best lambda\n",
    "MSE_df = pd.DataFrame(\n",
    "    data=output, columns=[\"lambda\", \"MSE train\", \"MSE test\"]\n",
    ").set_index(\"lambda\")\n",
    "\n",
    "MSE_df.plot(logx=True, logy=True)\n",
    "\n",
    "# find the minimal observations as a series\n",
    "best_fit = MSE_df[\"MSE test\"].nsmallest(1)\n",
    "\n",
    "# take out the data minimum RMSE and the optimal lambda\n",
    "lambda_opt, RMSE_min = next(best_fit.items())\n",
    "print(f\"Minimum RMSE = {RMSE_min:.3f} found for lambda = {lambda_opt:.4f}.\")\n"
   ],
   "metadata": {
    "collapsed": false,
    "ExecuteTime": {
     "start_time": "2023-08-18T12:08:18.001314Z"
    }
   },
   "id": "1dd7b4fd51d29e9f"
  },
  {
   "cell_type": "code",
   "execution_count": null,
   "outputs": [],
   "source": [
    "## 5-fold cross validation\n",
    "from sklearn.pipeline import make_pipeline\n",
    "from sklearn.preprocessing import StandardScaler, PolynomialFeatures\n",
    "from sklearn.model_selection import KFold\n",
    "# Pipeline\n",
    "pipe_lasso = make_pipeline(\n",
    "    PolynomialFeatures(degree=3, include_bias=False),\n",
    "    StandardScaler(),\n",
    "    Lasso(random_state=1),\n",
    ")\n",
    "\n",
    "# Split X, y into development (2/3) and test data (1/3).\n",
    "X_dev, X_test, y_dev, y_test = train_test_split(X, y, test_size=(1 / 3), random_state=1)\n",
    "\n",
    "lambdas = np.logspace(-4, 4, 12)\n",
    "\n",
    "kfolds = KFold(n_splits=5)\n",
    "mses = []\n",
    "\n",
    "for lambda_ in lambdas:\n",
    "\n",
    "    pipe_lasso = make_pipeline(\n",
    "        PolynomialFeatures(degree=3, include_bias=False),\n",
    "        StandardScaler(),\n",
    "        Lasso(alpha=lambda_, random_state=1),\n",
    "    )\n",
    "    mses_test = []\n",
    "    mses_train = []\n",
    "\n",
    "    for train_idx, val_idx in kfolds.split(X_dev, y_dev):\n",
    "        X_train, y_train = X_dev.iloc[train_idx], y_dev[train_idx]\n",
    "        X_val, y_val = X_dev.iloc[val_idx], y_dev[val_idx]\n",
    "\n",
    "        pipe_lasso.fit(X_train, y_train)\n",
    "\n",
    "        mses_train.append(mse(pipe_lasso.predict(X_train), y_train))\n",
    "        mses_test.append(mse(pipe_lasso.predict(X_val), y_val))\n",
    "\n",
    "    mses.append([np.mean(mses_train), np.mean(mses_test), lambda_])\n",
    "\n",
    "# Create df with MSE values\n",
    "df_mses = pd.DataFrame(mses, columns=[\"MSE_train\", \"MSE_test\", \"lambda\"])\n",
    "\n",
    "# Index of the lambda that gives the lowest MSE_test in the dataframe\n",
    "idx_optimal_lambda = df_mses.idxmin()[\"MSE_test\"]\n",
    "lambda_opt_test = df_mses.loc[idx_optimal_lambda][\"lambda\"]\n",
    "opt_test_mse = df_mses.loc[idx_optimal_lambda][\"MSE_test\"]\n",
    "print(\n",
    "    f\"Lowest test MSE equal to {opt_test_mse:.4f} is\"\n",
    "    f\" achieved with lambda = {lambda_opt_test:.3f}.\"\n",
    ")"
   ],
   "metadata": {
    "collapsed": false,
    "ExecuteTime": {
     "start_time": "2023-08-18T12:08:18.002561Z"
    }
   },
   "id": "49d022ce394db2ef"
  },
  {
   "cell_type": "code",
   "execution_count": null,
   "outputs": [],
   "source": [
    "## Root mean squared errors\n",
    "# rmse_GBM = mse(y_test,y_test_predict,squared=False)\n",
    "# rmse_GBM"
   ],
   "metadata": {
    "collapsed": false,
    "ExecuteTime": {
     "start_time": "2023-08-18T12:08:18.003690Z"
    }
   },
   "id": "ef6c75214821fb9a"
  },
  {
   "cell_type": "markdown",
   "source": [],
   "metadata": {
    "collapsed": false
   },
   "id": "f41bafee0ca68b5c"
  },
  {
   "cell_type": "code",
   "execution_count": null,
   "outputs": [],
   "source": [
    "## R-squared\n",
    "r2_GBM = r2_score(y_test,y_test_predict)\n",
    "r2_GBM"
   ],
   "metadata": {
    "collapsed": false,
    "ExecuteTime": {
     "end_time": "2023-08-18T12:08:18.014969Z",
     "start_time": "2023-08-18T12:08:18.004486Z"
    }
   },
   "id": "e244a6b9b987e93a"
  }
 ],
 "metadata": {
  "kernelspec": {
   "display_name": "Python 3",
   "language": "python",
   "name": "python3"
  },
  "language_info": {
   "codemirror_mode": {
    "name": "ipython",
    "version": 2
   },
   "file_extension": ".py",
   "mimetype": "text/x-python",
   "name": "python",
   "nbconvert_exporter": "python",
   "pygments_lexer": "ipython2",
   "version": "2.7.6"
  }
 },
 "nbformat": 4,
 "nbformat_minor": 5
}
