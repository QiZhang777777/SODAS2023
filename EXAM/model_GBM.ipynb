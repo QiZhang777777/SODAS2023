{
 "cells": [
  {
   "cell_type": "code",
   "execution_count": 3,
   "id": "initial_id",
   "metadata": {
    "collapsed": true,
    "ExecuteTime": {
     "end_time": "2023-08-18T12:08:17.819079Z",
     "start_time": "2023-08-18T12:08:17.799844Z"
    }
   },
   "outputs": [],
   "source": [
    "## Importing libraries\n",
    "import pandas as pd\n",
    "import numpy as np\n",
    "from sklearn.metrics import classification_report\n",
    "from sklearn.ensemble import HistGradientBoostingClassifier\n",
    "from sklearn.model_selection import train_test_split\n",
    "from sklearn.metrics import mean_squared_error as mse\n",
    "from sklearn.metrics import r2_score"
   ]
  },
  {
   "cell_type": "code",
   "execution_count": 11,
   "outputs": [
    {
     "data": {
      "text/plain": "         price                     address                  city  \\\n0      1275000             Strandparken 46  Vest- og Sydsjælland   \n1     14750000      Niels Andersens Vej 56      Københavns omegn   \n2      2850000              Nøddevænget 20            Sydjylland   \n3      3695000               Askeengen 112      Københavns omegn   \n4      2095000             Rismøllegade 32            Østjylland   \n...        ...                         ...                   ...   \n3001   1750000  Prins Haralds Allé 101, 1.                   Fyn   \n3002    990000                 Nissumvej 4           Vestjylland   \n3003   1695000              Baunetoften 12          Nordsjælland   \n3004    650000                  Aalevej 40            Østjylland   \n3005   8500000           Vestre Skovvej 30            Østjylland   \n\n                    type  saledays              energy  living_space  \\\n0     Villa/Fritidsbolig       202                   D           170   \n1                  Villa       255                   E           248   \n2                  Villa         0                   C           163   \n3                  Villa         0                   D           130   \n4                  Villa         0                   D           173   \n...                  ...       ...                 ...           ...   \n3001               Villa        48                   G           109   \n3002  Villa/Fritidsbolig        48                   C           117   \n3003            Rækkehus       240                   C            86   \n3004               Villa        48                   D            79   \n3005            Rækkehus        48  Villa/Fritidsbolig           133   \n\n      ground_space  rooms  owner_expenses  ...  A  B  C  D  E  F  G  \\\n0             1019      2            2598  ...  0  0  0  1  0  0  0   \n1              984      8            8643  ...  0  0  0  0  1  0  0   \n2              858      5            3343  ...  0  0  1  0  0  0  0   \n3              649      4            4974  ...  0  0  0  1  0  0  0   \n4             1335      7            2673  ...  0  0  0  1  0  0  0   \n...            ...    ...             ...  ... .. .. .. .. .. .. ..   \n3001           506      3            1922  ...  0  0  0  0  0  0  1   \n3002           800      3            1566  ...  0  0  1  0  0  0  0   \n3003           103      4            2184  ...  0  0  1  0  0  0  0   \n3004           829      3            1464  ...  0  0  0  1  0  0  0   \n3005           129      5            4615  ...  0  0  0  0  0  0  0   \n\n      Villa/Fritidsbolig  age  age_squared  \n0                      0   45         2025  \n1                      0   82         6724  \n2                      0   58         3364  \n3                      0   53         2809  \n4                      0   54         2916  \n...                  ...  ...          ...  \n3001                   0   88         7744  \n3002                   0   81         6561  \n3003                   0   33         1089  \n3004                   0   68         4624  \n3005                   1    0            0  \n\n[3006 rows x 39 columns]",
      "text/html": "<div>\n<style scoped>\n    .dataframe tbody tr th:only-of-type {\n        vertical-align: middle;\n    }\n\n    .dataframe tbody tr th {\n        vertical-align: top;\n    }\n\n    .dataframe thead th {\n        text-align: right;\n    }\n</style>\n<table border=\"1\" class=\"dataframe\">\n  <thead>\n    <tr style=\"text-align: right;\">\n      <th></th>\n      <th>price</th>\n      <th>address</th>\n      <th>city</th>\n      <th>type</th>\n      <th>saledays</th>\n      <th>energy</th>\n      <th>living_space</th>\n      <th>ground_space</th>\n      <th>rooms</th>\n      <th>owner_expenses</th>\n      <th>...</th>\n      <th>A</th>\n      <th>B</th>\n      <th>C</th>\n      <th>D</th>\n      <th>E</th>\n      <th>F</th>\n      <th>G</th>\n      <th>Villa/Fritidsbolig</th>\n      <th>age</th>\n      <th>age_squared</th>\n    </tr>\n  </thead>\n  <tbody>\n    <tr>\n      <th>0</th>\n      <td>1275000</td>\n      <td>Strandparken 46</td>\n      <td>Vest- og Sydsjælland</td>\n      <td>Villa/Fritidsbolig</td>\n      <td>202</td>\n      <td>D</td>\n      <td>170</td>\n      <td>1019</td>\n      <td>2</td>\n      <td>2598</td>\n      <td>...</td>\n      <td>0</td>\n      <td>0</td>\n      <td>0</td>\n      <td>1</td>\n      <td>0</td>\n      <td>0</td>\n      <td>0</td>\n      <td>0</td>\n      <td>45</td>\n      <td>2025</td>\n    </tr>\n    <tr>\n      <th>1</th>\n      <td>14750000</td>\n      <td>Niels Andersens Vej 56</td>\n      <td>Københavns omegn</td>\n      <td>Villa</td>\n      <td>255</td>\n      <td>E</td>\n      <td>248</td>\n      <td>984</td>\n      <td>8</td>\n      <td>8643</td>\n      <td>...</td>\n      <td>0</td>\n      <td>0</td>\n      <td>0</td>\n      <td>0</td>\n      <td>1</td>\n      <td>0</td>\n      <td>0</td>\n      <td>0</td>\n      <td>82</td>\n      <td>6724</td>\n    </tr>\n    <tr>\n      <th>2</th>\n      <td>2850000</td>\n      <td>Nøddevænget 20</td>\n      <td>Sydjylland</td>\n      <td>Villa</td>\n      <td>0</td>\n      <td>C</td>\n      <td>163</td>\n      <td>858</td>\n      <td>5</td>\n      <td>3343</td>\n      <td>...</td>\n      <td>0</td>\n      <td>0</td>\n      <td>1</td>\n      <td>0</td>\n      <td>0</td>\n      <td>0</td>\n      <td>0</td>\n      <td>0</td>\n      <td>58</td>\n      <td>3364</td>\n    </tr>\n    <tr>\n      <th>3</th>\n      <td>3695000</td>\n      <td>Askeengen 112</td>\n      <td>Københavns omegn</td>\n      <td>Villa</td>\n      <td>0</td>\n      <td>D</td>\n      <td>130</td>\n      <td>649</td>\n      <td>4</td>\n      <td>4974</td>\n      <td>...</td>\n      <td>0</td>\n      <td>0</td>\n      <td>0</td>\n      <td>1</td>\n      <td>0</td>\n      <td>0</td>\n      <td>0</td>\n      <td>0</td>\n      <td>53</td>\n      <td>2809</td>\n    </tr>\n    <tr>\n      <th>4</th>\n      <td>2095000</td>\n      <td>Rismøllegade 32</td>\n      <td>Østjylland</td>\n      <td>Villa</td>\n      <td>0</td>\n      <td>D</td>\n      <td>173</td>\n      <td>1335</td>\n      <td>7</td>\n      <td>2673</td>\n      <td>...</td>\n      <td>0</td>\n      <td>0</td>\n      <td>0</td>\n      <td>1</td>\n      <td>0</td>\n      <td>0</td>\n      <td>0</td>\n      <td>0</td>\n      <td>54</td>\n      <td>2916</td>\n    </tr>\n    <tr>\n      <th>...</th>\n      <td>...</td>\n      <td>...</td>\n      <td>...</td>\n      <td>...</td>\n      <td>...</td>\n      <td>...</td>\n      <td>...</td>\n      <td>...</td>\n      <td>...</td>\n      <td>...</td>\n      <td>...</td>\n      <td>...</td>\n      <td>...</td>\n      <td>...</td>\n      <td>...</td>\n      <td>...</td>\n      <td>...</td>\n      <td>...</td>\n      <td>...</td>\n      <td>...</td>\n      <td>...</td>\n    </tr>\n    <tr>\n      <th>3001</th>\n      <td>1750000</td>\n      <td>Prins Haralds Allé 101, 1.</td>\n      <td>Fyn</td>\n      <td>Villa</td>\n      <td>48</td>\n      <td>G</td>\n      <td>109</td>\n      <td>506</td>\n      <td>3</td>\n      <td>1922</td>\n      <td>...</td>\n      <td>0</td>\n      <td>0</td>\n      <td>0</td>\n      <td>0</td>\n      <td>0</td>\n      <td>0</td>\n      <td>1</td>\n      <td>0</td>\n      <td>88</td>\n      <td>7744</td>\n    </tr>\n    <tr>\n      <th>3002</th>\n      <td>990000</td>\n      <td>Nissumvej 4</td>\n      <td>Vestjylland</td>\n      <td>Villa/Fritidsbolig</td>\n      <td>48</td>\n      <td>C</td>\n      <td>117</td>\n      <td>800</td>\n      <td>3</td>\n      <td>1566</td>\n      <td>...</td>\n      <td>0</td>\n      <td>0</td>\n      <td>1</td>\n      <td>0</td>\n      <td>0</td>\n      <td>0</td>\n      <td>0</td>\n      <td>0</td>\n      <td>81</td>\n      <td>6561</td>\n    </tr>\n    <tr>\n      <th>3003</th>\n      <td>1695000</td>\n      <td>Baunetoften 12</td>\n      <td>Nordsjælland</td>\n      <td>Rækkehus</td>\n      <td>240</td>\n      <td>C</td>\n      <td>86</td>\n      <td>103</td>\n      <td>4</td>\n      <td>2184</td>\n      <td>...</td>\n      <td>0</td>\n      <td>0</td>\n      <td>1</td>\n      <td>0</td>\n      <td>0</td>\n      <td>0</td>\n      <td>0</td>\n      <td>0</td>\n      <td>33</td>\n      <td>1089</td>\n    </tr>\n    <tr>\n      <th>3004</th>\n      <td>650000</td>\n      <td>Aalevej 40</td>\n      <td>Østjylland</td>\n      <td>Villa</td>\n      <td>48</td>\n      <td>D</td>\n      <td>79</td>\n      <td>829</td>\n      <td>3</td>\n      <td>1464</td>\n      <td>...</td>\n      <td>0</td>\n      <td>0</td>\n      <td>0</td>\n      <td>1</td>\n      <td>0</td>\n      <td>0</td>\n      <td>0</td>\n      <td>0</td>\n      <td>68</td>\n      <td>4624</td>\n    </tr>\n    <tr>\n      <th>3005</th>\n      <td>8500000</td>\n      <td>Vestre Skovvej 30</td>\n      <td>Østjylland</td>\n      <td>Rækkehus</td>\n      <td>48</td>\n      <td>Villa/Fritidsbolig</td>\n      <td>133</td>\n      <td>129</td>\n      <td>5</td>\n      <td>4615</td>\n      <td>...</td>\n      <td>0</td>\n      <td>0</td>\n      <td>0</td>\n      <td>0</td>\n      <td>0</td>\n      <td>0</td>\n      <td>0</td>\n      <td>1</td>\n      <td>0</td>\n      <td>0</td>\n    </tr>\n  </tbody>\n</table>\n<p>3006 rows × 39 columns</p>\n</div>"
     },
     "execution_count": 11,
     "metadata": {},
     "output_type": "execute_result"
    }
   ],
   "source": [
    "## Data Cleaning\n",
    "# Get energy dummy\n",
    "sample_data = pd.read_excel('../EXAM/data/cleaned_data_excel.xlsx')\n",
    "df = pd.DataFrame(sample_data)\n",
    "df['energy'] = df['energy'].str.replace('Energimærke ', '')\n",
    "df['energy'] = df['energy'].str.replace('A2015','A')\n",
    "df['energy'] = df['energy'].str.replace('A2020','A')\n",
    "dummy_energy = pd.get_dummies(df['energy'])\n",
    "df = pd.concat([df,dummy_energy],axis=1)\n",
    "\n",
    "# Change constructing year to construction age and squared term for OLS.\n",
    "df['age'] = 2023 - df['year']\n",
    "df['age_squared'] = df['age'] ** 2\n",
    "\n",
    "df\n",
    "# df[['price','area_code']].groupby('area_code').mean()\n",
    "\n",
    "\n"
   ],
   "metadata": {
    "collapsed": false,
    "ExecuteTime": {
     "end_time": "2023-08-18T12:15:18.330332Z",
     "start_time": "2023-08-18T12:15:17.643250Z"
    }
   },
   "id": "786d241c470f8634"
  },
  {
   "cell_type": "code",
   "execution_count": null,
   "outputs": [],
   "source": [
    "## Dataset split\n",
    "columns_to_drop = ['price','address','city','type','energy', 'year','area_name', '']\n",
    "X,y = df.drop(columns_to_drop,axis=1),df.price\n",
    "test_size = 0.30 # taking 70:30 training and test set\n",
    "seed = 17082023 # Random number seeding for repeatability of the code\n",
    "X_train, X_test, y_train, y_test = train_test_split(X, y, test_size=test_size, random_state=seed)"
   ],
   "metadata": {
    "collapsed": false,
    "ExecuteTime": {
     "start_time": "2023-08-18T12:08:17.995616Z"
    }
   },
   "id": "e59bd210221eaee4"
  },
  {
   "cell_type": "code",
   "execution_count": null,
   "outputs": [],
   "source": [
    "## Main model\n",
    "eta = 0.1\n",
    "gradient_booster = HistGradientBoostingClassifier(learning_rate=eta)\n",
    "# Gradient boosting classifiers are required to implement gradient boosting.\n",
    "gradient_booster.fit(X_train,y_train)\n",
    "y_test_predict = gradient_booster.predict(X_test)\n",
    "print(classification_report(y_test,y_test_predict))\n",
    "# Use the Python module named classification report to verify the correctness and quality of the accuracy report ()."
   ],
   "metadata": {
    "collapsed": false,
    "ExecuteTime": {
     "start_time": "2023-08-18T12:08:17.998138Z"
    }
   },
   "id": "ac833ad706704629"
  },
  {
   "cell_type": "code",
   "execution_count": null,
   "outputs": [],
   "source": [
    "## Lasso regularization\n",
    "# Normal scaler\n",
    "from sklearn.preprocessing import StandardScaler\n",
    "norm_scaler = StandardScaler().fit(X_train)\n",
    "X_train_std = norm_scaler.transform(X_train)\n",
    "X_test_std = norm_scaler.transform(X_test)\n",
    "\n",
    "# Lasso\n",
    "from sklearn.linear_model import Lasso\n",
    "output = []\n",
    "lambdas = np.logspace(-4, 4, 20)\n",
    "for lambda_ in lambdas:\n",
    "    reg = Lasso(alpha=lambda_, random_state=1)\n",
    "    reg.fit(X_train_std, y_train)\n",
    "    output.append(\n",
    "        [\n",
    "            lambda_,\n",
    "            mse(reg.predict(X_train_std), y_train,squared=False),\n",
    "            mse(reg.predict(X_test_std), y_test,squared=False),\n",
    "        ]\n",
    "    )"
   ],
   "metadata": {
    "collapsed": false,
    "ExecuteTime": {
     "start_time": "2023-08-18T12:08:17.999428Z"
    }
   },
   "id": "f06122208ac3acd0"
  },
  {
   "cell_type": "code",
   "execution_count": null,
   "outputs": [],
   "source": [
    "## Search for best lambda\n",
    "MSE_df = pd.DataFrame(\n",
    "    data=output, columns=[\"lambda\", \"MSE train\", \"MSE test\"]\n",
    ").set_index(\"lambda\")\n",
    "\n",
    "MSE_df.plot(logx=True, logy=True)\n",
    "\n",
    "# find the minimal observations as a series\n",
    "best_fit = MSE_df[\"MSE test\"].nsmallest(1)\n",
    "\n",
    "# take out the data minimum RMSE and the optimal lambda\n",
    "lambda_opt, RMSE_min = next(best_fit.items())\n",
    "print(f\"Minimum RMSE = {RMSE_min:.3f} found for lambda = {lambda_opt:.4f}.\")\n"
   ],
   "metadata": {
    "collapsed": false,
    "ExecuteTime": {
     "start_time": "2023-08-18T12:08:18.001314Z"
    }
   },
   "id": "1dd7b4fd51d29e9f"
  },
  {
   "cell_type": "code",
   "execution_count": null,
   "outputs": [],
   "source": [
    "## 5-fold cross validation\n",
    "from sklearn.pipeline import make_pipeline\n",
    "from sklearn.preprocessing import StandardScaler, PolynomialFeatures\n",
    "from sklearn.model_selection import KFold\n",
    "# Pipeline\n",
    "pipe_lasso = make_pipeline(\n",
    "    PolynomialFeatures(degree=3, include_bias=False),\n",
    "    StandardScaler(),\n",
    "    Lasso(random_state=1),\n",
    ")\n",
    "\n",
    "# Split X, y into development (2/3) and test data (1/3).\n",
    "X_dev, X_test, y_dev, y_test = train_test_split(X, y, test_size=(1 / 3), random_state=1)\n",
    "\n",
    "lambdas = np.logspace(-4, 4, 12)\n",
    "\n",
    "kfolds = KFold(n_splits=5)\n",
    "mses = []\n",
    "\n",
    "for lambda_ in lambdas:\n",
    "\n",
    "    pipe_lasso = make_pipeline(\n",
    "        PolynomialFeatures(degree=3, include_bias=False),\n",
    "        StandardScaler(),\n",
    "        Lasso(alpha=lambda_, random_state=1),\n",
    "    )\n",
    "    mses_test = []\n",
    "    mses_train = []\n",
    "\n",
    "    for train_idx, val_idx in kfolds.split(X_dev, y_dev):\n",
    "        X_train, y_train = X_dev.iloc[train_idx], y_dev[train_idx]\n",
    "        X_val, y_val = X_dev.iloc[val_idx], y_dev[val_idx]\n",
    "\n",
    "        pipe_lasso.fit(X_train, y_train)\n",
    "\n",
    "        mses_train.append(mse(pipe_lasso.predict(X_train), y_train))\n",
    "        mses_test.append(mse(pipe_lasso.predict(X_val), y_val))\n",
    "\n",
    "    mses.append([np.mean(mses_train), np.mean(mses_test), lambda_])\n",
    "\n",
    "# Create df with MSE values\n",
    "df_mses = pd.DataFrame(mses, columns=[\"MSE_train\", \"MSE_test\", \"lambda\"])\n",
    "\n",
    "# Index of the lambda that gives the lowest MSE_test in the dataframe\n",
    "idx_optimal_lambda = df_mses.idxmin()[\"MSE_test\"]\n",
    "lambda_opt_test = df_mses.loc[idx_optimal_lambda][\"lambda\"]\n",
    "opt_test_mse = df_mses.loc[idx_optimal_lambda][\"MSE_test\"]\n",
    "print(\n",
    "    f\"Lowest test MSE equal to {opt_test_mse:.4f} is\"\n",
    "    f\" achieved with lambda = {lambda_opt_test:.3f}.\"\n",
    ")"
   ],
   "metadata": {
    "collapsed": false,
    "ExecuteTime": {
     "start_time": "2023-08-18T12:08:18.002561Z"
    }
   },
   "id": "49d022ce394db2ef"
  },
  {
   "cell_type": "code",
   "execution_count": null,
   "outputs": [],
   "source": [
    "## Root mean squared errors\n",
    "# rmse_GBM = mse(y_test,y_test_predict,squared=False)\n",
    "# rmse_GBM"
   ],
   "metadata": {
    "collapsed": false,
    "ExecuteTime": {
     "start_time": "2023-08-18T12:08:18.003690Z"
    }
   },
   "id": "ef6c75214821fb9a"
  },
  {
   "cell_type": "markdown",
   "source": [],
   "metadata": {
    "collapsed": false
   },
   "id": "f41bafee0ca68b5c"
  },
  {
   "cell_type": "code",
   "execution_count": null,
   "outputs": [],
   "source": [
    "## R-squared\n",
    "r2_GBM = r2_score(y_test,y_test_predict)\n",
    "r2_GBM"
   ],
   "metadata": {
    "collapsed": false,
    "ExecuteTime": {
     "end_time": "2023-08-18T12:08:18.014969Z",
     "start_time": "2023-08-18T12:08:18.004486Z"
    }
   },
   "id": "e244a6b9b987e93a"
  }
 ],
 "metadata": {
  "kernelspec": {
   "display_name": "Python 3",
   "language": "python",
   "name": "python3"
  },
  "language_info": {
   "codemirror_mode": {
    "name": "ipython",
    "version": 2
   },
   "file_extension": ".py",
   "mimetype": "text/x-python",
   "name": "python",
   "nbconvert_exporter": "python",
   "pygments_lexer": "ipython2",
   "version": "2.7.6"
  }
 },
 "nbformat": 4,
 "nbformat_minor": 5
}
