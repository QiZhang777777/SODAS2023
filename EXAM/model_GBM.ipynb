{
 "cells": [
  {
   "cell_type": "code",
   "execution_count": 6,
   "id": "initial_id",
   "metadata": {
    "collapsed": true,
    "ExecuteTime": {
     "end_time": "2023-08-17T20:13:07.048596Z",
     "start_time": "2023-08-17T20:13:06.970366Z"
    }
   },
   "outputs": [],
   "source": [
    "## Importing libraries\n",
    "import pandas as pd\n",
    "import numpy as np\n",
    "from sklearn.metrics import classification_report\n",
    "from sklearn.ensemble import HistGradientBoostingClassifier\n",
    "from sklearn.model_selection import train_test_split\n",
    "from sklearn.metrics import mean_squared_error as mse\n",
    "from sklearn.metrics import r2_score"
   ]
  },
  {
   "cell_type": "code",
   "execution_count": 7,
   "outputs": [
    {
     "data": {
      "text/plain": "        price                         address                  city  \\\n0     4890000               Stengårdsvænge 85      Københavns omegn   \n1      695000            Vestergade 4, 2. tv.            Sydjylland   \n2     4998000                    Horns Rev 27            Sydjylland   \n3     2995000                    Nøddehøj 226          Nordsjælland   \n4    10950000                 Skovbakkevej 24           Nordjylland   \n..        ...                             ...                   ...   \n431   4295000                    Dalgasgade 5           Vestjylland   \n432    849000                   Suhrs Gade 15  Vest- og Sydsjælland   \n433   1250000                   Borgergade 89  Vest- og Sydsjælland   \n434   1775000                      Polarvej 2            Sydjylland   \n435   3495000  Lundebjerggårdsvej 1E, st. tv.      Københavns omegn   \n\n                   type  saledays energy  living_space  ground_space  rooms  \\\n0                 Villa       0.0      C            81           301    4.0   \n1         Ejerlejlighed     127.0      C            90           304    3.0   \n2                 Villa       0.0      E           151          4714    5.0   \n3              Rækkehus       0.0      B            90           211    3.0   \n4                 Villa       0.0      D           248           926    6.0   \n..                  ...       ...    ...           ...           ...    ...   \n431               Villa       3.0      C           220           655    6.0   \n432  Villa/Fritidsbolig       3.0      C           170           552    7.0   \n433               Villa       3.0      F           132           892    4.0   \n434               Villa       3.0      C           120          1621    3.0   \n435       Ejerlejlighed       3.0      B           110          4241    3.0   \n\n     owner_expenses  ...  Villa  Villa/Fritidsbolig  A  B  C  D  E  F  G  \\\n0            3614.0  ...      1                   0  0  0  1  0  0  0  0   \n1            1198.0  ...      0                   0  0  0  1  0  0  0  0   \n2            5464.0  ...      1                   0  0  0  0  0  1  0  0   \n3            2902.0  ...      0                   0  0  1  0  0  0  0  0   \n4            5710.0  ...      1                   0  0  0  0  1  0  0  0   \n..              ...  ...    ...                 ... .. .. .. .. .. .. ..   \n431          2548.0  ...      1                   0  0  0  1  0  0  0  0   \n432          1850.0  ...      0                   1  0  0  1  0  0  0  0   \n433          2598.0  ...      1                   0  0  0  0  0  0  1  0   \n434          2904.0  ...      1                   0  0  0  1  0  0  0  0   \n435          3254.0  ...      0                   0  0  1  0  0  0  0  0   \n\n       age  \n0     68.0  \n1    123.0  \n2     38.0  \n3     30.0  \n4    129.0  \n..     ...  \n431   99.0  \n432   98.0  \n433   45.0  \n434   37.0  \n435   17.0  \n\n[436 rows x 28 columns]",
      "text/html": "<div>\n<style scoped>\n    .dataframe tbody tr th:only-of-type {\n        vertical-align: middle;\n    }\n\n    .dataframe tbody tr th {\n        vertical-align: top;\n    }\n\n    .dataframe thead th {\n        text-align: right;\n    }\n</style>\n<table border=\"1\" class=\"dataframe\">\n  <thead>\n    <tr style=\"text-align: right;\">\n      <th></th>\n      <th>price</th>\n      <th>address</th>\n      <th>city</th>\n      <th>type</th>\n      <th>saledays</th>\n      <th>energy</th>\n      <th>living_space</th>\n      <th>ground_space</th>\n      <th>rooms</th>\n      <th>owner_expenses</th>\n      <th>...</th>\n      <th>Villa</th>\n      <th>Villa/Fritidsbolig</th>\n      <th>A</th>\n      <th>B</th>\n      <th>C</th>\n      <th>D</th>\n      <th>E</th>\n      <th>F</th>\n      <th>G</th>\n      <th>age</th>\n    </tr>\n  </thead>\n  <tbody>\n    <tr>\n      <th>0</th>\n      <td>4890000</td>\n      <td>Stengårdsvænge 85</td>\n      <td>Københavns omegn</td>\n      <td>Villa</td>\n      <td>0.0</td>\n      <td>C</td>\n      <td>81</td>\n      <td>301</td>\n      <td>4.0</td>\n      <td>3614.0</td>\n      <td>...</td>\n      <td>1</td>\n      <td>0</td>\n      <td>0</td>\n      <td>0</td>\n      <td>1</td>\n      <td>0</td>\n      <td>0</td>\n      <td>0</td>\n      <td>0</td>\n      <td>68.0</td>\n    </tr>\n    <tr>\n      <th>1</th>\n      <td>695000</td>\n      <td>Vestergade 4, 2. tv.</td>\n      <td>Sydjylland</td>\n      <td>Ejerlejlighed</td>\n      <td>127.0</td>\n      <td>C</td>\n      <td>90</td>\n      <td>304</td>\n      <td>3.0</td>\n      <td>1198.0</td>\n      <td>...</td>\n      <td>0</td>\n      <td>0</td>\n      <td>0</td>\n      <td>0</td>\n      <td>1</td>\n      <td>0</td>\n      <td>0</td>\n      <td>0</td>\n      <td>0</td>\n      <td>123.0</td>\n    </tr>\n    <tr>\n      <th>2</th>\n      <td>4998000</td>\n      <td>Horns Rev 27</td>\n      <td>Sydjylland</td>\n      <td>Villa</td>\n      <td>0.0</td>\n      <td>E</td>\n      <td>151</td>\n      <td>4714</td>\n      <td>5.0</td>\n      <td>5464.0</td>\n      <td>...</td>\n      <td>1</td>\n      <td>0</td>\n      <td>0</td>\n      <td>0</td>\n      <td>0</td>\n      <td>0</td>\n      <td>1</td>\n      <td>0</td>\n      <td>0</td>\n      <td>38.0</td>\n    </tr>\n    <tr>\n      <th>3</th>\n      <td>2995000</td>\n      <td>Nøddehøj 226</td>\n      <td>Nordsjælland</td>\n      <td>Rækkehus</td>\n      <td>0.0</td>\n      <td>B</td>\n      <td>90</td>\n      <td>211</td>\n      <td>3.0</td>\n      <td>2902.0</td>\n      <td>...</td>\n      <td>0</td>\n      <td>0</td>\n      <td>0</td>\n      <td>1</td>\n      <td>0</td>\n      <td>0</td>\n      <td>0</td>\n      <td>0</td>\n      <td>0</td>\n      <td>30.0</td>\n    </tr>\n    <tr>\n      <th>4</th>\n      <td>10950000</td>\n      <td>Skovbakkevej 24</td>\n      <td>Nordjylland</td>\n      <td>Villa</td>\n      <td>0.0</td>\n      <td>D</td>\n      <td>248</td>\n      <td>926</td>\n      <td>6.0</td>\n      <td>5710.0</td>\n      <td>...</td>\n      <td>1</td>\n      <td>0</td>\n      <td>0</td>\n      <td>0</td>\n      <td>0</td>\n      <td>1</td>\n      <td>0</td>\n      <td>0</td>\n      <td>0</td>\n      <td>129.0</td>\n    </tr>\n    <tr>\n      <th>...</th>\n      <td>...</td>\n      <td>...</td>\n      <td>...</td>\n      <td>...</td>\n      <td>...</td>\n      <td>...</td>\n      <td>...</td>\n      <td>...</td>\n      <td>...</td>\n      <td>...</td>\n      <td>...</td>\n      <td>...</td>\n      <td>...</td>\n      <td>...</td>\n      <td>...</td>\n      <td>...</td>\n      <td>...</td>\n      <td>...</td>\n      <td>...</td>\n      <td>...</td>\n      <td>...</td>\n    </tr>\n    <tr>\n      <th>431</th>\n      <td>4295000</td>\n      <td>Dalgasgade 5</td>\n      <td>Vestjylland</td>\n      <td>Villa</td>\n      <td>3.0</td>\n      <td>C</td>\n      <td>220</td>\n      <td>655</td>\n      <td>6.0</td>\n      <td>2548.0</td>\n      <td>...</td>\n      <td>1</td>\n      <td>0</td>\n      <td>0</td>\n      <td>0</td>\n      <td>1</td>\n      <td>0</td>\n      <td>0</td>\n      <td>0</td>\n      <td>0</td>\n      <td>99.0</td>\n    </tr>\n    <tr>\n      <th>432</th>\n      <td>849000</td>\n      <td>Suhrs Gade 15</td>\n      <td>Vest- og Sydsjælland</td>\n      <td>Villa/Fritidsbolig</td>\n      <td>3.0</td>\n      <td>C</td>\n      <td>170</td>\n      <td>552</td>\n      <td>7.0</td>\n      <td>1850.0</td>\n      <td>...</td>\n      <td>0</td>\n      <td>1</td>\n      <td>0</td>\n      <td>0</td>\n      <td>1</td>\n      <td>0</td>\n      <td>0</td>\n      <td>0</td>\n      <td>0</td>\n      <td>98.0</td>\n    </tr>\n    <tr>\n      <th>433</th>\n      <td>1250000</td>\n      <td>Borgergade 89</td>\n      <td>Vest- og Sydsjælland</td>\n      <td>Villa</td>\n      <td>3.0</td>\n      <td>F</td>\n      <td>132</td>\n      <td>892</td>\n      <td>4.0</td>\n      <td>2598.0</td>\n      <td>...</td>\n      <td>1</td>\n      <td>0</td>\n      <td>0</td>\n      <td>0</td>\n      <td>0</td>\n      <td>0</td>\n      <td>0</td>\n      <td>1</td>\n      <td>0</td>\n      <td>45.0</td>\n    </tr>\n    <tr>\n      <th>434</th>\n      <td>1775000</td>\n      <td>Polarvej 2</td>\n      <td>Sydjylland</td>\n      <td>Villa</td>\n      <td>3.0</td>\n      <td>C</td>\n      <td>120</td>\n      <td>1621</td>\n      <td>3.0</td>\n      <td>2904.0</td>\n      <td>...</td>\n      <td>1</td>\n      <td>0</td>\n      <td>0</td>\n      <td>0</td>\n      <td>1</td>\n      <td>0</td>\n      <td>0</td>\n      <td>0</td>\n      <td>0</td>\n      <td>37.0</td>\n    </tr>\n    <tr>\n      <th>435</th>\n      <td>3495000</td>\n      <td>Lundebjerggårdsvej 1E, st. tv.</td>\n      <td>Københavns omegn</td>\n      <td>Ejerlejlighed</td>\n      <td>3.0</td>\n      <td>B</td>\n      <td>110</td>\n      <td>4241</td>\n      <td>3.0</td>\n      <td>3254.0</td>\n      <td>...</td>\n      <td>0</td>\n      <td>0</td>\n      <td>0</td>\n      <td>1</td>\n      <td>0</td>\n      <td>0</td>\n      <td>0</td>\n      <td>0</td>\n      <td>0</td>\n      <td>17.0</td>\n    </tr>\n  </tbody>\n</table>\n<p>436 rows × 28 columns</p>\n</div>"
     },
     "execution_count": 7,
     "metadata": {},
     "output_type": "execute_result"
    }
   ],
   "source": [
    "## Data Cleaning\n",
    "# Get energy dummy\n",
    "sample_data = pd.read_csv('../EXAM/data/cleaned_data.csv',encoding='utf-16')\n",
    "df = pd.DataFrame(sample_data)\n",
    "df['energy'] = df['energy'].str.replace('Energimærke ', '')\n",
    "df['energy'] = df['energy'].str.replace('A2015','A')\n",
    "df['energy'] = df['energy'].str.replace('A2020','A')\n",
    "dummy_energy = pd.get_dummies(df['energy'])\n",
    "df = pd.concat([df,dummy_energy],axis=1)\n",
    "\n",
    "# Change constructing year to construction age\n",
    "\n",
    "df['age'] = 2023 - df['year']\n",
    "\n",
    "df\n"
   ],
   "metadata": {
    "collapsed": false,
    "ExecuteTime": {
     "end_time": "2023-08-17T20:13:07.166035Z",
     "start_time": "2023-08-17T20:13:06.975337Z"
    }
   },
   "id": "786d241c470f8634"
  },
  {
   "cell_type": "code",
   "execution_count": 8,
   "outputs": [],
   "source": [
    "## Dataset split\n",
    "columns_to_drop = ['price','address','city','type','energy', 'year','area_name']\n",
    "X,y = df.drop(columns_to_drop,axis=1),df.price\n",
    "test_size = 0.30 # taking 70:30 training and test set\n",
    "seed = 17082023 # Random number seeding for repeatability of the code\n",
    "X_train, X_test, y_train, y_test = train_test_split(X, y, test_size=test_size, random_state=seed)"
   ],
   "metadata": {
    "collapsed": false,
    "ExecuteTime": {
     "end_time": "2023-08-17T20:13:07.166224Z",
     "start_time": "2023-08-17T20:13:07.021796Z"
    }
   },
   "id": "e59bd210221eaee4"
  },
  {
   "cell_type": "code",
   "execution_count": 9,
   "outputs": [
    {
     "name": "stdout",
     "output_type": "stream",
     "text": [
      "              precision    recall  f1-score   support\n",
      "\n",
      "      295000       0.00      0.00      0.00         0\n",
      "      395000       0.00      0.00      0.00         1\n",
      "      430000       0.00      0.00      0.00         0\n",
      "      495000       0.00      0.00      0.00         1\n",
      "      550000       0.00      0.00      0.00         0\n",
      "      625000       0.00      0.00      0.00         1\n",
      "      795000       0.00      0.00      0.00         1\n",
      "      798000       0.00      0.00      0.00         1\n",
      "      825000       0.00      0.00      0.00         1\n",
      "      849000       0.00      0.00      0.00         1\n",
      "      895000       0.00      0.00      0.00         0\n",
      "      975000       0.00      0.00      0.00         0\n",
      "      995000       0.00      0.00      0.00         1\n",
      "      998000       0.00      0.00      0.00         0\n",
      "     1085000       0.00      0.00      0.00         1\n",
      "     1095000       0.00      0.00      0.00         2\n",
      "     1098000       1.00      1.00      1.00         1\n",
      "     1125000       0.00      0.00      0.00         1\n",
      "     1148000       0.00      0.00      0.00         1\n",
      "     1150000       1.00      0.50      0.67         2\n",
      "     1175000       0.00      0.00      0.00         1\n",
      "     1195000       0.00      0.00      0.00         4\n",
      "     1225000       0.00      0.00      0.00         1\n",
      "     1245000       0.00      0.00      0.00         0\n",
      "     1250000       0.00      0.00      0.00         2\n",
      "     1295000       0.00      0.00      0.00         1\n",
      "     1345000       0.00      0.00      0.00         0\n",
      "     1395000       0.00      0.00      0.00         0\n",
      "     1425000       0.00      0.00      0.00         2\n",
      "     1448000       0.00      0.00      0.00         1\n",
      "     1495000       0.00      0.00      0.00         3\n",
      "     1498000       0.00      0.00      0.00         1\n",
      "     1575000       0.00      0.00      0.00         1\n",
      "     1595000       0.09      0.25      0.13         4\n",
      "     1685000       0.00      0.00      0.00         1\n",
      "     1695000       0.00      0.00      0.00         3\n",
      "     1748000       1.00      1.00      1.00         2\n",
      "     1775000       0.00      0.00      0.00         0\n",
      "     1795000       0.00      0.00      0.00         2\n",
      "     1845000       0.00      0.00      0.00         0\n",
      "     1895000       0.00      0.00      0.00         1\n",
      "     1950000       0.00      0.00      0.00         0\n",
      "     1985000       0.00      0.00      0.00         1\n",
      "     1995000       0.00      0.00      0.00         2\n",
      "     2095000       0.00      0.00      0.00         0\n",
      "     2145000       1.00      1.00      1.00         2\n",
      "     2175000       0.00      0.00      0.00         1\n",
      "     2195000       0.00      0.00      0.00         2\n",
      "     2395000       0.00      0.00      0.00         2\n",
      "     2495000       0.50      0.50      0.50         4\n",
      "     2575000       0.00      0.00      0.00         0\n",
      "     2595000       0.00      0.00      0.00         2\n",
      "     2645000       0.00      0.00      0.00         1\n",
      "     2695000       0.00      0.00      0.00         1\n",
      "     2745000       0.00      0.00      0.00         2\n",
      "     2795000       1.00      1.00      1.00         1\n",
      "     2799000       0.00      0.00      0.00         1\n",
      "     2850000       0.00      0.00      0.00         0\n",
      "     2895000       0.00      0.00      0.00         2\n",
      "     2995000       0.00      0.00      0.00         5\n",
      "     3195000       0.00      0.00      0.00         2\n",
      "     3250000       0.00      0.00      0.00         1\n",
      "     3295000       0.00      0.00      0.00         0\n",
      "     3395000       0.00      0.00      0.00         2\n",
      "     3398000       0.00      0.00      0.00         1\n",
      "     3495000       0.00      0.00      0.00         3\n",
      "     3595000       1.00      1.00      1.00         1\n",
      "     3598000       0.00      0.00      0.00         1\n",
      "     3665000       0.00      0.00      0.00         1\n",
      "     3895000       0.00      0.00      0.00         1\n",
      "     3945000       1.00      0.50      0.67         2\n",
      "     3995000       0.14      0.50      0.22         2\n",
      "     4095000       0.00      0.00      0.00         1\n",
      "     4195000       0.00      0.00      0.00         1\n",
      "     4250000       0.00      0.00      0.00         0\n",
      "     4295000       0.00      0.00      0.00         2\n",
      "     4350000       0.00      0.00      0.00         1\n",
      "     4395000       0.00      0.00      0.00         1\n",
      "     4495000       1.00      0.50      0.67         2\n",
      "     4695000       0.00      0.00      0.00         1\n",
      "     4700000       0.00      0.00      0.00         1\n",
      "     4798000       0.00      0.00      0.00         0\n",
      "     4890000       0.00      0.00      0.00         1\n",
      "     4950000       1.00      1.00      1.00         1\n",
      "     4995000       1.00      0.33      0.50         3\n",
      "     5195000       0.00      0.00      0.00         1\n",
      "     5250000       0.00      0.00      0.00         1\n",
      "     5295000       0.00      0.00      0.00         1\n",
      "     5395000       0.00      0.00      0.00         1\n",
      "     5495000       0.00      0.00      0.00         1\n",
      "     5500000       0.00      0.00      0.00         0\n",
      "     5600000       0.00      0.00      0.00         1\n",
      "     5798000       0.00      0.00      0.00         1\n",
      "     5995000       0.00      0.00      0.00         1\n",
      "     5998000       1.00      0.33      0.50         3\n",
      "     6195000       0.50      1.00      0.67         1\n",
      "     6495000       0.00      0.00      0.00         1\n",
      "     6595000       0.00      0.00      0.00         0\n",
      "     6995000       0.00      0.00      0.00         1\n",
      "     7475000       0.00      0.00      0.00         1\n",
      "     7495000       0.00      0.00      0.00         0\n",
      "     7500000       0.50      1.00      0.67         1\n",
      "     7750000       0.00      0.00      0.00         0\n",
      "     8200000       0.00      0.00      0.00         1\n",
      "     8495000       0.00      0.00      0.00         1\n",
      "     8995000       0.00      0.00      0.00         1\n",
      "     9250000       0.00      0.00      0.00         0\n",
      "     9495000       0.00      0.00      0.00         1\n",
      "    12500000       1.00      1.00      1.00         1\n",
      "    13000000       0.00      0.00      0.00         0\n",
      "    13500000       0.00      0.00      0.00         1\n",
      "    17800000       0.00      0.00      0.00         1\n",
      "    19995000       0.00      0.00      0.00         0\n",
      "    27000000       0.00      0.00      0.00         1\n",
      "\n",
      "    accuracy                           0.15       131\n",
      "   macro avg       0.12      0.11      0.11       131\n",
      "weighted avg       0.19      0.15      0.16       131\n"
     ]
    },
    {
     "name": "stderr",
     "output_type": "stream",
     "text": [
      "/Library/Frameworks/Python.framework/Versions/3.11/lib/python3.11/site-packages/sklearn/metrics/_classification.py:1469: UndefinedMetricWarning: Precision and F-score are ill-defined and being set to 0.0 in labels with no predicted samples. Use `zero_division` parameter to control this behavior.\n",
      "  _warn_prf(average, modifier, msg_start, len(result))\n",
      "/Library/Frameworks/Python.framework/Versions/3.11/lib/python3.11/site-packages/sklearn/metrics/_classification.py:1469: UndefinedMetricWarning: Recall and F-score are ill-defined and being set to 0.0 in labels with no true samples. Use `zero_division` parameter to control this behavior.\n",
      "  _warn_prf(average, modifier, msg_start, len(result))\n",
      "/Library/Frameworks/Python.framework/Versions/3.11/lib/python3.11/site-packages/sklearn/metrics/_classification.py:1469: UndefinedMetricWarning: Precision and F-score are ill-defined and being set to 0.0 in labels with no predicted samples. Use `zero_division` parameter to control this behavior.\n",
      "  _warn_prf(average, modifier, msg_start, len(result))\n",
      "/Library/Frameworks/Python.framework/Versions/3.11/lib/python3.11/site-packages/sklearn/metrics/_classification.py:1469: UndefinedMetricWarning: Recall and F-score are ill-defined and being set to 0.0 in labels with no true samples. Use `zero_division` parameter to control this behavior.\n",
      "  _warn_prf(average, modifier, msg_start, len(result))\n",
      "/Library/Frameworks/Python.framework/Versions/3.11/lib/python3.11/site-packages/sklearn/metrics/_classification.py:1469: UndefinedMetricWarning: Precision and F-score are ill-defined and being set to 0.0 in labels with no predicted samples. Use `zero_division` parameter to control this behavior.\n",
      "  _warn_prf(average, modifier, msg_start, len(result))\n",
      "/Library/Frameworks/Python.framework/Versions/3.11/lib/python3.11/site-packages/sklearn/metrics/_classification.py:1469: UndefinedMetricWarning: Recall and F-score are ill-defined and being set to 0.0 in labels with no true samples. Use `zero_division` parameter to control this behavior.\n",
      "  _warn_prf(average, modifier, msg_start, len(result))\n"
     ]
    }
   ],
   "source": [
    "## Main model\n",
    "eta = 0.1\n",
    "gradient_booster = HistGradientBoostingClassifier(learning_rate=eta)\n",
    "# Gradient boosting classifiers are required to implement gradient boosting.\n",
    "gradient_booster.fit(X_train,y_train)\n",
    "y_test_predict = gradient_booster.predict(X_test)\n",
    "print(classification_report(y_test,y_test_predict))\n",
    "# Use the Python module named classification report to verify the correctness and quality of the accuracy report ()."
   ],
   "metadata": {
    "collapsed": false,
    "ExecuteTime": {
     "end_time": "2023-08-17T20:14:02.393005Z",
     "start_time": "2023-08-17T20:13:07.027479Z"
    }
   },
   "id": "ac833ad706704629"
  },
  {
   "cell_type": "code",
   "execution_count": 10,
   "outputs": [
    {
     "name": "stderr",
     "output_type": "stream",
     "text": [
      "/Library/Frameworks/Python.framework/Versions/3.11/lib/python3.11/site-packages/sklearn/linear_model/_coordinate_descent.py:628: ConvergenceWarning: Objective did not converge. You might want to increase the number of iterations, check the scale of the features or consider increasing regularisation. Duality gap: 2.748e+13, tolerance: 4.478e+11\n",
      "  model = cd_fast.enet_coordinate_descent(\n",
      "/Library/Frameworks/Python.framework/Versions/3.11/lib/python3.11/site-packages/sklearn/linear_model/_coordinate_descent.py:628: ConvergenceWarning: Objective did not converge. You might want to increase the number of iterations, check the scale of the features or consider increasing regularisation. Duality gap: 2.748e+13, tolerance: 4.478e+11\n",
      "  model = cd_fast.enet_coordinate_descent(\n",
      "/Library/Frameworks/Python.framework/Versions/3.11/lib/python3.11/site-packages/sklearn/linear_model/_coordinate_descent.py:628: ConvergenceWarning: Objective did not converge. You might want to increase the number of iterations, check the scale of the features or consider increasing regularisation. Duality gap: 2.748e+13, tolerance: 4.478e+11\n",
      "  model = cd_fast.enet_coordinate_descent(\n",
      "/Library/Frameworks/Python.framework/Versions/3.11/lib/python3.11/site-packages/sklearn/linear_model/_coordinate_descent.py:628: ConvergenceWarning: Objective did not converge. You might want to increase the number of iterations, check the scale of the features or consider increasing regularisation. Duality gap: 2.748e+13, tolerance: 4.478e+11\n",
      "  model = cd_fast.enet_coordinate_descent(\n",
      "/Library/Frameworks/Python.framework/Versions/3.11/lib/python3.11/site-packages/sklearn/linear_model/_coordinate_descent.py:628: ConvergenceWarning: Objective did not converge. You might want to increase the number of iterations, check the scale of the features or consider increasing regularisation. Duality gap: 2.748e+13, tolerance: 4.478e+11\n",
      "  model = cd_fast.enet_coordinate_descent(\n",
      "/Library/Frameworks/Python.framework/Versions/3.11/lib/python3.11/site-packages/sklearn/linear_model/_coordinate_descent.py:628: ConvergenceWarning: Objective did not converge. You might want to increase the number of iterations, check the scale of the features or consider increasing regularisation. Duality gap: 2.748e+13, tolerance: 4.478e+11\n",
      "  model = cd_fast.enet_coordinate_descent(\n",
      "/Library/Frameworks/Python.framework/Versions/3.11/lib/python3.11/site-packages/sklearn/linear_model/_coordinate_descent.py:628: ConvergenceWarning: Objective did not converge. You might want to increase the number of iterations, check the scale of the features or consider increasing regularisation. Duality gap: 2.748e+13, tolerance: 4.478e+11\n",
      "  model = cd_fast.enet_coordinate_descent(\n",
      "/Library/Frameworks/Python.framework/Versions/3.11/lib/python3.11/site-packages/sklearn/linear_model/_coordinate_descent.py:628: ConvergenceWarning: Objective did not converge. You might want to increase the number of iterations, check the scale of the features or consider increasing regularisation. Duality gap: 2.748e+13, tolerance: 4.478e+11\n",
      "  model = cd_fast.enet_coordinate_descent(\n",
      "/Library/Frameworks/Python.framework/Versions/3.11/lib/python3.11/site-packages/sklearn/linear_model/_coordinate_descent.py:628: ConvergenceWarning: Objective did not converge. You might want to increase the number of iterations, check the scale of the features or consider increasing regularisation. Duality gap: 2.748e+13, tolerance: 4.478e+11\n",
      "  model = cd_fast.enet_coordinate_descent(\n",
      "/Library/Frameworks/Python.framework/Versions/3.11/lib/python3.11/site-packages/sklearn/linear_model/_coordinate_descent.py:628: ConvergenceWarning: Objective did not converge. You might want to increase the number of iterations, check the scale of the features or consider increasing regularisation. Duality gap: 2.748e+13, tolerance: 4.478e+11\n",
      "  model = cd_fast.enet_coordinate_descent(\n",
      "/Library/Frameworks/Python.framework/Versions/3.11/lib/python3.11/site-packages/sklearn/linear_model/_coordinate_descent.py:628: ConvergenceWarning: Objective did not converge. You might want to increase the number of iterations, check the scale of the features or consider increasing regularisation. Duality gap: 2.748e+13, tolerance: 4.478e+11\n",
      "  model = cd_fast.enet_coordinate_descent(\n",
      "/Library/Frameworks/Python.framework/Versions/3.11/lib/python3.11/site-packages/sklearn/linear_model/_coordinate_descent.py:628: ConvergenceWarning: Objective did not converge. You might want to increase the number of iterations, check the scale of the features or consider increasing regularisation. Duality gap: 2.748e+13, tolerance: 4.478e+11\n",
      "  model = cd_fast.enet_coordinate_descent(\n",
      "/Library/Frameworks/Python.framework/Versions/3.11/lib/python3.11/site-packages/sklearn/linear_model/_coordinate_descent.py:628: ConvergenceWarning: Objective did not converge. You might want to increase the number of iterations, check the scale of the features or consider increasing regularisation. Duality gap: 1.898e+13, tolerance: 4.478e+11\n",
      "  model = cd_fast.enet_coordinate_descent(\n",
      "/Library/Frameworks/Python.framework/Versions/3.11/lib/python3.11/site-packages/sklearn/linear_model/_coordinate_descent.py:628: ConvergenceWarning: Objective did not converge. You might want to increase the number of iterations, check the scale of the features or consider increasing regularisation. Duality gap: 1.899e+13, tolerance: 4.478e+11\n",
      "  model = cd_fast.enet_coordinate_descent(\n",
      "/Library/Frameworks/Python.framework/Versions/3.11/lib/python3.11/site-packages/sklearn/linear_model/_coordinate_descent.py:628: ConvergenceWarning: Objective did not converge. You might want to increase the number of iterations, check the scale of the features or consider increasing regularisation. Duality gap: 1.902e+13, tolerance: 4.478e+11\n",
      "  model = cd_fast.enet_coordinate_descent(\n"
     ]
    }
   ],
   "source": [
    "## Lasso regularization\n",
    "# Normal scaler\n",
    "from sklearn.preprocessing import StandardScaler\n",
    "norm_scaler = StandardScaler().fit(X_train)\n",
    "X_train_std = norm_scaler.transform(X_train)\n",
    "X_test_std = norm_scaler.transform(X_test)\n",
    "\n",
    "# Lasso\n",
    "from sklearn.linear_model import Lasso\n",
    "output = []\n",
    "lambdas = np.logspace(-4, 4, 20)\n",
    "for lambda_ in lambdas:\n",
    "    reg = Lasso(alpha=lambda_, random_state=1)\n",
    "    reg.fit(X_train_std, y_train)\n",
    "    output.append(\n",
    "        [\n",
    "            lambda_,\n",
    "            mse(reg.predict(X_train_std), y_train,squared=False),\n",
    "            mse(reg.predict(X_test_std), y_test,squared=False),\n",
    "        ]\n",
    "    )"
   ],
   "metadata": {
    "collapsed": false,
    "ExecuteTime": {
     "end_time": "2023-08-17T20:14:02.393522Z",
     "start_time": "2023-08-17T20:14:00.195348Z"
    }
   },
   "id": "f06122208ac3acd0"
  },
  {
   "cell_type": "code",
   "execution_count": 11,
   "outputs": [
    {
     "name": "stdout",
     "output_type": "stream",
     "text": [
      "Minimum RMSE = 2430600.041 found for lambda = 10000.0000.\n"
     ]
    },
    {
     "data": {
      "text/plain": "<Figure size 640x480 with 1 Axes>",
      "image/png": "[encoded data removed]"
     },
     "metadata": {},
     "output_type": "display_data"
    }
   ],
   "source": [
    "## Search for best lambda\n",
    "MSE_df = pd.DataFrame(\n",
    "    data=output, columns=[\"lambda\", \"MSE train\", \"MSE test\"]\n",
    ").set_index(\"lambda\")\n",
    "\n",
    "MSE_df.plot(logx=True, logy=True)\n",
    "\n",
    "# find the minimal observations as a series\n",
    "best_fit = MSE_df[\"MSE test\"].nsmallest(1)\n",
    "\n",
    "# take out the data minimum RMSE and the optimal lambda\n",
    "lambda_opt, RMSE_min = next(best_fit.items())\n",
    "print(f\"Minimum RMSE = {RMSE_min:.3f} found for lambda = {lambda_opt:.4f}.\")\n"
   ],
   "metadata": {
    "collapsed": false,
    "ExecuteTime": {
     "end_time": "2023-08-17T20:14:02.394428Z",
     "start_time": "2023-08-17T20:14:00.497760Z"
    }
   },
   "id": "1dd7b4fd51d29e9f"
  },
  {
   "cell_type": "code",
   "execution_count": 12,
   "outputs": [
    {
     "ename": "KeyError",
     "evalue": "'[58, 61, 62, 65, 66, 67, 69, 73, 78, 80, 81, 82, 85, 89, 90, 91, 92, 93, 95, 98, 101, 102, 106, 107, 117, 119, 122, 127, 128, 132, 139, 146, 159, 161, 162, 164, 165, 168, 171, 172, 173, 174, 179, 180, 185, 186, 192, 197, 201, 204, 206, 207, 208, 213, 214, 218, 221, 224, 228, 229, 233, 242, 244, 246, 247, 249, 251, 256, 258, 260, 261, 267, 271, 273, 277, 283, 284, 285, 286, 289] not in index'",
     "output_type": "error",
     "traceback": [
      "\u001B[0;31m---------------------------------------------------------------------------\u001B[0m",
      "\u001B[0;31mKeyError\u001B[0m                                  Traceback (most recent call last)",
      "Cell \u001B[0;32mIn [12], line 31\u001B[0m\n\u001B[1;32m     28\u001B[0m mses_train \u001B[38;5;241m=\u001B[39m []\n\u001B[1;32m     30\u001B[0m \u001B[38;5;28;01mfor\u001B[39;00m train_idx, val_idx \u001B[38;5;129;01min\u001B[39;00m kfolds\u001B[38;5;241m.\u001B[39msplit(X_dev, y_dev):\n\u001B[0;32m---> 31\u001B[0m     X_train, y_train \u001B[38;5;241m=\u001B[39m X_dev\u001B[38;5;241m.\u001B[39miloc[train_idx], \u001B[43my_dev\u001B[49m\u001B[43m[\u001B[49m\u001B[43mtrain_idx\u001B[49m\u001B[43m]\u001B[49m\n\u001B[1;32m     32\u001B[0m     X_val, y_val \u001B[38;5;241m=\u001B[39m X_dev\u001B[38;5;241m.\u001B[39miloc[val_idx], y_dev[val_idx]\n\u001B[1;32m     34\u001B[0m     pipe_lasso\u001B[38;5;241m.\u001B[39mfit(X_train, y_train)\n",
      "File \u001B[0;32m/Library/Frameworks/Python.framework/Versions/3.11/lib/python3.11/site-packages/pandas/core/series.py:1007\u001B[0m, in \u001B[0;36mSeries.__getitem__\u001B[0;34m(self, key)\u001B[0m\n\u001B[1;32m   1004\u001B[0m     key \u001B[38;5;241m=\u001B[39m np\u001B[38;5;241m.\u001B[39masarray(key, dtype\u001B[38;5;241m=\u001B[39m\u001B[38;5;28mbool\u001B[39m)\n\u001B[1;32m   1005\u001B[0m     \u001B[38;5;28;01mreturn\u001B[39;00m \u001B[38;5;28mself\u001B[39m\u001B[38;5;241m.\u001B[39m_get_values(key)\n\u001B[0;32m-> 1007\u001B[0m \u001B[38;5;28;01mreturn\u001B[39;00m \u001B[38;5;28;43mself\u001B[39;49m\u001B[38;5;241;43m.\u001B[39;49m\u001B[43m_get_with\u001B[49m\u001B[43m(\u001B[49m\u001B[43mkey\u001B[49m\u001B[43m)\u001B[49m\n",
      "File \u001B[0;32m/Library/Frameworks/Python.framework/Versions/3.11/lib/python3.11/site-packages/pandas/core/series.py:1042\u001B[0m, in \u001B[0;36mSeries._get_with\u001B[0;34m(self, key)\u001B[0m\n\u001B[1;32m   1038\u001B[0m \u001B[38;5;28;01mif\u001B[39;00m key_type \u001B[38;5;241m==\u001B[39m \u001B[38;5;124m\"\u001B[39m\u001B[38;5;124minteger\u001B[39m\u001B[38;5;124m\"\u001B[39m:\n\u001B[1;32m   1039\u001B[0m     \u001B[38;5;66;03m# We need to decide whether to treat this as a positional indexer\u001B[39;00m\n\u001B[1;32m   1040\u001B[0m     \u001B[38;5;66;03m#  (i.e. self.iloc) or label-based (i.e. self.loc)\u001B[39;00m\n\u001B[1;32m   1041\u001B[0m     \u001B[38;5;28;01mif\u001B[39;00m \u001B[38;5;129;01mnot\u001B[39;00m \u001B[38;5;28mself\u001B[39m\u001B[38;5;241m.\u001B[39mindex\u001B[38;5;241m.\u001B[39m_should_fallback_to_positional:\n\u001B[0;32m-> 1042\u001B[0m         \u001B[38;5;28;01mreturn\u001B[39;00m \u001B[38;5;28;43mself\u001B[39;49m\u001B[38;5;241;43m.\u001B[39;49m\u001B[43mloc\u001B[49m\u001B[43m[\u001B[49m\u001B[43mkey\u001B[49m\u001B[43m]\u001B[49m\n\u001B[1;32m   1043\u001B[0m     \u001B[38;5;28;01melse\u001B[39;00m:\n\u001B[1;32m   1044\u001B[0m         \u001B[38;5;28;01mreturn\u001B[39;00m \u001B[38;5;28mself\u001B[39m\u001B[38;5;241m.\u001B[39miloc[key]\n",
      "File \u001B[0;32m/Library/Frameworks/Python.framework/Versions/3.11/lib/python3.11/site-packages/pandas/core/indexing.py:1073\u001B[0m, in \u001B[0;36m_LocationIndexer.__getitem__\u001B[0;34m(self, key)\u001B[0m\n\u001B[1;32m   1070\u001B[0m axis \u001B[38;5;241m=\u001B[39m \u001B[38;5;28mself\u001B[39m\u001B[38;5;241m.\u001B[39maxis \u001B[38;5;129;01mor\u001B[39;00m \u001B[38;5;241m0\u001B[39m\n\u001B[1;32m   1072\u001B[0m maybe_callable \u001B[38;5;241m=\u001B[39m com\u001B[38;5;241m.\u001B[39mapply_if_callable(key, \u001B[38;5;28mself\u001B[39m\u001B[38;5;241m.\u001B[39mobj)\n\u001B[0;32m-> 1073\u001B[0m \u001B[38;5;28;01mreturn\u001B[39;00m \u001B[38;5;28;43mself\u001B[39;49m\u001B[38;5;241;43m.\u001B[39;49m\u001B[43m_getitem_axis\u001B[49m\u001B[43m(\u001B[49m\u001B[43mmaybe_callable\u001B[49m\u001B[43m,\u001B[49m\u001B[43m \u001B[49m\u001B[43maxis\u001B[49m\u001B[38;5;241;43m=\u001B[39;49m\u001B[43maxis\u001B[49m\u001B[43m)\u001B[49m\n",
      "File \u001B[0;32m/Library/Frameworks/Python.framework/Versions/3.11/lib/python3.11/site-packages/pandas/core/indexing.py:1301\u001B[0m, in \u001B[0;36m_LocIndexer._getitem_axis\u001B[0;34m(self, key, axis)\u001B[0m\n\u001B[1;32m   1298\u001B[0m     \u001B[38;5;28;01mif\u001B[39;00m \u001B[38;5;28mhasattr\u001B[39m(key, \u001B[38;5;124m\"\u001B[39m\u001B[38;5;124mndim\u001B[39m\u001B[38;5;124m\"\u001B[39m) \u001B[38;5;129;01mand\u001B[39;00m key\u001B[38;5;241m.\u001B[39mndim \u001B[38;5;241m>\u001B[39m \u001B[38;5;241m1\u001B[39m:\n\u001B[1;32m   1299\u001B[0m         \u001B[38;5;28;01mraise\u001B[39;00m \u001B[38;5;167;01mValueError\u001B[39;00m(\u001B[38;5;124m\"\u001B[39m\u001B[38;5;124mCannot index with multidimensional key\u001B[39m\u001B[38;5;124m\"\u001B[39m)\n\u001B[0;32m-> 1301\u001B[0m     \u001B[38;5;28;01mreturn\u001B[39;00m \u001B[38;5;28;43mself\u001B[39;49m\u001B[38;5;241;43m.\u001B[39;49m\u001B[43m_getitem_iterable\u001B[49m\u001B[43m(\u001B[49m\u001B[43mkey\u001B[49m\u001B[43m,\u001B[49m\u001B[43m \u001B[49m\u001B[43maxis\u001B[49m\u001B[38;5;241;43m=\u001B[39;49m\u001B[43maxis\u001B[49m\u001B[43m)\u001B[49m\n\u001B[1;32m   1303\u001B[0m \u001B[38;5;66;03m# nested tuple slicing\u001B[39;00m\n\u001B[1;32m   1304\u001B[0m \u001B[38;5;28;01mif\u001B[39;00m is_nested_tuple(key, labels):\n",
      "File \u001B[0;32m/Library/Frameworks/Python.framework/Versions/3.11/lib/python3.11/site-packages/pandas/core/indexing.py:1239\u001B[0m, in \u001B[0;36m_LocIndexer._getitem_iterable\u001B[0;34m(self, key, axis)\u001B[0m\n\u001B[1;32m   1236\u001B[0m \u001B[38;5;28mself\u001B[39m\u001B[38;5;241m.\u001B[39m_validate_key(key, axis)\n\u001B[1;32m   1238\u001B[0m \u001B[38;5;66;03m# A collection of keys\u001B[39;00m\n\u001B[0;32m-> 1239\u001B[0m keyarr, indexer \u001B[38;5;241m=\u001B[39m \u001B[38;5;28;43mself\u001B[39;49m\u001B[38;5;241;43m.\u001B[39;49m\u001B[43m_get_listlike_indexer\u001B[49m\u001B[43m(\u001B[49m\u001B[43mkey\u001B[49m\u001B[43m,\u001B[49m\u001B[43m \u001B[49m\u001B[43maxis\u001B[49m\u001B[43m)\u001B[49m\n\u001B[1;32m   1240\u001B[0m \u001B[38;5;28;01mreturn\u001B[39;00m \u001B[38;5;28mself\u001B[39m\u001B[38;5;241m.\u001B[39mobj\u001B[38;5;241m.\u001B[39m_reindex_with_indexers(\n\u001B[1;32m   1241\u001B[0m     {axis: [keyarr, indexer]}, copy\u001B[38;5;241m=\u001B[39m\u001B[38;5;28;01mTrue\u001B[39;00m, allow_dups\u001B[38;5;241m=\u001B[39m\u001B[38;5;28;01mTrue\u001B[39;00m\n\u001B[1;32m   1242\u001B[0m )\n",
      "File \u001B[0;32m/Library/Frameworks/Python.framework/Versions/3.11/lib/python3.11/site-packages/pandas/core/indexing.py:1432\u001B[0m, in \u001B[0;36m_LocIndexer._get_listlike_indexer\u001B[0;34m(self, key, axis)\u001B[0m\n\u001B[1;32m   1429\u001B[0m ax \u001B[38;5;241m=\u001B[39m \u001B[38;5;28mself\u001B[39m\u001B[38;5;241m.\u001B[39mobj\u001B[38;5;241m.\u001B[39m_get_axis(axis)\n\u001B[1;32m   1430\u001B[0m axis_name \u001B[38;5;241m=\u001B[39m \u001B[38;5;28mself\u001B[39m\u001B[38;5;241m.\u001B[39mobj\u001B[38;5;241m.\u001B[39m_get_axis_name(axis)\n\u001B[0;32m-> 1432\u001B[0m keyarr, indexer \u001B[38;5;241m=\u001B[39m \u001B[43max\u001B[49m\u001B[38;5;241;43m.\u001B[39;49m\u001B[43m_get_indexer_strict\u001B[49m\u001B[43m(\u001B[49m\u001B[43mkey\u001B[49m\u001B[43m,\u001B[49m\u001B[43m \u001B[49m\u001B[43maxis_name\u001B[49m\u001B[43m)\u001B[49m\n\u001B[1;32m   1434\u001B[0m \u001B[38;5;28;01mreturn\u001B[39;00m keyarr, indexer\n",
      "File \u001B[0;32m/Library/Frameworks/Python.framework/Versions/3.11/lib/python3.11/site-packages/pandas/core/indexes/base.py:6111\u001B[0m, in \u001B[0;36mIndex._get_indexer_strict\u001B[0;34m(self, key, axis_name)\u001B[0m\n\u001B[1;32m   6108\u001B[0m \u001B[38;5;28;01melse\u001B[39;00m:\n\u001B[1;32m   6109\u001B[0m     keyarr, indexer, new_indexer \u001B[38;5;241m=\u001B[39m \u001B[38;5;28mself\u001B[39m\u001B[38;5;241m.\u001B[39m_reindex_non_unique(keyarr)\n\u001B[0;32m-> 6111\u001B[0m \u001B[38;5;28;43mself\u001B[39;49m\u001B[38;5;241;43m.\u001B[39;49m\u001B[43m_raise_if_missing\u001B[49m\u001B[43m(\u001B[49m\u001B[43mkeyarr\u001B[49m\u001B[43m,\u001B[49m\u001B[43m \u001B[49m\u001B[43mindexer\u001B[49m\u001B[43m,\u001B[49m\u001B[43m \u001B[49m\u001B[43maxis_name\u001B[49m\u001B[43m)\u001B[49m\n\u001B[1;32m   6113\u001B[0m keyarr \u001B[38;5;241m=\u001B[39m \u001B[38;5;28mself\u001B[39m\u001B[38;5;241m.\u001B[39mtake(indexer)\n\u001B[1;32m   6114\u001B[0m \u001B[38;5;28;01mif\u001B[39;00m \u001B[38;5;28misinstance\u001B[39m(key, Index):\n\u001B[1;32m   6115\u001B[0m     \u001B[38;5;66;03m# GH 42790 - Preserve name from an Index\u001B[39;00m\n",
      "File \u001B[0;32m/Library/Frameworks/Python.framework/Versions/3.11/lib/python3.11/site-packages/pandas/core/indexes/base.py:6174\u001B[0m, in \u001B[0;36mIndex._raise_if_missing\u001B[0;34m(self, key, indexer, axis_name)\u001B[0m\n\u001B[1;32m   6171\u001B[0m     \u001B[38;5;28;01mraise\u001B[39;00m \u001B[38;5;167;01mKeyError\u001B[39;00m(\u001B[38;5;124mf\u001B[39m\u001B[38;5;124m\"\u001B[39m\u001B[38;5;124mNone of [\u001B[39m\u001B[38;5;132;01m{\u001B[39;00mkey\u001B[38;5;132;01m}\u001B[39;00m\u001B[38;5;124m] are in the [\u001B[39m\u001B[38;5;132;01m{\u001B[39;00maxis_name\u001B[38;5;132;01m}\u001B[39;00m\u001B[38;5;124m]\u001B[39m\u001B[38;5;124m\"\u001B[39m)\n\u001B[1;32m   6173\u001B[0m not_found \u001B[38;5;241m=\u001B[39m \u001B[38;5;28mlist\u001B[39m(ensure_index(key)[missing_mask\u001B[38;5;241m.\u001B[39mnonzero()[\u001B[38;5;241m0\u001B[39m]]\u001B[38;5;241m.\u001B[39munique())\n\u001B[0;32m-> 6174\u001B[0m \u001B[38;5;28;01mraise\u001B[39;00m \u001B[38;5;167;01mKeyError\u001B[39;00m(\u001B[38;5;124mf\u001B[39m\u001B[38;5;124m\"\u001B[39m\u001B[38;5;132;01m{\u001B[39;00mnot_found\u001B[38;5;132;01m}\u001B[39;00m\u001B[38;5;124m not in index\u001B[39m\u001B[38;5;124m\"\u001B[39m)\n",
      "\u001B[0;31mKeyError\u001B[0m: '[58, 61, 62, 65, 66, 67, 69, 73, 78, 80, 81, 82, 85, 89, 90, 91, 92, 93, 95, 98, 101, 102, 106, 107, 117, 119, 122, 127, 128, 132, 139, 146, 159, 161, 162, 164, 165, 168, 171, 172, 173, 174, 179, 180, 185, 186, 192, 197, 201, 204, 206, 207, 208, 213, 214, 218, 221, 224, 228, 229, 233, 242, 244, 246, 247, 249, 251, 256, 258, 260, 261, 267, 271, 273, 277, 283, 284, 285, 286, 289] not in index'"
     ]
    }
   ],
   "source": [
    "## 5-fold cross validation\n",
    "from sklearn.pipeline import make_pipeline\n",
    "from sklearn.preprocessing import StandardScaler, PolynomialFeatures\n",
    "from sklearn.model_selection import KFold\n",
    "# Pipeline\n",
    "pipe_lasso = make_pipeline(\n",
    "    PolynomialFeatures(degree=3, include_bias=False),\n",
    "    StandardScaler(),\n",
    "    Lasso(random_state=1),\n",
    ")\n",
    "\n",
    "# Split X, y into development (2/3) and test data (1/3).\n",
    "X_dev, X_test, y_dev, y_test = train_test_split(X, y, test_size=(1 / 3), random_state=1)\n",
    "\n",
    "lambdas = np.logspace(-4, 4, 12)\n",
    "\n",
    "kfolds = KFold(n_splits=5)\n",
    "mses = []\n",
    "\n",
    "for lambda_ in lambdas:\n",
    "\n",
    "    pipe_lasso = make_pipeline(\n",
    "        PolynomialFeatures(degree=3, include_bias=False),\n",
    "        StandardScaler(),\n",
    "        Lasso(alpha=lambda_, random_state=1),\n",
    "    )\n",
    "    mses_test = []\n",
    "    mses_train = []\n",
    "\n",
    "    for train_idx, val_idx in kfolds.split(X_dev, y_dev):\n",
    "        X_train, y_train = X_dev.iloc[train_idx], y_dev[train_idx]\n",
    "        X_val, y_val = X_dev.iloc[val_idx], y_dev[val_idx]\n",
    "\n",
    "        pipe_lasso.fit(X_train, y_train)\n",
    "\n",
    "        mses_train.append(mse(pipe_lasso.predict(X_train), y_train))\n",
    "        mses_test.append(mse(pipe_lasso.predict(X_val), y_val))\n",
    "\n",
    "    mses.append([np.mean(mses_train), np.mean(mses_test), lambda_])\n",
    "\n",
    "# Create df with MSE values\n",
    "df_mses = pd.DataFrame(mses, columns=[\"MSE_train\", \"MSE_test\", \"lambda\"])\n",
    "\n",
    "# Index of the lambda that gives the lowest MSE_test in the dataframe\n",
    "idx_optimal_lambda = df_mses.idxmin()[\"MSE_test\"]\n",
    "lambda_opt_test = df_mses.loc[idx_optimal_lambda][\"lambda\"]\n",
    "opt_test_mse = df_mses.loc[idx_optimal_lambda][\"MSE_test\"]\n",
    "print(\n",
    "    f\"Lowest test MSE equal to {opt_test_mse:.4f} is\"\n",
    "    f\" achieved with lambda = {lambda_opt_test:.3f}.\"\n",
    ")"
   ],
   "metadata": {
    "collapsed": false,
    "ExecuteTime": {
     "end_time": "2023-08-17T20:14:02.394546Z",
     "start_time": "2023-08-17T20:14:01.182086Z"
    }
   },
   "id": "49d022ce394db2ef"
  },
  {
   "cell_type": "code",
   "execution_count": null,
   "outputs": [],
   "source": [
    "## Root mean squared errors\n",
    "# rmse_GBM = mse(y_test,y_test_predict,squared=False)\n",
    "# rmse_GBM"
   ],
   "metadata": {
    "collapsed": false,
    "ExecuteTime": {
     "start_time": "2023-08-17T20:14:01.594932Z"
    }
   },
   "id": "ef6c75214821fb9a"
  },
  {
   "cell_type": "markdown",
   "source": [],
   "metadata": {
    "collapsed": false
   },
   "id": "f41bafee0ca68b5c"
  },
  {
   "cell_type": "code",
   "execution_count": null,
   "outputs": [],
   "source": [
    "## R-squared\n",
    "r2_GBM = r2_score(y_test,y_test_predict)\n",
    "r2_GBM"
   ],
   "metadata": {
    "collapsed": false,
    "ExecuteTime": {
     "start_time": "2023-08-17T20:14:01.596302Z"
    }
   },
   "id": "e244a6b9b987e93a"
  }
 ],
 "metadata": {
  "kernelspec": {
   "display_name": "Python 3",
   "language": "python",
   "name": "python3"
  },
  "language_info": {
   "codemirror_mode": {
    "name": "ipython",
    "version": 2
   },
   "file_extension": ".py",
   "mimetype": "text/x-python",
   "name": "python",
   "nbconvert_exporter": "python",
   "pygments_lexer": "ipython2",
   "version": "2.7.6"
  }
 },
 "nbformat": 4,
 "nbformat_minor": 5
}
