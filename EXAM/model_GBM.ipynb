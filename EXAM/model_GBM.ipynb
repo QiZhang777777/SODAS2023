{
 "cells": [
  {
   "cell_type": "code",
   "execution_count": 2,
   "id": "initial_id",
   "metadata": {
    "collapsed": true,
    "ExecuteTime": {
     "end_time": "2023-08-18T12:56:20.967579Z",
     "start_time": "2023-08-18T12:56:20.951233Z"
    }
   },
   "outputs": [],
   "source": [
    "## Importing libraries\n",
    "import pandas as pd\n",
    "import numpy as np\n",
    "from sklearn.metrics import classification_report\n",
    "from sklearn.ensemble import HistGradientBoostingClassifier\n",
    "from sklearn.model_selection import train_test_split\n",
    "from sklearn.metrics import mean_squared_error as mse\n",
    "from sklearn.metrics import r2_score"
   ]
  },
  {
   "cell_type": "code",
   "execution_count": 4,
   "outputs": [
    {
     "data": {
      "text/plain": "         price                           address                  city  \\\n0      1275000                   Strandparken 46  Vest- og Sydsjælland   \n1      5095000  Kalkbrænderihavnsgade 4A, 1. tv.        Byen København   \n2     14750000            Niels Andersens Vej 56      Københavns omegn   \n3      4498000     Helga Pedersens Gade 1, 2. 3.            Østjylland   \n4      2850000                    Nøddevænget 20            Sydjylland   \n...        ...                               ...                   ...   \n3645   1750000        Prins Haralds Allé 101, 1.                   Fyn   \n3646    990000                       Nissumvej 4           Vestjylland   \n3647   1695000                    Baunetoften 12          Nordsjælland   \n3648    650000                        Aalevej 40            Østjylland   \n3649   8500000                 Vestre Skovvej 30            Østjylland   \n\n      saledays  living_space  ground_space  rooms  owner_expenses    year  \\\n0        202.0         170.0        1019.0    2.0           2.598  1978.0   \n1          0.0          94.0           0.0    3.0           2.389  2017.0   \n2        255.0         248.0         984.0    8.0           8.643  1941.0   \n3          7.0         107.0           0.0    3.0           3.849  2014.0   \n4          0.0         163.0         858.0    5.0           3.343  1965.0   \n...        ...           ...           ...    ...             ...     ...   \n3645      48.0         109.0         506.0    3.0           1.922  1935.0   \n3646      48.0         117.0         800.0    3.0           1.566  1942.0   \n3647     240.0          86.0         103.0    4.0           2.184  1990.0   \n3648      48.0          79.0         829.0    3.0           1.464  1955.0   \n3649      48.0         133.0         129.0    5.0           4.615  2023.0   \n\n      area_code  ... Energimærke A  Energimærke B  Energimærke C  \\\n0        4591.0  ...             0              0              0   \n1        2100.0  ...             1              0              0   \n2        2900.0  ...             0              0              0   \n3        8000.0  ...             0              1              0   \n4        7100.0  ...             0              0              1   \n...         ...  ...           ...            ...            ...   \n3645     5250.0  ...             0              0              0   \n3646     7620.0  ...             0              0              1   \n3647     3320.0  ...             0              0              1   \n3648     7160.0  ...             0              0              0   \n3649     8240.0  ...             1              0              0   \n\n      Energimærke D  Energimærke E  Energimærke F  Energimærke G   age  \\\n0                 1              0              0              0  45.0   \n1                 0              0              0              0   6.0   \n2                 0              1              0              0  82.0   \n3                 0              0              0              0   9.0   \n4                 0              0              0              0  58.0   \n...             ...            ...            ...            ...   ...   \n3645              0              0              0              1  88.0   \n3646              0              0              0              0  81.0   \n3647              0              0              0              0  33.0   \n3648              1              0              0              0  68.0   \n3649              0              0              0              0   0.0   \n\n      age_squared  price_per_m2  \n0          2025.0   7500.000000  \n1            36.0  54202.127660  \n2          6724.0  59475.806452  \n3            81.0  42037.383178  \n4          3364.0  17484.662577  \n...           ...           ...  \n3645       7744.0  16055.045872  \n3646       6561.0   8461.538462  \n3647       1089.0  19709.302326  \n3648       4624.0   8227.848101  \n3649          0.0  63909.774436  \n\n[3650 rows x 26 columns]",
      "text/html": "<div>\n<style scoped>\n    .dataframe tbody tr th:only-of-type {\n        vertical-align: middle;\n    }\n\n    .dataframe tbody tr th {\n        vertical-align: top;\n    }\n\n    .dataframe thead th {\n        text-align: right;\n    }\n</style>\n<table border=\"1\" class=\"dataframe\">\n  <thead>\n    <tr style=\"text-align: right;\">\n      <th></th>\n      <th>price</th>\n      <th>address</th>\n      <th>city</th>\n      <th>saledays</th>\n      <th>living_space</th>\n      <th>ground_space</th>\n      <th>rooms</th>\n      <th>owner_expenses</th>\n      <th>year</th>\n      <th>area_code</th>\n      <th>...</th>\n      <th>Energimærke A</th>\n      <th>Energimærke B</th>\n      <th>Energimærke C</th>\n      <th>Energimærke D</th>\n      <th>Energimærke E</th>\n      <th>Energimærke F</th>\n      <th>Energimærke G</th>\n      <th>age</th>\n      <th>age_squared</th>\n      <th>price_per_m2</th>\n    </tr>\n  </thead>\n  <tbody>\n    <tr>\n      <th>0</th>\n      <td>1275000</td>\n      <td>Strandparken 46</td>\n      <td>Vest- og Sydsjælland</td>\n      <td>202.0</td>\n      <td>170.0</td>\n      <td>1019.0</td>\n      <td>2.0</td>\n      <td>2.598</td>\n      <td>1978.0</td>\n      <td>4591.0</td>\n      <td>...</td>\n      <td>0</td>\n      <td>0</td>\n      <td>0</td>\n      <td>1</td>\n      <td>0</td>\n      <td>0</td>\n      <td>0</td>\n      <td>45.0</td>\n      <td>2025.0</td>\n      <td>7500.000000</td>\n    </tr>\n    <tr>\n      <th>1</th>\n      <td>5095000</td>\n      <td>Kalkbrænderihavnsgade 4A, 1. tv.</td>\n      <td>Byen København</td>\n      <td>0.0</td>\n      <td>94.0</td>\n      <td>0.0</td>\n      <td>3.0</td>\n      <td>2.389</td>\n      <td>2017.0</td>\n      <td>2100.0</td>\n      <td>...</td>\n      <td>1</td>\n      <td>0</td>\n      <td>0</td>\n      <td>0</td>\n      <td>0</td>\n      <td>0</td>\n      <td>0</td>\n      <td>6.0</td>\n      <td>36.0</td>\n      <td>54202.127660</td>\n    </tr>\n    <tr>\n      <th>2</th>\n      <td>14750000</td>\n      <td>Niels Andersens Vej 56</td>\n      <td>Københavns omegn</td>\n      <td>255.0</td>\n      <td>248.0</td>\n      <td>984.0</td>\n      <td>8.0</td>\n      <td>8.643</td>\n      <td>1941.0</td>\n      <td>2900.0</td>\n      <td>...</td>\n      <td>0</td>\n      <td>0</td>\n      <td>0</td>\n      <td>0</td>\n      <td>1</td>\n      <td>0</td>\n      <td>0</td>\n      <td>82.0</td>\n      <td>6724.0</td>\n      <td>59475.806452</td>\n    </tr>\n    <tr>\n      <th>3</th>\n      <td>4498000</td>\n      <td>Helga Pedersens Gade 1, 2. 3.</td>\n      <td>Østjylland</td>\n      <td>7.0</td>\n      <td>107.0</td>\n      <td>0.0</td>\n      <td>3.0</td>\n      <td>3.849</td>\n      <td>2014.0</td>\n      <td>8000.0</td>\n      <td>...</td>\n      <td>0</td>\n      <td>1</td>\n      <td>0</td>\n      <td>0</td>\n      <td>0</td>\n      <td>0</td>\n      <td>0</td>\n      <td>9.0</td>\n      <td>81.0</td>\n      <td>42037.383178</td>\n    </tr>\n    <tr>\n      <th>4</th>\n      <td>2850000</td>\n      <td>Nøddevænget 20</td>\n      <td>Sydjylland</td>\n      <td>0.0</td>\n      <td>163.0</td>\n      <td>858.0</td>\n      <td>5.0</td>\n      <td>3.343</td>\n      <td>1965.0</td>\n      <td>7100.0</td>\n      <td>...</td>\n      <td>0</td>\n      <td>0</td>\n      <td>1</td>\n      <td>0</td>\n      <td>0</td>\n      <td>0</td>\n      <td>0</td>\n      <td>58.0</td>\n      <td>3364.0</td>\n      <td>17484.662577</td>\n    </tr>\n    <tr>\n      <th>...</th>\n      <td>...</td>\n      <td>...</td>\n      <td>...</td>\n      <td>...</td>\n      <td>...</td>\n      <td>...</td>\n      <td>...</td>\n      <td>...</td>\n      <td>...</td>\n      <td>...</td>\n      <td>...</td>\n      <td>...</td>\n      <td>...</td>\n      <td>...</td>\n      <td>...</td>\n      <td>...</td>\n      <td>...</td>\n      <td>...</td>\n      <td>...</td>\n      <td>...</td>\n      <td>...</td>\n    </tr>\n    <tr>\n      <th>3645</th>\n      <td>1750000</td>\n      <td>Prins Haralds Allé 101, 1.</td>\n      <td>Fyn</td>\n      <td>48.0</td>\n      <td>109.0</td>\n      <td>506.0</td>\n      <td>3.0</td>\n      <td>1.922</td>\n      <td>1935.0</td>\n      <td>5250.0</td>\n      <td>...</td>\n      <td>0</td>\n      <td>0</td>\n      <td>0</td>\n      <td>0</td>\n      <td>0</td>\n      <td>0</td>\n      <td>1</td>\n      <td>88.0</td>\n      <td>7744.0</td>\n      <td>16055.045872</td>\n    </tr>\n    <tr>\n      <th>3646</th>\n      <td>990000</td>\n      <td>Nissumvej 4</td>\n      <td>Vestjylland</td>\n      <td>48.0</td>\n      <td>117.0</td>\n      <td>800.0</td>\n      <td>3.0</td>\n      <td>1.566</td>\n      <td>1942.0</td>\n      <td>7620.0</td>\n      <td>...</td>\n      <td>0</td>\n      <td>0</td>\n      <td>1</td>\n      <td>0</td>\n      <td>0</td>\n      <td>0</td>\n      <td>0</td>\n      <td>81.0</td>\n      <td>6561.0</td>\n      <td>8461.538462</td>\n    </tr>\n    <tr>\n      <th>3647</th>\n      <td>1695000</td>\n      <td>Baunetoften 12</td>\n      <td>Nordsjælland</td>\n      <td>240.0</td>\n      <td>86.0</td>\n      <td>103.0</td>\n      <td>4.0</td>\n      <td>2.184</td>\n      <td>1990.0</td>\n      <td>3320.0</td>\n      <td>...</td>\n      <td>0</td>\n      <td>0</td>\n      <td>1</td>\n      <td>0</td>\n      <td>0</td>\n      <td>0</td>\n      <td>0</td>\n      <td>33.0</td>\n      <td>1089.0</td>\n      <td>19709.302326</td>\n    </tr>\n    <tr>\n      <th>3648</th>\n      <td>650000</td>\n      <td>Aalevej 40</td>\n      <td>Østjylland</td>\n      <td>48.0</td>\n      <td>79.0</td>\n      <td>829.0</td>\n      <td>3.0</td>\n      <td>1.464</td>\n      <td>1955.0</td>\n      <td>7160.0</td>\n      <td>...</td>\n      <td>0</td>\n      <td>0</td>\n      <td>0</td>\n      <td>1</td>\n      <td>0</td>\n      <td>0</td>\n      <td>0</td>\n      <td>68.0</td>\n      <td>4624.0</td>\n      <td>8227.848101</td>\n    </tr>\n    <tr>\n      <th>3649</th>\n      <td>8500000</td>\n      <td>Vestre Skovvej 30</td>\n      <td>Østjylland</td>\n      <td>48.0</td>\n      <td>133.0</td>\n      <td>129.0</td>\n      <td>5.0</td>\n      <td>4.615</td>\n      <td>2023.0</td>\n      <td>8240.0</td>\n      <td>...</td>\n      <td>1</td>\n      <td>0</td>\n      <td>0</td>\n      <td>0</td>\n      <td>0</td>\n      <td>0</td>\n      <td>0</td>\n      <td>0.0</td>\n      <td>0.0</td>\n      <td>63909.774436</td>\n    </tr>\n  </tbody>\n</table>\n<p>3650 rows × 26 columns</p>\n</div>"
     },
     "execution_count": 4,
     "metadata": {},
     "output_type": "execute_result"
    }
   ],
   "source": [
    "## Data Cleaning\n",
    "# Get energy dummy\n",
    "sample_data = pd.read_csv('../EXAM/data/cleaned_data.csv',encoding='utf-16')\n",
    "df = pd.DataFrame(sample_data)\n",
    "\n",
    "# Change constructing year to construction age and squared term for OLS.\n",
    "df['age'] = 2023 - df['year']\n",
    "df['age_squared'] = df['age'] ** 2\n",
    "\n",
    "# Price per squared metre\n",
    "df['price_per_m2'] = df['price'] / df['living_space']\n",
    "np.round(df[['price_per_m2','area_code']].groupby('area_code').mean(),2)\n",
    "\n",
    "\n",
    "df['type'] = df['type'].astype('category')\n",
    "\n",
    "\n",
    "print(df['type'])\n"
   ],
   "metadata": {
    "collapsed": false,
    "ExecuteTime": {
     "end_time": "2023-08-18T12:56:34.319409Z",
     "start_time": "2023-08-18T12:56:34.288993Z"
    }
   },
   "id": "786d241c470f8634"
  },
  {
   "cell_type": "code",
   "execution_count": null,
   "outputs": [],
   "source": [
    "## Dataset split\n",
    "columns_to_drop = ['price','address','city','type','energy', 'year','area_name', 'age_squared']\n",
    "X,y = df.drop(columns_to_drop,axis=1),df.price\n",
    "test_size = 0.30 # taking 70:30 training and test set\n",
    "seed = 17082023 # Random number seeding for repeatability of the code\n",
    "X_train, X_test, y_train, y_test = train_test_split(X, y, test_size=test_size, random_state=seed)"
   ],
   "metadata": {
    "collapsed": false,
    "ExecuteTime": {
     "start_time": "2023-08-18T12:08:17.995616Z"
    }
   },
   "id": "e59bd210221eaee4"
  },
  {
   "cell_type": "code",
   "execution_count": null,
   "outputs": [],
   "source": [
    "## Main model\n",
    "eta = 0.1\n",
    "gradient_booster = HistGradientBoostingClassifier(learning_rate=eta)\n",
    "# Gradient boosting classifiers are required to implement gradient boosting.\n",
    "gradient_booster.fit(X_train,y_train)\n",
    "y_test_predict = gradient_booster.predict(X_test)\n",
    "print(classification_report(y_test,y_test_predict))\n",
    "# Use the Python module named classification report to verify the correctness and quality of the accuracy report ()."
   ],
   "metadata": {
    "collapsed": false,
    "ExecuteTime": {
     "start_time": "2023-08-18T12:08:17.998138Z"
    }
   },
   "id": "ac833ad706704629"
  },
  {
   "cell_type": "code",
   "execution_count": null,
   "outputs": [],
   "source": [
    "## Lasso regularization\n",
    "# Normal scaler\n",
    "from sklearn.preprocessing import StandardScaler\n",
    "norm_scaler = StandardScaler().fit(X_train)\n",
    "X_train_std = norm_scaler.transform(X_train)\n",
    "X_test_std = norm_scaler.transform(X_test)\n",
    "\n",
    "# Lasso\n",
    "from sklearn.linear_model import Lasso\n",
    "output = []\n",
    "lambdas = np.logspace(-4, 4, 20)\n",
    "for lambda_ in lambdas:\n",
    "    reg = Lasso(alpha=lambda_, random_state=1)\n",
    "    reg.fit(X_train_std, y_train)\n",
    "    output.append(\n",
    "        [\n",
    "            lambda_,\n",
    "            mse(reg.predict(X_train_std), y_train,squared=False),\n",
    "            mse(reg.predict(X_test_std), y_test,squared=False),\n",
    "        ]\n",
    "    )"
   ],
   "metadata": {
    "collapsed": false,
    "ExecuteTime": {
     "start_time": "2023-08-18T12:08:17.999428Z"
    }
   },
   "id": "f06122208ac3acd0"
  },
  {
   "cell_type": "code",
   "execution_count": null,
   "outputs": [],
   "source": [
    "## Search for best lambda\n",
    "MSE_df = pd.DataFrame(\n",
    "    data=output, columns=[\"lambda\", \"MSE train\", \"MSE test\"]\n",
    ").set_index(\"lambda\")\n",
    "\n",
    "MSE_df.plot(logx=True, logy=True)\n",
    "\n",
    "# find the minimal observations as a series\n",
    "best_fit = MSE_df[\"MSE test\"].nsmallest(1)\n",
    "\n",
    "# take out the data minimum RMSE and the optimal lambda\n",
    "lambda_opt, RMSE_min = next(best_fit.items())\n",
    "print(f\"Minimum RMSE = {RMSE_min:.3f} found for lambda = {lambda_opt:.4f}.\")\n"
   ],
   "metadata": {
    "collapsed": false,
    "ExecuteTime": {
     "start_time": "2023-08-18T12:08:18.001314Z"
    }
   },
   "id": "1dd7b4fd51d29e9f"
  },
  {
   "cell_type": "code",
   "execution_count": null,
   "outputs": [],
   "source": [
    "## 5-fold cross validation\n",
    "from sklearn.pipeline import make_pipeline\n",
    "from sklearn.preprocessing import StandardScaler, PolynomialFeatures\n",
    "from sklearn.model_selection import KFold\n",
    "# Pipeline\n",
    "pipe_lasso = make_pipeline(\n",
    "    PolynomialFeatures(degree=3, include_bias=False),\n",
    "    StandardScaler(),\n",
    "    Lasso(random_state=1),\n",
    ")\n",
    "\n",
    "# Split X, y into development (2/3) and test data (1/3).\n",
    "X_dev, X_test, y_dev, y_test = train_test_split(X, y, test_size=(1 / 3), random_state=1)\n",
    "\n",
    "lambdas = np.logspace(-4, 4, 12)\n",
    "\n",
    "kfolds = KFold(n_splits=5)\n",
    "mses = []\n",
    "\n",
    "for lambda_ in lambdas:\n",
    "\n",
    "    pipe_lasso = make_pipeline(\n",
    "        PolynomialFeatures(degree=3, include_bias=False),\n",
    "        StandardScaler(),\n",
    "        Lasso(alpha=lambda_, random_state=1),\n",
    "    )\n",
    "    mses_test = []\n",
    "    mses_train = []\n",
    "\n",
    "    for train_idx, val_idx in kfolds.split(X_dev, y_dev):\n",
    "        X_train, y_train = X_dev.iloc[train_idx], y_dev[train_idx]\n",
    "        X_val, y_val = X_dev.iloc[val_idx], y_dev[val_idx]\n",
    "\n",
    "        pipe_lasso.fit(X_train, y_train)\n",
    "\n",
    "        mses_train.append(mse(pipe_lasso.predict(X_train), y_train))\n",
    "        mses_test.append(mse(pipe_lasso.predict(X_val), y_val))\n",
    "\n",
    "    mses.append([np.mean(mses_train), np.mean(mses_test), lambda_])\n",
    "\n",
    "# Create df with MSE values\n",
    "df_mses = pd.DataFrame(mses, columns=[\"MSE_train\", \"MSE_test\", \"lambda\"])\n",
    "\n",
    "# Index of the lambda that gives the lowest MSE_test in the dataframe\n",
    "idx_optimal_lambda = df_mses.idxmin()[\"MSE_test\"]\n",
    "lambda_opt_test = df_mses.loc[idx_optimal_lambda][\"lambda\"]\n",
    "opt_test_mse = df_mses.loc[idx_optimal_lambda][\"MSE_test\"]\n",
    "print(\n",
    "    f\"Lowest test MSE equal to {opt_test_mse:.4f} is\"\n",
    "    f\" achieved with lambda = {lambda_opt_test:.3f}.\"\n",
    ")"
   ],
   "metadata": {
    "collapsed": false,
    "ExecuteTime": {
     "start_time": "2023-08-18T12:08:18.002561Z"
    }
   },
   "id": "49d022ce394db2ef"
  },
  {
   "cell_type": "code",
   "execution_count": null,
   "outputs": [],
   "source": [
    "## Root mean squared errors\n",
    "# rmse_GBM = mse(y_test,y_test_predict,squared=False)\n",
    "# rmse_GBM"
   ],
   "metadata": {
    "collapsed": false,
    "ExecuteTime": {
     "start_time": "2023-08-18T12:08:18.003690Z"
    }
   },
   "id": "ef6c75214821fb9a"
  },
  {
   "cell_type": "markdown",
   "source": [],
   "metadata": {
    "collapsed": false
   },
   "id": "f41bafee0ca68b5c"
  },
  {
   "cell_type": "code",
   "execution_count": null,
   "outputs": [],
   "source": [
    "## R-squared\n",
    "r2_GBM = r2_score(y_test,y_test_predict)\n",
    "r2_GBM"
   ],
   "metadata": {
    "collapsed": false,
    "ExecuteTime": {
     "end_time": "2023-08-18T12:08:18.014969Z",
     "start_time": "2023-08-18T12:08:18.004486Z"
    }
   },
   "id": "e244a6b9b987e93a"
  }
 ],
 "metadata": {
  "kernelspec": {
   "display_name": "Python 3",
   "language": "python",
   "name": "python3"
  },
  "language_info": {
   "codemirror_mode": {
    "name": "ipython",
    "version": 2
   },
   "file_extension": ".py",
   "mimetype": "text/x-python",
   "name": "python",
   "nbconvert_exporter": "python",
   "pygments_lexer": "ipython2",
   "version": "2.7.6"
  }
 },
 "nbformat": 4,
 "nbformat_minor": 5
}
