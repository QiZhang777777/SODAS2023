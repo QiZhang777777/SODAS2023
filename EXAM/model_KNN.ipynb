{
 "cells": [
  {
   "cell_type": "code",
   "execution_count": 12,
   "id": "initial_id",
   "metadata": {
    "collapsed": true,
    "ExecuteTime": {
     "end_time": "2023-08-17T20:24:57.754280Z",
     "start_time": "2023-08-17T20:24:57.749986Z"
    }
   },
   "outputs": [],
   "source": [
    "## Import libraries\n",
    "import pandas as pd\n",
    "import numpy as np\n",
    "from sklearn.metrics import classification_report\n",
    "from sklearn.ensemble import HistGradientBoostingClassifier\n",
    "from sklearn.model_selection import train_test_split\n",
    "from sklearn.metrics import mean_squared_error as mse\n",
    "from sklearn.metrics import r2_score\n",
    "from sklearn.neighbors import KNeighborsClassifier\n",
    "from sklearn.preprocessing import StandardScaler"
   ]
  },
  {
   "cell_type": "code",
   "execution_count": 13,
   "outputs": [],
   "source": [
    "## Data Cleaning\n",
    "# Get energy dummy\n",
    "sample_data = pd.read_csv('../data/cleaned_data.csv',encoding='utf-16')\n",
    "df = pd.DataFrame(sample_data)\n",
    "df['energy'] = df['energy'].str.replace('Energimærke ', '')\n",
    "df['energy'] = df['energy'].str.replace('A2015','A')\n",
    "df['energy'] = df['energy'].str.replace('A2020','A')\n",
    "dummy_energy = pd.get_dummies(df['energy'])\n",
    "df = pd.concat([df,dummy_energy],axis=1)\n",
    "\n",
    "# Change constructing year to construction age\n",
    "\n",
    "df['age'] = 2023 - df['year']\n"
   ],
   "metadata": {
    "collapsed": false,
    "ExecuteTime": {
     "end_time": "2023-08-17T20:24:57.770036Z",
     "start_time": "2023-08-17T20:24:57.756684Z"
    }
   },
   "id": "2d75f4a6cb0139ec"
  },
  {
   "cell_type": "code",
   "execution_count": 14,
   "outputs": [],
   "source": [
    "## Dataset split\n",
    "columns_to_drop = ['price','address','city','type','energy', 'year','area_name']\n",
    "X,y = df.drop(columns_to_drop,axis=1),df.price\n",
    "test_size = 0.30 # taking 70:30 training and test set\n",
    "seed = 17082023 # Random number seeding for repeatability of the code\n",
    "X_train, X_test, y_train, y_test = train_test_split(X, y, test_size=test_size, random_state=seed)\n",
    "# Standardize X\n",
    "norm_scaler = StandardScaler().fit(X_train)\n",
    "X_train = norm_scaler.transform(X_train)\n",
    "X_test = norm_scaler.transform(X_test)"
   ],
   "metadata": {
    "collapsed": false,
    "ExecuteTime": {
     "end_time": "2023-08-17T20:24:57.787735Z",
     "start_time": "2023-08-17T20:24:57.778432Z"
    }
   },
   "id": "4f1e19164c4a76e1"
  },
  {
   "cell_type": "code",
   "execution_count": 18,
   "outputs": [
    {
     "ename": "ValueError",
     "evalue": "X must be a NumPy array. Found <class 'pandas.core.frame.DataFrame'>",
     "output_type": "error",
     "traceback": [
      "\u001B[0;31m---------------------------------------------------------------------------\u001B[0m",
      "\u001B[0;31mValueError\u001B[0m                                Traceback (most recent call last)",
      "Cell \u001B[0;32mIn [18], line 4\u001B[0m\n\u001B[1;32m      2\u001B[0m knn \u001B[38;5;241m=\u001B[39m KNeighborsClassifier(n_neighbors\u001B[38;5;241m=\u001B[39m\u001B[38;5;241m5\u001B[39m,p\u001B[38;5;241m=\u001B[39m\u001B[38;5;241m2\u001B[39m,metric\u001B[38;5;241m=\u001B[39m\u001B[38;5;124m'\u001B[39m\u001B[38;5;124mminkowski\u001B[39m\u001B[38;5;124m'\u001B[39m)\n\u001B[1;32m      3\u001B[0m knn\u001B[38;5;241m.\u001B[39mfit(X_train_std,y_train)\n\u001B[0;32m----> 4\u001B[0m \u001B[43mplot_decision_regions\u001B[49m\u001B[43m(\u001B[49m\u001B[43mX\u001B[49m\u001B[43m,\u001B[49m\u001B[43my\u001B[49m\u001B[43m,\u001B[49m\u001B[43mclf\u001B[49m\u001B[38;5;241;43m=\u001B[39;49m\u001B[43mknn\u001B[49m\u001B[43m)\u001B[49m\n\u001B[1;32m      5\u001B[0m \u001B[38;5;66;03m# plt.xlabel('')\u001B[39;00m\n\u001B[1;32m      6\u001B[0m \u001B[38;5;66;03m# plt.ylabel()\u001B[39;00m\n\u001B[1;32m      7\u001B[0m plt\u001B[38;5;241m.\u001B[39mlegend(loc\u001B[38;5;241m=\u001B[39m\u001B[38;5;124m'\u001B[39m\u001B[38;5;124mupper left\u001B[39m\u001B[38;5;124m'\u001B[39m)\n",
      "File \u001B[0;32m/Library/Frameworks/Python.framework/Versions/3.11/lib/python3.11/site-packages/mlxtend/plotting/decision_regions.py:161\u001B[0m, in \u001B[0;36mplot_decision_regions\u001B[0;34m(X, y, clf, feature_index, filler_feature_values, filler_feature_ranges, ax, X_highlight, zoom_factor, legend, hide_spines, markers, colors, scatter_kwargs, contourf_kwargs, contour_kwargs, scatter_highlight_kwargs, n_jobs)\u001B[0m\n\u001B[1;32m     50\u001B[0m \u001B[38;5;28;01mdef\u001B[39;00m \u001B[38;5;21mplot_decision_regions\u001B[39m(\n\u001B[1;32m     51\u001B[0m     X,\n\u001B[1;32m     52\u001B[0m     y,\n\u001B[0;32m   (...)\u001B[0m\n\u001B[1;32m     72\u001B[0m     n_jobs\u001B[38;5;241m=\u001B[39m\u001B[38;5;28;01mNone\u001B[39;00m,\n\u001B[1;32m     73\u001B[0m ):\n\u001B[1;32m     74\u001B[0m     \u001B[38;5;124;03m\"\"\"Plot decision regions of a classifier.\u001B[39;00m\n\u001B[1;32m     75\u001B[0m \n\u001B[1;32m     76\u001B[0m \u001B[38;5;124;03m    Please note that this functions assumes that class labels are\u001B[39;00m\n\u001B[0;32m   (...)\u001B[0m\n\u001B[1;32m    158\u001B[0m \n\u001B[1;32m    159\u001B[0m \u001B[38;5;124;03m    \"\"\"\u001B[39;00m\n\u001B[0;32m--> 161\u001B[0m     \u001B[43mcheck_Xy\u001B[49m\u001B[43m(\u001B[49m\u001B[43mX\u001B[49m\u001B[43m,\u001B[49m\u001B[43m \u001B[49m\u001B[43my\u001B[49m\u001B[43m,\u001B[49m\u001B[43m \u001B[49m\u001B[43my_int\u001B[49m\u001B[38;5;241;43m=\u001B[39;49m\u001B[38;5;28;43;01mTrue\u001B[39;49;00m\u001B[43m)\u001B[49m  \u001B[38;5;66;03m# Validate X and y arrays\u001B[39;00m\n\u001B[1;32m    162\u001B[0m     dim \u001B[38;5;241m=\u001B[39m X\u001B[38;5;241m.\u001B[39mshape[\u001B[38;5;241m1\u001B[39m]\n\u001B[1;32m    164\u001B[0m     \u001B[38;5;28;01mif\u001B[39;00m n_jobs \u001B[38;5;129;01mis\u001B[39;00m \u001B[38;5;28;01mNone\u001B[39;00m:\n",
      "File \u001B[0;32m/Library/Frameworks/Python.framework/Versions/3.11/lib/python3.11/site-packages/mlxtend/utils/checking.py:15\u001B[0m, in \u001B[0;36mcheck_Xy\u001B[0;34m(X, y, y_int)\u001B[0m\n\u001B[1;32m     12\u001B[0m \u001B[38;5;28;01mdef\u001B[39;00m \u001B[38;5;21mcheck_Xy\u001B[39m(X, y, y_int\u001B[38;5;241m=\u001B[39m\u001B[38;5;28;01mTrue\u001B[39;00m):\n\u001B[1;32m     13\u001B[0m     \u001B[38;5;66;03m# check types\u001B[39;00m\n\u001B[1;32m     14\u001B[0m     \u001B[38;5;28;01mif\u001B[39;00m \u001B[38;5;129;01mnot\u001B[39;00m \u001B[38;5;28misinstance\u001B[39m(X, np\u001B[38;5;241m.\u001B[39mndarray):\n\u001B[0;32m---> 15\u001B[0m         \u001B[38;5;28;01mraise\u001B[39;00m \u001B[38;5;167;01mValueError\u001B[39;00m(\u001B[38;5;124m\"\u001B[39m\u001B[38;5;124mX must be a NumPy array. Found \u001B[39m\u001B[38;5;132;01m%s\u001B[39;00m\u001B[38;5;124m\"\u001B[39m \u001B[38;5;241m%\u001B[39m \u001B[38;5;28mtype\u001B[39m(X))\n\u001B[1;32m     16\u001B[0m     \u001B[38;5;28;01mif\u001B[39;00m \u001B[38;5;129;01mnot\u001B[39;00m \u001B[38;5;28misinstance\u001B[39m(y, np\u001B[38;5;241m.\u001B[39mndarray):\n\u001B[1;32m     17\u001B[0m         \u001B[38;5;28;01mraise\u001B[39;00m \u001B[38;5;167;01mValueError\u001B[39;00m(\u001B[38;5;124m\"\u001B[39m\u001B[38;5;124my must be a NumPy array. Found \u001B[39m\u001B[38;5;132;01m%s\u001B[39;00m\u001B[38;5;124m\"\u001B[39m \u001B[38;5;241m%\u001B[39m \u001B[38;5;28mtype\u001B[39m(y))\n",
      "\u001B[0;31mValueError\u001B[0m: X must be a NumPy array. Found <class 'pandas.core.frame.DataFrame'>"
     ]
    }
   ],
   "source": [
    "## model\n",
    "knn = KNeighborsClassifier(n_neighbors=5,p=2,metric='mikowski')\n",
    "knn.fit"
   ],
   "metadata": {
    "collapsed": false,
    "ExecuteTime": {
     "end_time": "2023-08-17T20:25:44.831401Z",
     "start_time": "2023-08-17T20:25:44.766211Z"
    }
   },
   "id": "e60ef1daa156f9fe"
  },
  {
   "cell_type": "code",
   "execution_count": null,
   "outputs": [],
   "source": [
    "## Root mean squared errors\n",
    "rmse_GBM = mse(y_test,y_test_predict,squared=False)\n",
    "rmse_GBM"
   ],
   "metadata": {
    "collapsed": false,
    "ExecuteTime": {
     "end_time": "2023-08-17T20:24:57.857800Z",
     "start_time": "2023-08-17T20:24:57.854229Z"
    }
   },
   "id": "3f1275833ec7bdc9"
  },
  {
   "cell_type": "code",
   "execution_count": null,
   "outputs": [],
   "source": [
    "## R-squared\n",
    "r2_GBM = r2_score(y_test,y_test_predict)\n",
    "r2_GBM"
   ],
   "metadata": {
    "collapsed": false,
    "ExecuteTime": {
     "start_time": "2023-08-17T20:24:57.856159Z"
    }
   },
   "id": "493bd9427f1925d9"
  }
 ],
 "metadata": {
  "kernelspec": {
   "display_name": "Python 3",
   "language": "python",
   "name": "python3"
  },
  "language_info": {
   "codemirror_mode": {
    "name": "ipython",
    "version": 2
   },
   "file_extension": ".py",
   "mimetype": "text/x-python",
   "name": "python",
   "nbconvert_exporter": "python",
   "pygments_lexer": "ipython2",
   "version": "2.7.6"
  }
 },
 "nbformat": 4,
 "nbformat_minor": 5
}
