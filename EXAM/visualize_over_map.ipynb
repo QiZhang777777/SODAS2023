{
 "cells": [
  {
   "cell_type": "markdown",
   "source": [
    "If ever necessary, this part can be done following https://towardsdatascience.com/mapping-with-matplotlib-pandas-geopandas-and-basemap-in-python-d11b57ab5dac"
   ],
   "metadata": {
    "collapsed": false
   },
   "id": "e0ed9d5aa6bdc076"
  },
  {
   "cell_type": "code",
   "execution_count": 2,
   "outputs": [],
   "source": [
    "## Import libraries\n",
    "import pandas as pd\n",
    "import numpy as np\n",
    "from sklearn.metrics import classification_report\n",
    "from sklearn.ensemble import HistGradientBoostingClassifier\n",
    "from sklearn.model_selection import train_test_split\n",
    "from sklearn.metrics import mean_squared_error as mse\n",
    "from sklearn.metrics import r2_score\n",
    "from sklearn.neighbors import KNeighborsClassifier\n",
    "from sklearn.preprocessing import StandardScaler\n",
    "from matplotlib import pyplot as plt\n",
    "from mlxtend.plotting import plot_decision_regions\n",
    "import shapefile as shp\n",
    "import seaborn as sns\n",
    "from zipfile import ZipFile"
   ],
   "metadata": {
    "collapsed": false,
    "ExecuteTime": {
     "end_time": "2023-08-21T12:19:10.700358Z",
     "start_time": "2023-08-21T12:19:09.988601Z"
    }
   },
   "id": "909d38210c04d3ee"
  },
  {
   "cell_type": "code",
   "execution_count": 5,
   "outputs": [
    {
     "data": {
      "text/plain": "         price                           address                  city  \\\n0      1275000                   Strandparken 46  Vest- og Sydsjælland   \n1      5095000  Kalkbrænderihavnsgade 4A, 1. tv.        Byen København   \n2     14750000            Niels Andersens Vej 56      Københavns omegn   \n3      4498000     Helga Pedersens Gade 1, 2. 3.            Østjylland   \n4      2850000                    Nøddevænget 20            Sydjylland   \n...        ...                               ...                   ...   \n3645   1750000        Prins Haralds Allé 101, 1.                   Fyn   \n3646    990000                       Nissumvej 4           Vestjylland   \n3647   1695000                    Baunetoften 12          Nordsjælland   \n3648    650000                        Aalevej 40            Østjylland   \n3649   8500000                 Vestre Skovvej 30            Østjylland   \n\n                type  saledays         energy  living_space  ground_space  \\\n0       Holiday home     202.0  Energimærke D         170.0        1019.0   \n1          Apartment       0.0  Energimærke A          94.0           0.0   \n2              Villa     255.0  Energimærke E         248.0         984.0   \n3          Apartment       7.0  Energimærke B         107.0           0.0   \n4              Villa       0.0  Energimærke C         163.0         858.0   \n...              ...       ...            ...           ...           ...   \n3645           Villa      48.0  Energimærke G         109.0         506.0   \n3646    Holiday home      48.0  Energimærke C         117.0         800.0   \n3647  Terraced house     240.0  Energimærke C          86.0         103.0   \n3648           Villa      48.0  Energimærke D          79.0         829.0   \n3649  Terraced house      48.0  Energimærke A         133.0         129.0   \n\n      rooms  owner_expenses  ...  age_squared  area_digit_1 area_digit_2  \\\n0       2.0           2.598  ...       2025.0             0            0   \n1       3.0           2.389  ...         36.0             0            1   \n2       8.0           8.643  ...       6724.0             0            1   \n3       3.0           3.849  ...         81.0             0            0   \n4       5.0           3.343  ...       3364.0             0            0   \n...     ...             ...  ...          ...           ...          ...   \n3645    3.0           1.922  ...       7744.0             0            0   \n3646    3.0           1.566  ...       6561.0             0            0   \n3647    4.0           2.184  ...       1089.0             0            0   \n3648    3.0           1.464  ...       4624.0             0            0   \n3649    5.0           4.615  ...          0.0             0            0   \n\n      area_digit_3  area_digit_4  area_digit_5  area_digit_6  area_digit_7  \\\n0                0             1             0             0             0   \n1                0             0             0             0             0   \n2                0             0             0             0             0   \n3                0             0             0             0             0   \n4                0             0             0             0             1   \n...            ...           ...           ...           ...           ...   \n3645             0             0             1             0             0   \n3646             0             0             0             0             1   \n3647             1             0             0             0             0   \n3648             0             0             0             0             1   \n3649             0             0             0             0             0   \n\n      area_digit_8  area_digit_9  \n0                0             0  \n1                0             0  \n2                0             0  \n3                1             0  \n4                0             0  \n...            ...           ...  \n3645             0             0  \n3646             0             0  \n3647             0             0  \n3648             0             0  \n3649             1             0  \n\n[3650 rows x 39 columns]",
      "text/html": "<div>\n<style scoped>\n    .dataframe tbody tr th:only-of-type {\n        vertical-align: middle;\n    }\n\n    .dataframe tbody tr th {\n        vertical-align: top;\n    }\n\n    .dataframe thead th {\n        text-align: right;\n    }\n</style>\n<table border=\"1\" class=\"dataframe\">\n  <thead>\n    <tr style=\"text-align: right;\">\n      <th></th>\n      <th>price</th>\n      <th>address</th>\n      <th>city</th>\n      <th>type</th>\n      <th>saledays</th>\n      <th>energy</th>\n      <th>living_space</th>\n      <th>ground_space</th>\n      <th>rooms</th>\n      <th>owner_expenses</th>\n      <th>...</th>\n      <th>age_squared</th>\n      <th>area_digit_1</th>\n      <th>area_digit_2</th>\n      <th>area_digit_3</th>\n      <th>area_digit_4</th>\n      <th>area_digit_5</th>\n      <th>area_digit_6</th>\n      <th>area_digit_7</th>\n      <th>area_digit_8</th>\n      <th>area_digit_9</th>\n    </tr>\n  </thead>\n  <tbody>\n    <tr>\n      <th>0</th>\n      <td>1275000</td>\n      <td>Strandparken 46</td>\n      <td>Vest- og Sydsjælland</td>\n      <td>Holiday home</td>\n      <td>202.0</td>\n      <td>Energimærke D</td>\n      <td>170.0</td>\n      <td>1019.0</td>\n      <td>2.0</td>\n      <td>2.598</td>\n      <td>...</td>\n      <td>2025.0</td>\n      <td>0</td>\n      <td>0</td>\n      <td>0</td>\n      <td>1</td>\n      <td>0</td>\n      <td>0</td>\n      <td>0</td>\n      <td>0</td>\n      <td>0</td>\n    </tr>\n    <tr>\n      <th>1</th>\n      <td>5095000</td>\n      <td>Kalkbrænderihavnsgade 4A, 1. tv.</td>\n      <td>Byen København</td>\n      <td>Apartment</td>\n      <td>0.0</td>\n      <td>Energimærke A</td>\n      <td>94.0</td>\n      <td>0.0</td>\n      <td>3.0</td>\n      <td>2.389</td>\n      <td>...</td>\n      <td>36.0</td>\n      <td>0</td>\n      <td>1</td>\n      <td>0</td>\n      <td>0</td>\n      <td>0</td>\n      <td>0</td>\n      <td>0</td>\n      <td>0</td>\n      <td>0</td>\n    </tr>\n    <tr>\n      <th>2</th>\n      <td>14750000</td>\n      <td>Niels Andersens Vej 56</td>\n      <td>Københavns omegn</td>\n      <td>Villa</td>\n      <td>255.0</td>\n      <td>Energimærke E</td>\n      <td>248.0</td>\n      <td>984.0</td>\n      <td>8.0</td>\n      <td>8.643</td>\n      <td>...</td>\n      <td>6724.0</td>\n      <td>0</td>\n      <td>1</td>\n      <td>0</td>\n      <td>0</td>\n      <td>0</td>\n      <td>0</td>\n      <td>0</td>\n      <td>0</td>\n      <td>0</td>\n    </tr>\n    <tr>\n      <th>3</th>\n      <td>4498000</td>\n      <td>Helga Pedersens Gade 1, 2. 3.</td>\n      <td>Østjylland</td>\n      <td>Apartment</td>\n      <td>7.0</td>\n      <td>Energimærke B</td>\n      <td>107.0</td>\n      <td>0.0</td>\n      <td>3.0</td>\n      <td>3.849</td>\n      <td>...</td>\n      <td>81.0</td>\n      <td>0</td>\n      <td>0</td>\n      <td>0</td>\n      <td>0</td>\n      <td>0</td>\n      <td>0</td>\n      <td>0</td>\n      <td>1</td>\n      <td>0</td>\n    </tr>\n    <tr>\n      <th>4</th>\n      <td>2850000</td>\n      <td>Nøddevænget 20</td>\n      <td>Sydjylland</td>\n      <td>Villa</td>\n      <td>0.0</td>\n      <td>Energimærke C</td>\n      <td>163.0</td>\n      <td>858.0</td>\n      <td>5.0</td>\n      <td>3.343</td>\n      <td>...</td>\n      <td>3364.0</td>\n      <td>0</td>\n      <td>0</td>\n      <td>0</td>\n      <td>0</td>\n      <td>0</td>\n      <td>0</td>\n      <td>1</td>\n      <td>0</td>\n      <td>0</td>\n    </tr>\n    <tr>\n      <th>...</th>\n      <td>...</td>\n      <td>...</td>\n      <td>...</td>\n      <td>...</td>\n      <td>...</td>\n      <td>...</td>\n      <td>...</td>\n      <td>...</td>\n      <td>...</td>\n      <td>...</td>\n      <td>...</td>\n      <td>...</td>\n      <td>...</td>\n      <td>...</td>\n      <td>...</td>\n      <td>...</td>\n      <td>...</td>\n      <td>...</td>\n      <td>...</td>\n      <td>...</td>\n      <td>...</td>\n    </tr>\n    <tr>\n      <th>3645</th>\n      <td>1750000</td>\n      <td>Prins Haralds Allé 101, 1.</td>\n      <td>Fyn</td>\n      <td>Villa</td>\n      <td>48.0</td>\n      <td>Energimærke G</td>\n      <td>109.0</td>\n      <td>506.0</td>\n      <td>3.0</td>\n      <td>1.922</td>\n      <td>...</td>\n      <td>7744.0</td>\n      <td>0</td>\n      <td>0</td>\n      <td>0</td>\n      <td>0</td>\n      <td>1</td>\n      <td>0</td>\n      <td>0</td>\n      <td>0</td>\n      <td>0</td>\n    </tr>\n    <tr>\n      <th>3646</th>\n      <td>990000</td>\n      <td>Nissumvej 4</td>\n      <td>Vestjylland</td>\n      <td>Holiday home</td>\n      <td>48.0</td>\n      <td>Energimærke C</td>\n      <td>117.0</td>\n      <td>800.0</td>\n      <td>3.0</td>\n      <td>1.566</td>\n      <td>...</td>\n      <td>6561.0</td>\n      <td>0</td>\n      <td>0</td>\n      <td>0</td>\n      <td>0</td>\n      <td>0</td>\n      <td>0</td>\n      <td>1</td>\n      <td>0</td>\n      <td>0</td>\n    </tr>\n    <tr>\n      <th>3647</th>\n      <td>1695000</td>\n      <td>Baunetoften 12</td>\n      <td>Nordsjælland</td>\n      <td>Terraced house</td>\n      <td>240.0</td>\n      <td>Energimærke C</td>\n      <td>86.0</td>\n      <td>103.0</td>\n      <td>4.0</td>\n      <td>2.184</td>\n      <td>...</td>\n      <td>1089.0</td>\n      <td>0</td>\n      <td>0</td>\n      <td>1</td>\n      <td>0</td>\n      <td>0</td>\n      <td>0</td>\n      <td>0</td>\n      <td>0</td>\n      <td>0</td>\n    </tr>\n    <tr>\n      <th>3648</th>\n      <td>650000</td>\n      <td>Aalevej 40</td>\n      <td>Østjylland</td>\n      <td>Villa</td>\n      <td>48.0</td>\n      <td>Energimærke D</td>\n      <td>79.0</td>\n      <td>829.0</td>\n      <td>3.0</td>\n      <td>1.464</td>\n      <td>...</td>\n      <td>4624.0</td>\n      <td>0</td>\n      <td>0</td>\n      <td>0</td>\n      <td>0</td>\n      <td>0</td>\n      <td>0</td>\n      <td>1</td>\n      <td>0</td>\n      <td>0</td>\n    </tr>\n    <tr>\n      <th>3649</th>\n      <td>8500000</td>\n      <td>Vestre Skovvej 30</td>\n      <td>Østjylland</td>\n      <td>Terraced house</td>\n      <td>48.0</td>\n      <td>Energimærke A</td>\n      <td>133.0</td>\n      <td>129.0</td>\n      <td>5.0</td>\n      <td>4.615</td>\n      <td>...</td>\n      <td>0.0</td>\n      <td>0</td>\n      <td>0</td>\n      <td>0</td>\n      <td>0</td>\n      <td>0</td>\n      <td>0</td>\n      <td>0</td>\n      <td>1</td>\n      <td>0</td>\n    </tr>\n  </tbody>\n</table>\n<p>3650 rows × 39 columns</p>\n</div>"
     },
     "execution_count": 5,
     "metadata": {},
     "output_type": "execute_result"
    }
   ],
   "source": [
    "## Data Cleaning\n",
    "# Get energy dummy\n",
    "sample_data = pd.read_csv('../EXAM/data/cleaned_data.csv',encoding='utf-16')\n",
    "df = pd.DataFrame(sample_data)\n",
    "df\n"
   ],
   "metadata": {
    "collapsed": false,
    "ExecuteTime": {
     "end_time": "2023-08-19T10:09:44.184066Z",
     "start_time": "2023-08-19T10:09:44.114624Z"
    }
   },
   "id": "6ee0bffb499ff684"
  },
  {
   "cell_type": "code",
   "execution_count": 6,
   "outputs": [],
   "source": [
    "## Dataset split\n",
    "columns_to_drop = ['price','address','city','type','energy', 'year','area_name','area_digit_1','area_digit_2','area_digit_3','area_digit_4','area_digit_5','area_digit_6','area_digit_7','area_digit_8','area_digit_9']\n",
    "X,y = df.drop(columns_to_drop,axis=1),df.price\n",
    "test_size = 0.30 # taking 70:30 training and test set\n",
    "seed = 17082023 # Random number seeding for repeatability of the code\n",
    "X_train, X_test, y_train, y_test = train_test_split(X, y, test_size=test_size, random_state=seed)\n",
    "# Standardize X\n",
    "norm_scaler = StandardScaler().fit(X_train)\n",
    "X_train_std = norm_scaler.transform(X_train)\n",
    "X_test_std = norm_scaler.transform(X_test)\n",
    "X_train_std = pd.DataFrame(X_train_std,columns=X.columns)\n",
    "X_test_std = pd.DataFrame(X_test_std,columns=X.columns)\n",
    "X_std = pd.concat([X_train_std,X_test_std],axis=1)"
   ],
   "metadata": {
    "collapsed": false,
    "ExecuteTime": {
     "end_time": "2023-08-19T10:10:09.130425Z",
     "start_time": "2023-08-19T10:10:09.116181Z"
    }
   },
   "id": "b05051e1b5d25e50"
  },
  {
   "cell_type": "code",
   "execution_count": 7,
   "outputs": [],
   "source": [
    "## Initialize visualization set\n",
    "sns.set(style='whitegrid', palette='pastel', color_codes=True)\n",
    "sns.mpl.rc('figure', figsize=(10,6))"
   ],
   "metadata": {
    "collapsed": false,
    "ExecuteTime": {
     "end_time": "2023-08-19T10:10:11.649207Z",
     "start_time": "2023-08-19T10:10:11.645952Z"
    }
   },
   "id": "2755f2bfabdc9d5e"
  },
  {
   "cell_type": "code",
   "execution_count": 6,
   "outputs": [
    {
     "data": {
      "text/plain": "'1kmE3886N3680'"
     },
     "execution_count": 6,
     "metadata": {},
     "output_type": "execute_result"
    }
   ],
   "source": [
    "#opening the vector map\n",
    "with ZipFile('Denmark_shapefile.zip') as shpfile:\n",
    "    shpfile.extractall(path='../EXAM/Denmark_shapefile')\n",
    "shp_path = '../EXAM/Denmark_shapefile/dk_1km.shp'\n",
    "#reading the shape file by using reader function of the shape lib\n",
    "sf = shp.Reader(shp_path)\n",
    "len(sf.shapes())\n",
    "# sf.records()\n",
    "sf.records()[1][0]\n"
   ],
   "metadata": {
    "collapsed": false,
    "ExecuteTime": {
     "end_time": "2023-08-18T11:44:27.447925Z",
     "start_time": "2023-08-18T11:44:25.054672Z"
    }
   },
   "id": "2d42f82cd9860c01"
  }
 ],
 "metadata": {
  "kernelspec": {
   "display_name": "Python 3",
   "language": "python",
   "name": "python3"
  },
  "language_info": {
   "codemirror_mode": {
    "name": "ipython",
    "version": 2
   },
   "file_extension": ".py",
   "mimetype": "text/x-python",
   "name": "python",
   "nbconvert_exporter": "python",
   "pygments_lexer": "ipython2",
   "version": "2.7.6"
  }
 },
 "nbformat": 4,
 "nbformat_minor": 5
}
