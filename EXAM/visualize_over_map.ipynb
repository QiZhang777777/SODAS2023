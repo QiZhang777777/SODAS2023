{
 "cells": [
  {
   "cell_type": "markdown",
   "source": [
    "If ever necesary, this part can be done following https://towardsdatascience.com/mapping-with-matplotlib-pandas-geopandas-and-basemap-in-python-d11b57ab5dac"
   ],
   "metadata": {
    "collapsed": false
   },
   "id": "e0ed9d5aa6bdc076"
  },
  {
   "cell_type": "code",
   "execution_count": 1,
   "outputs": [],
   "source": [
    "## Import libraries\n",
    "import pandas as pd\n",
    "import numpy as np\n",
    "from sklearn.metrics import classification_report\n",
    "from sklearn.ensemble import HistGradientBoostingClassifier\n",
    "from sklearn.model_selection import train_test_split\n",
    "from sklearn.metrics import mean_squared_error as mse\n",
    "from sklearn.metrics import r2_score\n",
    "from sklearn.neighbors import KNeighborsClassifier\n",
    "from sklearn.preprocessing import StandardScaler\n",
    "from matplotlib import pyplot as plt\n",
    "from mlxtend.plotting import plot_decision_regions\n",
    "import shapefile as shp\n",
    "import seaborn as sns\n",
    "from zipfile import ZipFile"
   ],
   "metadata": {
    "collapsed": false,
    "ExecuteTime": {
     "start_time": "2023-08-18T11:43:37.278888Z"
    }
   },
   "id": "909d38210c04d3ee"
  },
  {
   "cell_type": "code",
   "execution_count": 3,
   "outputs": [],
   "source": [
    "## Data Cleaning\n",
    "# Get energy dummy\n",
    "sample_data = pd.read_excel('../EXAM/data/cleaned_data_excel.xlsx')\n",
    "df = pd.DataFrame(sample_data)\n",
    "df['energy'] = df['energy'].str.replace('Energimærke ', '')\n",
    "df['energy'] = df['energy'].str.replace('A2015','A')\n",
    "df['energy'] = df['energy'].str.replace('A2020','A')\n",
    "dummy_energy = pd.get_dummies(df['energy'])\n",
    "df = pd.concat([df,dummy_energy],axis=1)\n",
    "\n",
    "# Change constructing year to construction age\n",
    "\n",
    "df['age'] = 2023 - df['year']\n"
   ],
   "metadata": {
    "collapsed": false,
    "ExecuteTime": {
     "end_time": "2023-08-18T11:44:19.569682Z",
     "start_time": "2023-08-18T11:44:18.680792Z"
    }
   },
   "id": "6ee0bffb499ff684"
  },
  {
   "cell_type": "code",
   "execution_count": 7,
   "outputs": [
    {
     "name": "stdout",
     "output_type": "stream",
     "text": [
      "      saledays  living_space  ground_space  rooms  owner_expenses  area_code  \\\n",
      "0          202           170          1019      2            2598       4591   \n",
      "1          255           248           984      8            8643       2900   \n",
      "2            0           163           858      5            3343       7100   \n",
      "3            0           130           649      4            4974       2740   \n",
      "4            0           173          1335      7            2673       8930   \n",
      "...        ...           ...           ...    ...             ...        ...   \n",
      "3001        48           109           506      3            1922       5250   \n",
      "3002        48           117           800      3            1566       7620   \n",
      "3003       240            86           103      4            2184       3320   \n",
      "3004        48            79           829      3            1464       7160   \n",
      "3005        48           133           129      5            4615       8240   \n",
      "\n",
      "      Andelsbolig  Ejerlejlighed  Landejendom  Landejendom/Landejendom  ...  \\\n",
      "0               0              0            0                        0  ...   \n",
      "1               0              0            0                        0  ...   \n",
      "2               0              0            0                        0  ...   \n",
      "3               0              0            0                        0  ...   \n",
      "4               0              0            0                        0  ...   \n",
      "...           ...            ...          ...                      ...  ...   \n",
      "3001            0              0            0                        0  ...   \n",
      "3002            0              0            0                        0  ...   \n",
      "3003            0              0            0                        0  ...   \n",
      "3004            0              0            0                        0  ...   \n",
      "3005            0              0            0                        0  ...   \n",
      "\n",
      "      Energimærke G  A  B  C  D  E  F  G  Villa/Fritidsbolig  age  \n",
      "0                 0  0  0  0  1  0  0  0                   0   45  \n",
      "1                 0  0  0  0  0  1  0  0                   0   82  \n",
      "2                 0  0  0  1  0  0  0  0                   0   58  \n",
      "3                 0  0  0  0  1  0  0  0                   0   53  \n",
      "4                 0  0  0  0  1  0  0  0                   0   54  \n",
      "...             ... .. .. .. .. .. .. ..                 ...  ...  \n",
      "3001              1  0  0  0  0  0  0  1                   0   88  \n",
      "3002              0  0  0  1  0  0  0  0                   0   81  \n",
      "3003              0  0  0  1  0  0  0  0                   0   33  \n",
      "3004              0  0  0  0  1  0  0  0                   0   68  \n",
      "3005              0  0  0  0  0  0  0  0                   1    0  \n",
      "\n",
      "[3006 rows x 31 columns]\n"
     ]
    }
   ],
   "source": [
    "## Dataset split\n",
    "columns_to_drop = ['price','address','city','type','energy', 'year','area_name']\n",
    "X,y = df.drop(columns_to_drop,axis=1),df.price\n",
    "test_size = 0.30 # taking 70:30 training and test set\n",
    "seed = 17082023 # Random number seeding for repeatability of the code\n",
    "X_train, X_test, y_train, y_test = train_test_split(X, y, test_size=test_size, random_state=seed)\n",
    "# Standardize X\n",
    "norm_scaler = StandardScaler().fit(X_train)\n",
    "X_train_std = norm_scaler.transform(X_train)\n",
    "X_test_std = norm_scaler.transform(X_test)\n",
    "X_train_std = pd.DataFrame(X_train_std,columns=X.columns)\n",
    "X_test_std = pd.DataFrame(X_test_std,columns=X.columns)\n",
    "X_std = pd.concat([X_train_std,X_test_std],axis=1)"
   ],
   "metadata": {
    "collapsed": false,
    "ExecuteTime": {
     "end_time": "2023-08-18T11:44:38.497973Z",
     "start_time": "2023-08-18T11:44:38.475719Z"
    }
   },
   "id": "b05051e1b5d25e50"
  },
  {
   "cell_type": "code",
   "execution_count": 5,
   "outputs": [],
   "source": [
    "## Initialize visualization set\n",
    "sns.set(style='whitegrid', palette='pastel', color_codes=True)\n",
    "sns.mpl.rc('figure', figsize=(10,6))"
   ],
   "metadata": {
    "collapsed": false,
    "ExecuteTime": {
     "end_time": "2023-08-18T11:44:23.737529Z",
     "start_time": "2023-08-18T11:44:23.733732Z"
    }
   },
   "id": "2755f2bfabdc9d5e"
  },
  {
   "cell_type": "code",
   "execution_count": 6,
   "outputs": [
    {
     "data": {
      "text/plain": "'1kmE3886N3680'"
     },
     "execution_count": 6,
     "metadata": {},
     "output_type": "execute_result"
    }
   ],
   "source": [
    "#opening the vector map\n",
    "with ZipFile('Denmark_shapefile.zip') as shpfile:\n",
    "    shpfile.extractall(path='../EXAM/Denmark_shapefile')\n",
    "shp_path = '../EXAM/Denmark_shapefile/dk_1km.shp'\n",
    "#reading the shape file by using reader function of the shape lib\n",
    "sf = shp.Reader(shp_path)\n",
    "len(sf.shapes())\n",
    "# sf.records()\n",
    "sf.records()[1][0]\n"
   ],
   "metadata": {
    "collapsed": false,
    "ExecuteTime": {
     "end_time": "2023-08-18T11:44:27.447925Z",
     "start_time": "2023-08-18T11:44:25.054672Z"
    }
   },
   "id": "2d42f82cd9860c01"
  }
 ],
 "metadata": {
  "kernelspec": {
   "display_name": "Python 3",
   "language": "python",
   "name": "python3"
  },
  "language_info": {
   "codemirror_mode": {
    "name": "ipython",
    "version": 2
   },
   "file_extension": ".py",
   "mimetype": "text/x-python",
   "name": "python",
   "nbconvert_exporter": "python",
   "pygments_lexer": "ipython2",
   "version": "2.7.6"
  }
 },
 "nbformat": 4,
 "nbformat_minor": 5
}
