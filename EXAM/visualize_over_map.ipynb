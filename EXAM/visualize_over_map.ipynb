{
 "cells": [
  {
   "cell_type": "code",
   "execution_count": 2,
   "outputs": [],
   "source": [
    "## Import libraries\n",
    "import pandas as pd\n",
    "import numpy as np\n",
    "from sklearn.metrics import classification_report\n",
    "from sklearn.ensemble import HistGradientBoostingClassifier\n",
    "from sklearn.model_selection import train_test_split\n",
    "from sklearn.metrics import mean_squared_error as mse\n",
    "from sklearn.metrics import r2_score\n",
    "from sklearn.neighbors import KNeighborsClassifier\n",
    "from sklearn.preprocessing import StandardScaler\n",
    "from matplotlib import pyplot as plt\n",
    "from mlxtend.plotting import plot_decision_regions\n",
    "import shapefile as shp\n",
    "import seaborn as sns\n",
    "from zipfile import ZipFile"
   ],
   "metadata": {
    "collapsed": false,
    "ExecuteTime": {
     "end_time": "2023-08-17T20:51:51.220157Z",
     "start_time": "2023-08-17T20:51:50.728445Z"
    }
   },
   "id": "909d38210c04d3ee"
  },
  {
   "cell_type": "code",
   "execution_count": 13,
   "outputs": [],
   "source": [
    "## Data Cleaning\n",
    "# Get energy dummy\n",
    "sample_data = pd.read_csv('../EXAM/data/cleaned_data.csv',encoding='utf-16')\n",
    "df = pd.DataFrame(sample_data)\n",
    "df['energy'] = df['energy'].str.replace('Energimærke ', '')\n",
    "df['energy'] = df['energy'].str.replace('A2015','A')\n",
    "df['energy'] = df['energy'].str.replace('A2020','A')\n",
    "dummy_energy = pd.get_dummies(df['energy'])\n",
    "df = pd.concat([df,dummy_energy],axis=1)\n",
    "\n",
    "# Change constructing year to construction age\n",
    "\n",
    "df['age'] = 2023 - df['year']\n"
   ],
   "metadata": {
    "collapsed": false
   },
   "id": "6ee0bffb499ff684"
  },
  {
   "cell_type": "code",
   "execution_count": 14,
   "outputs": [],
   "source": [
    "## Dataset split\n",
    "columns_to_drop = ['price','address','city','type','energy', 'year','area_name']\n",
    "X,y = df.drop(columns_to_drop,axis=1),df.price\n",
    "test_size = 0.30 # taking 70:30 training and test set\n",
    "seed = 17082023 # Random number seeding for repeatability of the code\n",
    "X_train, X_test, y_train, y_test = train_test_split(X, y, test_size=test_size, random_state=seed)\n",
    "# Standardize X\n",
    "norm_scaler = StandardScaler().fit(X_train)\n",
    "X_train_std = norm_scaler.transform(X_train)\n",
    "X_test_std = norm_scaler.transform(X_test)\n",
    "X_train_std = pd.DataFrame(X_train_std,columns=X.columns)\n",
    "X_test_std = pd.DataFrame(X_test_std,columns=X.columns)\n",
    "X_std = pd.concat([X_train_std,X_test_std],axis=1)"
   ],
   "metadata": {
    "collapsed": false
   },
   "id": "b05051e1b5d25e50"
  },
  {
   "cell_type": "code",
   "execution_count": null,
   "outputs": [],
   "source": [
    "## Initialize visualization set\n",
    "sns.set(style='whitegrid', palette='pastel', color_codes=True)\n",
    "sns.mpl.rc('figure', figsize=(10,6))"
   ],
   "metadata": {
    "collapsed": false
   },
   "id": "2755f2bfabdc9d5e"
  },
  {
   "cell_type": "code",
   "execution_count": 9,
   "outputs": [
    {
     "data": {
      "text/plain": "'1kmE3886N3680'"
     },
     "execution_count": 9,
     "metadata": {},
     "output_type": "execute_result"
    }
   ],
   "source": [
    "#opening the vector map\n",
    "with ZipFile('Denmark_shapefile.zip') as shpfile:\n",
    "    shpfile.extractall(path='../EXAM/Denmark_shapefile')\n",
    "shp_path = '../EXAM/Denmark_shapefile/dk_1km.shp'\n",
    "#reading the shape file by using reader function of the shape lib\n",
    "sf = shp.Reader(shp_path)\n",
    "len(sf.shapes())\n",
    "# sf.records()\n",
    "sf.records()[1][0]\n"
   ],
   "metadata": {
    "collapsed": false,
    "ExecuteTime": {
     "end_time": "2023-08-17T20:57:22.434593Z",
     "start_time": "2023-08-17T20:57:19.299698Z"
    }
   },
   "id": "2d42f82cd9860c01"
  }
 ],
 "metadata": {
  "kernelspec": {
   "display_name": "Python 3",
   "language": "python",
   "name": "python3"
  },
  "language_info": {
   "codemirror_mode": {
    "name": "ipython",
    "version": 2
   },
   "file_extension": ".py",
   "mimetype": "text/x-python",
   "name": "python",
   "nbconvert_exporter": "python",
   "pygments_lexer": "ipython2",
   "version": "2.7.6"
  }
 },
 "nbformat": 4,
 "nbformat_minor": 5
}
