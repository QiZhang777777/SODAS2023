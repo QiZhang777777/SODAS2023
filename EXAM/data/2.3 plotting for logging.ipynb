{
 "cells": [
  {
   "cell_type": "code",
   "execution_count": 45,
   "metadata": {},
   "outputs": [],
   "source": [
    "import pandas as pd\n",
    "import matplotlib.pyplot as plt\n",
    "import seaborn as sns # Add-on toolkit for plt"
   ]
  },
  {
   "cell_type": "code",
   "execution_count": 10,
   "metadata": {},
   "outputs": [
    {
     "data": {
      "text/html": [
       "<div>\n",
       "<style scoped>\n",
       "    .dataframe tbody tr th:only-of-type {\n",
       "        vertical-align: middle;\n",
       "    }\n",
       "\n",
       "    .dataframe tbody tr th {\n",
       "        vertical-align: top;\n",
       "    }\n",
       "\n",
       "    .dataframe thead th {\n",
       "        text-align: right;\n",
       "    }\n",
       "</style>\n",
       "<table border=\"1\" class=\"dataframe\">\n",
       "  <thead>\n",
       "    <tr style=\"text-align: right;\">\n",
       "      <th></th>\n",
       "      <th>timestamp;status_code;length;output_file</th>\n",
       "    </tr>\n",
       "  </thead>\n",
       "  <tbody>\n",
       "    <tr>\n",
       "      <th>0</th>\n",
       "      <td>2023-08-17 18:49:38;200;257977;c:\\Users\\Archie...</td>\n",
       "    </tr>\n",
       "    <tr>\n",
       "      <th>1</th>\n",
       "      <td>2023-08-17 18:49:38;200;269497;c:\\Users\\Archie...</td>\n",
       "    </tr>\n",
       "    <tr>\n",
       "      <th>2</th>\n",
       "      <td>2023-08-17 18:49:39;200;274175;c:\\Users\\Archie...</td>\n",
       "    </tr>\n",
       "    <tr>\n",
       "      <th>3</th>\n",
       "      <td>2023-08-17 18:49:40;200;293840;c:\\Users\\Archie...</td>\n",
       "    </tr>\n",
       "    <tr>\n",
       "      <th>4</th>\n",
       "      <td>2023-08-17 18:49:41;200;284366;c:\\Users\\Archie...</td>\n",
       "    </tr>\n",
       "    <tr>\n",
       "      <th>...</th>\n",
       "      <td>...</td>\n",
       "    </tr>\n",
       "    <tr>\n",
       "      <th>5412</th>\n",
       "      <td>2023-08-18 00:06:48;200;298418;c:\\Users\\Archie...</td>\n",
       "    </tr>\n",
       "    <tr>\n",
       "      <th>5413</th>\n",
       "      <td>2023-08-18 00:06:49;200;322025;c:\\Users\\Archie...</td>\n",
       "    </tr>\n",
       "    <tr>\n",
       "      <th>5414</th>\n",
       "      <td>2023-08-18 00:06:50;200;343300;c:\\Users\\Archie...</td>\n",
       "    </tr>\n",
       "    <tr>\n",
       "      <th>5415</th>\n",
       "      <td>2023-08-18 00:06:50;200;332609;c:\\Users\\Archie...</td>\n",
       "    </tr>\n",
       "    <tr>\n",
       "      <th>5416</th>\n",
       "      <td>2023-08-18 00:06:51;200;285933;c:\\Users\\Archie...</td>\n",
       "    </tr>\n",
       "  </tbody>\n",
       "</table>\n",
       "<p>5417 rows × 1 columns</p>\n",
       "</div>"
      ],
      "text/plain": [
       "               timestamp;status_code;length;output_file\n",
       "0     2023-08-17 18:49:38;200;257977;c:\\Users\\Archie...\n",
       "1     2023-08-17 18:49:38;200;269497;c:\\Users\\Archie...\n",
       "2     2023-08-17 18:49:39;200;274175;c:\\Users\\Archie...\n",
       "3     2023-08-17 18:49:40;200;293840;c:\\Users\\Archie...\n",
       "4     2023-08-17 18:49:41;200;284366;c:\\Users\\Archie...\n",
       "...                                                 ...\n",
       "5412  2023-08-18 00:06:48;200;298418;c:\\Users\\Archie...\n",
       "5413  2023-08-18 00:06:49;200;322025;c:\\Users\\Archie...\n",
       "5414  2023-08-18 00:06:50;200;343300;c:\\Users\\Archie...\n",
       "5415  2023-08-18 00:06:50;200;332609;c:\\Users\\Archie...\n",
       "5416  2023-08-18 00:06:51;200;285933;c:\\Users\\Archie...\n",
       "\n",
       "[5417 rows x 1 columns]"
      ]
     },
     "execution_count": 10,
     "metadata": {},
     "output_type": "execute_result"
    }
   ],
   "source": [
    "data"
   ]
  },
  {
   "cell_type": "code",
   "execution_count": 16,
   "metadata": {},
   "outputs": [
    {
     "name": "stdout",
     "output_type": "stream",
     "text": [
      "                timestamp  status_code  length  \\\n",
      "0     2023-08-17 18:49:38          200  257977   \n",
      "1     2023-08-17 18:49:38          200  269497   \n",
      "2     2023-08-17 18:49:39          200  274175   \n",
      "3     2023-08-17 18:49:40          200  293840   \n",
      "4     2023-08-17 18:49:41          200  284366   \n",
      "...                   ...          ...     ...   \n",
      "5412  2023-08-18 00:06:48          200  298418   \n",
      "5413  2023-08-18 00:06:49          200  322025   \n",
      "5414  2023-08-18 00:06:50          200  343300   \n",
      "5415  2023-08-18 00:06:50          200  332609   \n",
      "5416  2023-08-18 00:06:51          200  285933   \n",
      "\n",
      "                                            output_file  \n",
      "0     c:\\Users\\Archie\\Desktop\\social data\\SODAS2023\\...  \n",
      "1     c:\\Users\\Archie\\Desktop\\social data\\SODAS2023\\...  \n",
      "2     c:\\Users\\Archie\\Desktop\\social data\\SODAS2023\\...  \n",
      "3     c:\\Users\\Archie\\Desktop\\social data\\SODAS2023\\...  \n",
      "4     c:\\Users\\Archie\\Desktop\\social data\\SODAS2023\\...  \n",
      "...                                                 ...  \n",
      "5412  c:\\Users\\Archie\\Desktop\\social data\\SODAS2023\\...  \n",
      "5413  c:\\Users\\Archie\\Desktop\\social data\\SODAS2023\\...  \n",
      "5414  c:\\Users\\Archie\\Desktop\\social data\\SODAS2023\\...  \n",
      "5415  c:\\Users\\Archie\\Desktop\\social data\\SODAS2023\\...  \n",
      "5416  c:\\Users\\Archie\\Desktop\\social data\\SODAS2023\\...  \n",
      "\n",
      "[5417 rows x 4 columns]\n"
     ]
    }
   ],
   "source": [
    "# Read the provided data into a DataFrame\n",
    "data = pd.read_csv('log.csv', sep=';')\n",
    "\n",
    "# Display the cleaned DataFrame\n",
    "print(data)"
   ]
  },
  {
   "cell_type": "code",
   "execution_count": 42,
   "metadata": {},
   "outputs": [
    {
     "data": {
      "image/png": "[encoded data removed]",
      "text/plain": [
       "<Figure size 504x216 with 1 Axes>"
      ]
     },
     "metadata": {
      "needs_background": "light"
     },
     "output_type": "display_data"
    }
   ],
   "source": [
    "# plot for response code\n",
    "fig, ax = plt.subplots(figsize=(7, 3))\n",
    "ax.plot(data['timestamp'], data['status_code'], marker='o')\n",
    "ax.set(xlabel='Timestamp', ylabel='Response Code')\n",
    "\n",
    "# Save figure\n",
    "plt.savefig('response_codes_chart.png')"
   ]
  },
  {
   "cell_type": "code",
   "execution_count": 26,
   "metadata": {},
   "outputs": [],
   "source": [
    "# creat a new column 'seconds'\n",
    "\n",
    "# Convert 'timestamp' column to datetime\n",
    "data['timestamp'] = pd.to_datetime(data['timestamp'])\n",
    "\n",
    "# Calculate time gap between successive scrapes\n",
    "data['time_gap'] = data['timestamp'].diff().dt.total_seconds()\n"
   ]
  },
  {
   "cell_type": "code",
   "execution_count": 27,
   "metadata": {},
   "outputs": [
    {
     "data": {
      "text/html": [
       "<div>\n",
       "<style scoped>\n",
       "    .dataframe tbody tr th:only-of-type {\n",
       "        vertical-align: middle;\n",
       "    }\n",
       "\n",
       "    .dataframe tbody tr th {\n",
       "        vertical-align: top;\n",
       "    }\n",
       "\n",
       "    .dataframe thead th {\n",
       "        text-align: right;\n",
       "    }\n",
       "</style>\n",
       "<table border=\"1\" class=\"dataframe\">\n",
       "  <thead>\n",
       "    <tr style=\"text-align: right;\">\n",
       "      <th></th>\n",
       "      <th>timestamp</th>\n",
       "      <th>status_code</th>\n",
       "      <th>length</th>\n",
       "      <th>output_file</th>\n",
       "      <th>time_gap</th>\n",
       "    </tr>\n",
       "  </thead>\n",
       "  <tbody>\n",
       "    <tr>\n",
       "      <th>0</th>\n",
       "      <td>2023-08-17 18:49:38</td>\n",
       "      <td>200</td>\n",
       "      <td>257977</td>\n",
       "      <td>c:\\Users\\Archie\\Desktop\\social data\\SODAS2023\\...</td>\n",
       "      <td>NaN</td>\n",
       "    </tr>\n",
       "    <tr>\n",
       "      <th>1</th>\n",
       "      <td>2023-08-17 18:49:38</td>\n",
       "      <td>200</td>\n",
       "      <td>269497</td>\n",
       "      <td>c:\\Users\\Archie\\Desktop\\social data\\SODAS2023\\...</td>\n",
       "      <td>0.0</td>\n",
       "    </tr>\n",
       "    <tr>\n",
       "      <th>2</th>\n",
       "      <td>2023-08-17 18:49:39</td>\n",
       "      <td>200</td>\n",
       "      <td>274175</td>\n",
       "      <td>c:\\Users\\Archie\\Desktop\\social data\\SODAS2023\\...</td>\n",
       "      <td>1.0</td>\n",
       "    </tr>\n",
       "    <tr>\n",
       "      <th>3</th>\n",
       "      <td>2023-08-17 18:49:40</td>\n",
       "      <td>200</td>\n",
       "      <td>293840</td>\n",
       "      <td>c:\\Users\\Archie\\Desktop\\social data\\SODAS2023\\...</td>\n",
       "      <td>1.0</td>\n",
       "    </tr>\n",
       "    <tr>\n",
       "      <th>4</th>\n",
       "      <td>2023-08-17 18:49:41</td>\n",
       "      <td>200</td>\n",
       "      <td>284366</td>\n",
       "      <td>c:\\Users\\Archie\\Desktop\\social data\\SODAS2023\\...</td>\n",
       "      <td>1.0</td>\n",
       "    </tr>\n",
       "    <tr>\n",
       "      <th>...</th>\n",
       "      <td>...</td>\n",
       "      <td>...</td>\n",
       "      <td>...</td>\n",
       "      <td>...</td>\n",
       "      <td>...</td>\n",
       "    </tr>\n",
       "    <tr>\n",
       "      <th>5412</th>\n",
       "      <td>2023-08-18 00:06:48</td>\n",
       "      <td>200</td>\n",
       "      <td>298418</td>\n",
       "      <td>c:\\Users\\Archie\\Desktop\\social data\\SODAS2023\\...</td>\n",
       "      <td>0.0</td>\n",
       "    </tr>\n",
       "    <tr>\n",
       "      <th>5413</th>\n",
       "      <td>2023-08-18 00:06:49</td>\n",
       "      <td>200</td>\n",
       "      <td>322025</td>\n",
       "      <td>c:\\Users\\Archie\\Desktop\\social data\\SODAS2023\\...</td>\n",
       "      <td>1.0</td>\n",
       "    </tr>\n",
       "    <tr>\n",
       "      <th>5414</th>\n",
       "      <td>2023-08-18 00:06:50</td>\n",
       "      <td>200</td>\n",
       "      <td>343300</td>\n",
       "      <td>c:\\Users\\Archie\\Desktop\\social data\\SODAS2023\\...</td>\n",
       "      <td>1.0</td>\n",
       "    </tr>\n",
       "    <tr>\n",
       "      <th>5415</th>\n",
       "      <td>2023-08-18 00:06:50</td>\n",
       "      <td>200</td>\n",
       "      <td>332609</td>\n",
       "      <td>c:\\Users\\Archie\\Desktop\\social data\\SODAS2023\\...</td>\n",
       "      <td>0.0</td>\n",
       "    </tr>\n",
       "    <tr>\n",
       "      <th>5416</th>\n",
       "      <td>2023-08-18 00:06:51</td>\n",
       "      <td>200</td>\n",
       "      <td>285933</td>\n",
       "      <td>c:\\Users\\Archie\\Desktop\\social data\\SODAS2023\\...</td>\n",
       "      <td>1.0</td>\n",
       "    </tr>\n",
       "  </tbody>\n",
       "</table>\n",
       "<p>5417 rows × 5 columns</p>\n",
       "</div>"
      ],
      "text/plain": [
       "               timestamp  status_code  length  \\\n",
       "0    2023-08-17 18:49:38          200  257977   \n",
       "1    2023-08-17 18:49:38          200  269497   \n",
       "2    2023-08-17 18:49:39          200  274175   \n",
       "3    2023-08-17 18:49:40          200  293840   \n",
       "4    2023-08-17 18:49:41          200  284366   \n",
       "...                  ...          ...     ...   \n",
       "5412 2023-08-18 00:06:48          200  298418   \n",
       "5413 2023-08-18 00:06:49          200  322025   \n",
       "5414 2023-08-18 00:06:50          200  343300   \n",
       "5415 2023-08-18 00:06:50          200  332609   \n",
       "5416 2023-08-18 00:06:51          200  285933   \n",
       "\n",
       "                                            output_file  time_gap  \n",
       "0     c:\\Users\\Archie\\Desktop\\social data\\SODAS2023\\...       NaN  \n",
       "1     c:\\Users\\Archie\\Desktop\\social data\\SODAS2023\\...       0.0  \n",
       "2     c:\\Users\\Archie\\Desktop\\social data\\SODAS2023\\...       1.0  \n",
       "3     c:\\Users\\Archie\\Desktop\\social data\\SODAS2023\\...       1.0  \n",
       "4     c:\\Users\\Archie\\Desktop\\social data\\SODAS2023\\...       1.0  \n",
       "...                                                 ...       ...  \n",
       "5412  c:\\Users\\Archie\\Desktop\\social data\\SODAS2023\\...       0.0  \n",
       "5413  c:\\Users\\Archie\\Desktop\\social data\\SODAS2023\\...       1.0  \n",
       "5414  c:\\Users\\Archie\\Desktop\\social data\\SODAS2023\\...       1.0  \n",
       "5415  c:\\Users\\Archie\\Desktop\\social data\\SODAS2023\\...       0.0  \n",
       "5416  c:\\Users\\Archie\\Desktop\\social data\\SODAS2023\\...       1.0  \n",
       "\n",
       "[5417 rows x 5 columns]"
      ]
     },
     "execution_count": 27,
     "metadata": {},
     "output_type": "execute_result"
    }
   ],
   "source": [
    "data"
   ]
  },
  {
   "cell_type": "code",
   "execution_count": 43,
   "metadata": {},
   "outputs": [
    {
     "data": {
      "image/png": "[encoded data removed]",
      "text/plain": [
       "<Figure size 504x216 with 1 Axes>"
      ]
     },
     "metadata": {
      "needs_background": "light"
     },
     "output_type": "display_data"
    }
   ],
   "source": [
    "# Plot for response time\n",
    "fig, ax = plt.subplots(figsize=(7, 3))\n",
    "ax.plot(data['timestamp'], data['time_gap'], marker='o')\n",
    "ax.set(xlabel='Timestamp', ylabel='Time Gap')\n",
    "\n",
    "# Save figure\n",
    "plt.savefig('response_times_chart.png')\n"
   ]
  },
  {
   "cell_type": "code",
   "execution_count": 44,
   "metadata": {},
   "outputs": [
    {
     "data": {
      "image/png": "[encoded data removed]",
      "text/plain": [
       "<Figure size 504x216 with 1 Axes>"
      ]
     },
     "metadata": {
      "needs_background": "light"
     },
     "output_type": "display_data"
    }
   ],
   "source": [
    "# Plot for response size \n",
    "fig, ax = plt.subplots(figsize=(7, 3))\n",
    "ax.plot(data['timestamp'], data['length'], marker='o')\n",
    "ax.set(xlabel='Timestamp', ylabel='Response Size')\n",
    "\n",
    "# Save figure\n",
    "plt.savefig('response_sizes_chart.png')"
   ]
  },
  {
   "cell_type": "code",
   "execution_count": 46,
   "metadata": {},
   "outputs": [
    {
     "name": "stderr",
     "output_type": "stream",
     "text": [
      "c:\\Users\\hhh\\anaconda3\\lib\\site-packages\\seaborn\\distributions.py:2619: FutureWarning: `distplot` is a deprecated function and will be removed in a future version. Please adapt your code to use either `displot` (a figure-level function with similar flexibility) or `histplot` (an axes-level function for histograms).\n",
      "  warnings.warn(msg, FutureWarning)\n"
     ]
    },
    {
     "data": {
      "image/png": "[encoded data removed]",
      "text/plain": [
       "<Figure size 432x288 with 1 Axes>"
      ]
     },
     "metadata": {
      "needs_background": "light"
     },
     "output_type": "display_data"
    }
   ],
   "source": [
    "# Plot distribution for response size\n",
    "rs= data['length']\n",
    "ax = sns.distplot(rs)\n",
    "ax.set(xlabel='response size')\n",
    "plt.savefig('response_sizes_distribution.png')"
   ]
  },
  {
   "cell_type": "code",
   "execution_count": 30,
   "metadata": {},
   "outputs": [],
   "source": [
    "# Save the new dataframe\n",
    "data.to_csv(\"log_new.csv\")"
   ]
  }
 ],
 "metadata": {
  "kernelspec": {
   "display_name": "base",
   "language": "python",
   "name": "python3"
  },
  "language_info": {
   "codemirror_mode": {
    "name": "ipython",
    "version": 3
   },
   "file_extension": ".py",
   "mimetype": "text/x-python",
   "name": "python",
   "nbconvert_exporter": "python",
   "pygments_lexer": "ipython3",
   "version": "3.9.7"
  },
  "orig_nbformat": 4
 },
 "nbformat": 4,
 "nbformat_minor": 2
}
