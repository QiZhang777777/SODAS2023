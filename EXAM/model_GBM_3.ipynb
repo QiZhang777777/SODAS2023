{
 "cells": [
  {
   "cell_type": "code",
   "execution_count": null,
   "id": "initial_id",
   "metadata": {
    "collapsed": true,
    "ExecuteTime": {
     "start_time": "2023-08-21T06:27:30.229385Z"
    }
   },
   "outputs": [],
   "source": [
    "## Importing libraries\n",
    "import pandas as pd\n",
    "import numpy as np\n",
    "from sklearn.metrics import classification_report\n",
    "from sklearn.ensemble import GradientBoostingClassifier\n",
    "from sklearn.model_selection import train_test_split\n",
    "import matplotlib.pyplot as plt\n",
    "from sklearn.metrics import mean_squared_error as mse\n",
    "from sklearn.metrics import r2_score\n",
    "from sklearn.metrics import accuracy_score\n",
    "import seaborn as sns\n",
    "from sklearn.pipeline import make_pipeline\n",
    "from sklearn.preprocessing import StandardScaler, PolynomialFeatures\n",
    "from sklearn.model_selection import KFold, cross_val_score"
   ]
  },
  {
   "cell_type": "code",
   "execution_count": null,
   "outputs": [],
   "source": [
    "## Data Cleaning\n",
    "sample_data = pd.read_csv('../EXAM/data/cleaned_data.csv',encoding='utf-16')\n",
    "df = pd.DataFrame(sample_data)"
   ],
   "metadata": {
    "collapsed": false,
    "ExecuteTime": {
     "start_time": "2023-08-21T06:27:30.230157Z"
    }
   },
   "id": "786d241c470f8634"
  },
  {
   "cell_type": "code",
   "execution_count": null,
   "outputs": [],
   "source": [
    "## Dataset split\n",
    "columns_to_drop = ['price','address','city','type','energy', 'year','area_name', 'age_squared', 'area_code','area_digit_1','area_digit_2','area_digit_3','area_digit_4','area_digit_5','area_digit_6','area_digit_7','area_digit_8','area_digit_9']\n",
    "X,y = df.drop(columns_to_drop,axis=1),df.price\n",
    "test_size = 0.30 # taking 70:30 training and test set\n",
    "seed = 17082023 # Random number seeding for repeatability of the code\n",
    "X_train, X_test, y_train, y_test = train_test_split(X, y, test_size=test_size, random_state=seed)\n",
    "print(X.columns)"
   ],
   "metadata": {
    "collapsed": false,
    "ExecuteTime": {
     "start_time": "2023-08-21T06:27:30.239135Z"
    }
   },
   "id": "e59bd210221eaee4"
  },
  {
   "cell_type": "code",
   "execution_count": null,
   "outputs": [],
   "source": [
    "## Heat map\n",
    "XcorrHeat = sns.heatmap(X.corr())\n",
    "fig = XcorrHeat.get_figure()\n",
    "plt.savefig('Xvar_corr_heat_map.png', bbox_inches='tight')"
   ],
   "metadata": {
    "collapsed": false,
    "ExecuteTime": {
     "start_time": "2023-08-21T06:27:30.239300Z"
    }
   },
   "id": "f5687299d5a44dc8"
  },
  {
   "cell_type": "code",
   "execution_count": null,
   "outputs": [],
   "source": [
    "## Main model\n",
    "best_param = {\n",
    "    'learning_rate': 0.01,\n",
    "    'max_depth': 1\n",
    "}\n",
    "\n",
    "gradient_booster = GradientBoostingClassifier(**best_param)\n",
    "# Gradient boosting classifiers are required to implement gradient boosting.\n",
    "gradient_booster.fit(X_train,y_train)\n",
    "y_test_predict = gradient_booster.predict(X_test)"
   ],
   "metadata": {
    "collapsed": false,
    "ExecuteTime": {
     "start_time": "2023-08-21T06:27:30.239334Z"
    }
   },
   "id": "ac833ad706704629"
  },
  {
   "cell_type": "code",
   "execution_count": null,
   "outputs": [],
   "source": [
    "## R-squared\n",
    "r2_GBM = r2_score(y_test,y_test_predict)\n",
    "r2_GBM"
   ],
   "metadata": {
    "collapsed": false,
    "ExecuteTime": {
     "start_time": "2023-08-21T06:27:30.239354Z"
    }
   },
   "id": "39d26ae3a301e06c"
  },
  {
   "cell_type": "code",
   "execution_count": null,
   "outputs": [],
   "source": [
    "feat_imp_dict = pd.DataFrame([gradient_booster.feature_importances_,X.columns]).T\n",
    "feat_imp_dict.columns = ['Importance','Feature']\n",
    "feat_imp_dict = feat_imp_dict.set_index('Feature',drop=True)\n",
    "feat_imp_dict.plot(kind=\"barh\", bbox_inches='tight')\n",
    "plt.savefig('GBM_feature_importance-nonoptimal')"
   ],
   "metadata": {
    "collapsed": false,
    "ExecuteTime": {
     "start_time": "2023-08-21T06:27:30.239380Z"
    }
   },
   "id": "5d90013f96f4d320"
  },
  {
   "cell_type": "code",
   "execution_count": null,
   "outputs": [],
   "source": [
    "## Define hyperpara\n",
    "param_grid = {\n",
    "    'max_depth': [1, 2, 3],\n",
    "    'learning_rate': [0.001, 0.01, 0.1, 0.2]\n",
    "}"
   ],
   "metadata": {
    "collapsed": false,
    "ExecuteTime": {
     "start_time": "2023-08-21T06:27:30.239405Z"
    }
   },
   "id": "a6bdad1735dec365"
  },
  {
   "cell_type": "code",
   "execution_count": null,
   "outputs": [],
   "source": [
    "## 10-fold cross validation\n",
    "num_folds = 10\n",
    "kfolds = KFold(n_splits=num_folds, shuffle=True, random_state=seed)\n",
    "\n",
    "best_score = float('-inf')\n",
    "best_params = {}\n",
    "\n",
    "for max_depth in param_grid['max_depth']:\n",
    "    for learning_rate in param_grid['learning_rate']:\n",
    "        params = {\n",
    "            'max_depth': max_depth,\n",
    "            'learning_rate': learning_rate\n",
    "        }\n",
    "\n",
    "        model = GradientBoostingClassifier(**params)\n",
    "        scores = cross_val_score(model, X_train, y_train, cv=kfolds, scoring='neg_mean_squared_error')\n",
    "        avg_score = np.mean(scores)\n",
    "\n",
    "        if avg_score > best_score:\n",
    "            best_score = avg_score\n",
    "            best_params = params\n",
    "\n",
    "print('Best Parameters:', best_params)\n",
    "print('Best Score:', -best_score)  # Convert back to positive mean squared error\n",
    "\n",
    "# Fitting the model with best para\n",
    "final_model = GradientBoostingClassifier(**best_params)\n",
    "final_model.fit(X_train, y_train)\n",
    "\n",
    "y_test_predict = final_model.predict(X_test)"
   ],
   "metadata": {
    "collapsed": false,
    "ExecuteTime": {
     "end_time": "2023-08-21T06:27:30.239559Z",
     "start_time": "2023-08-21T06:27:30.239424Z"
    }
   },
   "id": "49d022ce394db2ef"
  },
  {
   "cell_type": "code",
   "execution_count": null,
   "outputs": [],
   "source": [
    "## R-squared\n",
    "r2_GBM = r2_score(y_test,y_test_predict)\n",
    "r2_GBM"
   ],
   "metadata": {
    "collapsed": false,
    "ExecuteTime": {
     "start_time": "2023-08-21T06:27:30.239450Z"
    }
   },
   "id": "e244a6b9b987e93a"
  },
  {
   "cell_type": "code",
   "execution_count": null,
   "outputs": [],
   "source": [
    "# Feature Importance\n",
    "feat_imp_dict = pd.DataFrame([gradient_booster.feature_importances_,X.columns]).T\n",
    "feat_imp_dict.columns = ['Importance','Feature']\n",
    "feat_imp_dict = feat_imp_dict.set_index('Feature',drop=True)\n",
    "feat_imp_dict.plot(kind=\"barh\")\n",
    "plt.savefig('GBM feature importance')\n"
   ],
   "metadata": {
    "collapsed": false,
    "ExecuteTime": {
     "start_time": "2023-08-21T06:27:30.239474Z"
    }
   },
   "id": "926ac1cc66209a24"
  }
 ],
 "metadata": {
  "kernelspec": {
   "display_name": "Python 3",
   "language": "python",
   "name": "python3"
  },
  "language_info": {
   "codemirror_mode": {
    "name": "ipython",
    "version": 2
   },
   "file_extension": ".py",
   "mimetype": "text/x-python",
   "name": "python",
   "nbconvert_exporter": "python",
   "pygments_lexer": "ipython2",
   "version": "2.7.6"
  }
 },
 "nbformat": 4,
 "nbformat_minor": 5
}
